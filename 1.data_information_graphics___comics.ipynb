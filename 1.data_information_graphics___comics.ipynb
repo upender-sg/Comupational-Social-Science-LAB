{
 "cells": [
  {
   "cell_type": "code",
   "execution_count": 80,
   "id": "eb34d382",
   "metadata": {},
   "outputs": [],
   "source": [
    "import pandas as pd\n",
    "import numpy as np"
   ]
  },
  {
   "cell_type": "markdown",
   "id": "86cf288e",
   "metadata": {},
   "source": [
    "# goodreads_books_comics_graphic.json dataset"
   ]
  },
  {
   "cell_type": "markdown",
   "id": "c1e40a18",
   "metadata": {},
   "source": [
    "__Read the good read books information__"
   ]
  },
  {
   "cell_type": "code",
   "execution_count": 81,
   "id": "c0989796",
   "metadata": {},
   "outputs": [],
   "source": [
    "dataframe1 = pd.read_json('goodreads_books_comics_graphic.json', lines=True)"
   ]
  },
  {
   "cell_type": "markdown",
   "id": "e410015f",
   "metadata": {},
   "source": [
    "__Display basic information__"
   ]
  },
  {
   "cell_type": "code",
   "execution_count": 60,
   "id": "adde9932",
   "metadata": {},
   "outputs": [
    {
     "name": "stdout",
     "output_type": "stream",
     "text": [
      "<class 'pandas.core.frame.DataFrame'>\n",
      "RangeIndex: 89411 entries, 0 to 89410\n",
      "Data columns (total 29 columns):\n",
      " #   Column                Non-Null Count  Dtype  \n",
      "---  ------                --------------  -----  \n",
      " 0   isbn                  89411 non-null  object \n",
      " 1   text_reviews_count    89411 non-null  int64  \n",
      " 2   series                89411 non-null  object \n",
      " 3   country_code          89411 non-null  object \n",
      " 4   language_code         89411 non-null  object \n",
      " 5   popular_shelves       89411 non-null  object \n",
      " 6   asin                  89411 non-null  object \n",
      " 7   is_ebook              89411 non-null  object \n",
      " 8   average_rating        89411 non-null  float64\n",
      " 9   kindle_asin           89411 non-null  object \n",
      " 10  similar_books         89411 non-null  object \n",
      " 11  description           89411 non-null  object \n",
      " 12  format                89411 non-null  object \n",
      " 13  link                  89411 non-null  object \n",
      " 14  authors               89411 non-null  object \n",
      " 15  publisher             89411 non-null  object \n",
      " 16  num_pages             89411 non-null  object \n",
      " 17  publication_day       89411 non-null  object \n",
      " 18  isbn13                89411 non-null  object \n",
      " 19  publication_month     89411 non-null  object \n",
      " 20  edition_information   89411 non-null  object \n",
      " 21  publication_year      89411 non-null  object \n",
      " 22  url                   89411 non-null  object \n",
      " 23  image_url             89411 non-null  object \n",
      " 24  book_id               89411 non-null  int64  \n",
      " 25  ratings_count         89411 non-null  int64  \n",
      " 26  work_id               89411 non-null  int64  \n",
      " 27  title                 89411 non-null  object \n",
      " 28  title_without_series  89411 non-null  object \n",
      "dtypes: float64(1), int64(4), object(24)\n",
      "memory usage: 19.8+ MB\n"
     ]
    }
   ],
   "source": [
    "dataframe1.info()"
   ]
  },
  {
   "cell_type": "markdown",
   "id": "671b6ae0",
   "metadata": {},
   "source": [
    "__HEad__"
   ]
  },
  {
   "cell_type": "code",
   "execution_count": 61,
   "id": "2a27caa9",
   "metadata": {},
   "outputs": [
    {
     "data": {
      "text/html": [
       "<div>\n",
       "<style scoped>\n",
       "    .dataframe tbody tr th:only-of-type {\n",
       "        vertical-align: middle;\n",
       "    }\n",
       "\n",
       "    .dataframe tbody tr th {\n",
       "        vertical-align: top;\n",
       "    }\n",
       "\n",
       "    .dataframe thead th {\n",
       "        text-align: right;\n",
       "    }\n",
       "</style>\n",
       "<table border=\"1\" class=\"dataframe\">\n",
       "  <thead>\n",
       "    <tr style=\"text-align: right;\">\n",
       "      <th></th>\n",
       "      <th>isbn</th>\n",
       "      <th>text_reviews_count</th>\n",
       "      <th>series</th>\n",
       "      <th>country_code</th>\n",
       "      <th>language_code</th>\n",
       "      <th>popular_shelves</th>\n",
       "      <th>asin</th>\n",
       "      <th>is_ebook</th>\n",
       "      <th>average_rating</th>\n",
       "      <th>kindle_asin</th>\n",
       "      <th>...</th>\n",
       "      <th>publication_month</th>\n",
       "      <th>edition_information</th>\n",
       "      <th>publication_year</th>\n",
       "      <th>url</th>\n",
       "      <th>image_url</th>\n",
       "      <th>book_id</th>\n",
       "      <th>ratings_count</th>\n",
       "      <th>work_id</th>\n",
       "      <th>title</th>\n",
       "      <th>title_without_series</th>\n",
       "    </tr>\n",
       "  </thead>\n",
       "  <tbody>\n",
       "    <tr>\n",
       "      <th>0</th>\n",
       "      <td></td>\n",
       "      <td>1</td>\n",
       "      <td>[]</td>\n",
       "      <td>US</td>\n",
       "      <td></td>\n",
       "      <td>[{'count': '228', 'name': 'to-read'}, {'count'...</td>\n",
       "      <td>B00NLXQ534</td>\n",
       "      <td>true</td>\n",
       "      <td>4.12</td>\n",
       "      <td></td>\n",
       "      <td>...</td>\n",
       "      <td></td>\n",
       "      <td></td>\n",
       "      <td></td>\n",
       "      <td>https://www.goodreads.com/book/show/25742454-t...</td>\n",
       "      <td>https://s.gr-assets.com/assets/nophoto/book/11...</td>\n",
       "      <td>25742454</td>\n",
       "      <td>1</td>\n",
       "      <td>42749946</td>\n",
       "      <td>The Switchblade Mamma</td>\n",
       "      <td>The Switchblade Mamma</td>\n",
       "    </tr>\n",
       "    <tr>\n",
       "      <th>1</th>\n",
       "      <td>2205073346</td>\n",
       "      <td>2</td>\n",
       "      <td>[]</td>\n",
       "      <td>US</td>\n",
       "      <td>fre</td>\n",
       "      <td>[{'count': '2', 'name': 'bd'}, {'count': '2', ...</td>\n",
       "      <td></td>\n",
       "      <td>false</td>\n",
       "      <td>3.94</td>\n",
       "      <td></td>\n",
       "      <td>...</td>\n",
       "      <td>1</td>\n",
       "      <td></td>\n",
       "      <td>2016</td>\n",
       "      <td>https://www.goodreads.com/book/show/30128855-c...</td>\n",
       "      <td>https://images.gr-assets.com/books/1462644346m...</td>\n",
       "      <td>30128855</td>\n",
       "      <td>16</td>\n",
       "      <td>50558228</td>\n",
       "      <td>Cruelle</td>\n",
       "      <td>Cruelle</td>\n",
       "    </tr>\n",
       "    <tr>\n",
       "      <th>2</th>\n",
       "      <td></td>\n",
       "      <td>5</td>\n",
       "      <td>[246830, 362583, 362581, 623032]</td>\n",
       "      <td>US</td>\n",
       "      <td>eng</td>\n",
       "      <td>[{'count': '493', 'name': 'to-read'}, {'count'...</td>\n",
       "      <td></td>\n",
       "      <td>false</td>\n",
       "      <td>4.28</td>\n",
       "      <td></td>\n",
       "      <td>...</td>\n",
       "      <td></td>\n",
       "      <td></td>\n",
       "      <td>2012</td>\n",
       "      <td>https://www.goodreads.com/book/show/13571772-c...</td>\n",
       "      <td>https://images.gr-assets.com/books/1333287305m...</td>\n",
       "      <td>13571772</td>\n",
       "      <td>51</td>\n",
       "      <td>102217</td>\n",
       "      <td>Captain America: Winter Soldier (The Ultimate ...</td>\n",
       "      <td>Captain America: Winter Soldier (The Ultimate ...</td>\n",
       "    </tr>\n",
       "    <tr>\n",
       "      <th>3</th>\n",
       "      <td></td>\n",
       "      <td>1</td>\n",
       "      <td>[]</td>\n",
       "      <td>US</td>\n",
       "      <td>eng</td>\n",
       "      <td>[{'count': '222', 'name': 'to-read'}, {'count'...</td>\n",
       "      <td>B06XKGGSB7</td>\n",
       "      <td>true</td>\n",
       "      <td>4.05</td>\n",
       "      <td>B06XKGGSB7</td>\n",
       "      <td>...</td>\n",
       "      <td></td>\n",
       "      <td></td>\n",
       "      <td></td>\n",
       "      <td>https://www.goodreads.com/book/show/35452242-b...</td>\n",
       "      <td>https://s.gr-assets.com/assets/nophoto/book/11...</td>\n",
       "      <td>35452242</td>\n",
       "      <td>6</td>\n",
       "      <td>54276229</td>\n",
       "      <td>Bounty Hunter 4/3: My Life in Combat from Mari...</td>\n",
       "      <td>Bounty Hunter 4/3: My Life in Combat from Mari...</td>\n",
       "    </tr>\n",
       "    <tr>\n",
       "      <th>4</th>\n",
       "      <td>0930289765</td>\n",
       "      <td>6</td>\n",
       "      <td>[266759, 1096220]</td>\n",
       "      <td>US</td>\n",
       "      <td>en-US</td>\n",
       "      <td>[{'count': '20', 'name': 'to-read'}, {'count':...</td>\n",
       "      <td></td>\n",
       "      <td>false</td>\n",
       "      <td>4.06</td>\n",
       "      <td></td>\n",
       "      <td>...</td>\n",
       "      <td>11</td>\n",
       "      <td></td>\n",
       "      <td>1997</td>\n",
       "      <td>https://www.goodreads.com/book/show/707611.Sup...</td>\n",
       "      <td>https://images.gr-assets.com/books/1307838888m...</td>\n",
       "      <td>707611</td>\n",
       "      <td>51</td>\n",
       "      <td>693886</td>\n",
       "      <td>Superman Archives, Vol. 2</td>\n",
       "      <td>Superman Archives, Vol. 2</td>\n",
       "    </tr>\n",
       "  </tbody>\n",
       "</table>\n",
       "<p>5 rows × 29 columns</p>\n",
       "</div>"
      ],
      "text/plain": [
       "         isbn  text_reviews_count                            series  \\\n",
       "0                               1                                []   \n",
       "1  2205073346                   2                                []   \n",
       "2                               5  [246830, 362583, 362581, 623032]   \n",
       "3                               1                                []   \n",
       "4  0930289765                   6                 [266759, 1096220]   \n",
       "\n",
       "  country_code language_code  \\\n",
       "0           US                 \n",
       "1           US           fre   \n",
       "2           US           eng   \n",
       "3           US           eng   \n",
       "4           US         en-US   \n",
       "\n",
       "                                     popular_shelves        asin is_ebook  \\\n",
       "0  [{'count': '228', 'name': 'to-read'}, {'count'...  B00NLXQ534     true   \n",
       "1  [{'count': '2', 'name': 'bd'}, {'count': '2', ...                false   \n",
       "2  [{'count': '493', 'name': 'to-read'}, {'count'...                false   \n",
       "3  [{'count': '222', 'name': 'to-read'}, {'count'...  B06XKGGSB7     true   \n",
       "4  [{'count': '20', 'name': 'to-read'}, {'count':...                false   \n",
       "\n",
       "   average_rating kindle_asin  ... publication_month edition_information  \\\n",
       "0            4.12              ...                                         \n",
       "1            3.94              ...                 1                       \n",
       "2            4.28              ...                                         \n",
       "3            4.05  B06XKGGSB7  ...                                         \n",
       "4            4.06              ...                11                       \n",
       "\n",
       "  publication_year                                                url  \\\n",
       "0                   https://www.goodreads.com/book/show/25742454-t...   \n",
       "1             2016  https://www.goodreads.com/book/show/30128855-c...   \n",
       "2             2012  https://www.goodreads.com/book/show/13571772-c...   \n",
       "3                   https://www.goodreads.com/book/show/35452242-b...   \n",
       "4             1997  https://www.goodreads.com/book/show/707611.Sup...   \n",
       "\n",
       "                                           image_url   book_id ratings_count  \\\n",
       "0  https://s.gr-assets.com/assets/nophoto/book/11...  25742454             1   \n",
       "1  https://images.gr-assets.com/books/1462644346m...  30128855            16   \n",
       "2  https://images.gr-assets.com/books/1333287305m...  13571772            51   \n",
       "3  https://s.gr-assets.com/assets/nophoto/book/11...  35452242             6   \n",
       "4  https://images.gr-assets.com/books/1307838888m...    707611            51   \n",
       "\n",
       "    work_id                                              title  \\\n",
       "0  42749946                              The Switchblade Mamma   \n",
       "1  50558228                                            Cruelle   \n",
       "2    102217  Captain America: Winter Soldier (The Ultimate ...   \n",
       "3  54276229  Bounty Hunter 4/3: My Life in Combat from Mari...   \n",
       "4    693886                          Superman Archives, Vol. 2   \n",
       "\n",
       "                                title_without_series  \n",
       "0                              The Switchblade Mamma  \n",
       "1                                            Cruelle  \n",
       "2  Captain America: Winter Soldier (The Ultimate ...  \n",
       "3  Bounty Hunter 4/3: My Life in Combat from Mari...  \n",
       "4                          Superman Archives, Vol. 2  \n",
       "\n",
       "[5 rows x 29 columns]"
      ]
     },
     "execution_count": 61,
     "metadata": {},
     "output_type": "execute_result"
    }
   ],
   "source": [
    "dataframe1.head()"
   ]
  },
  {
   "cell_type": "markdown",
   "id": "4a0c0090",
   "metadata": {},
   "source": [
    "__Get only the columns used for the project__\n",
    "* Following columns may be required\n",
    "    * text_reviews_count,\n",
    "    * language_code,\n",
    "    * popular_shelves,\n",
    "    * is_ebook,\n",
    "    * average_rating,\n",
    "    * description,\n",
    "    * author,\n",
    "    * publication_year,\n",
    "    * book_id\n",
    "    * ratings_count,\n",
    "    * work_id,\n",
    "    * title"
   ]
  },
  {
   "cell_type": "code",
   "execution_count": 62,
   "id": "8661791c",
   "metadata": {},
   "outputs": [],
   "source": [
    "books_metadata = dataframe1[['text_reviews_count', 'language_code', 'popular_shelves', 'is_ebook', 'average_rating', 'description', 'authors', 'publication_year', 'book_id', 'ratings_count', 'work_id', 'title']]\n",
    "books_columns = books_metadata.columns"
   ]
  },
  {
   "cell_type": "code",
   "execution_count": 63,
   "id": "edac74a7",
   "metadata": {},
   "outputs": [
    {
     "data": {
      "text/html": [
       "<div>\n",
       "<style scoped>\n",
       "    .dataframe tbody tr th:only-of-type {\n",
       "        vertical-align: middle;\n",
       "    }\n",
       "\n",
       "    .dataframe tbody tr th {\n",
       "        vertical-align: top;\n",
       "    }\n",
       "\n",
       "    .dataframe thead th {\n",
       "        text-align: right;\n",
       "    }\n",
       "</style>\n",
       "<table border=\"1\" class=\"dataframe\">\n",
       "  <thead>\n",
       "    <tr style=\"text-align: right;\">\n",
       "      <th></th>\n",
       "      <th>text_reviews_count</th>\n",
       "      <th>language_code</th>\n",
       "      <th>popular_shelves</th>\n",
       "      <th>is_ebook</th>\n",
       "      <th>average_rating</th>\n",
       "      <th>description</th>\n",
       "      <th>authors</th>\n",
       "      <th>publication_year</th>\n",
       "      <th>book_id</th>\n",
       "      <th>ratings_count</th>\n",
       "      <th>work_id</th>\n",
       "      <th>title</th>\n",
       "    </tr>\n",
       "  </thead>\n",
       "  <tbody>\n",
       "    <tr>\n",
       "      <th>0</th>\n",
       "      <td>1</td>\n",
       "      <td></td>\n",
       "      <td>[{'count': '228', 'name': 'to-read'}, {'count'...</td>\n",
       "      <td>true</td>\n",
       "      <td>4.12</td>\n",
       "      <td>Lillian Ann Cross is forced to live the worst ...</td>\n",
       "      <td>[{'author_id': '8551671', 'role': ''}]</td>\n",
       "      <td></td>\n",
       "      <td>25742454</td>\n",
       "      <td>1</td>\n",
       "      <td>42749946</td>\n",
       "      <td>The Switchblade Mamma</td>\n",
       "    </tr>\n",
       "    <tr>\n",
       "      <th>1</th>\n",
       "      <td>2</td>\n",
       "      <td>fre</td>\n",
       "      <td>[{'count': '2', 'name': 'bd'}, {'count': '2', ...</td>\n",
       "      <td>false</td>\n",
       "      <td>3.94</td>\n",
       "      <td>Florence Dupre Latour raconte comment, de son ...</td>\n",
       "      <td>[{'author_id': '3274315', 'role': ''}]</td>\n",
       "      <td>2016</td>\n",
       "      <td>30128855</td>\n",
       "      <td>16</td>\n",
       "      <td>50558228</td>\n",
       "      <td>Cruelle</td>\n",
       "    </tr>\n",
       "    <tr>\n",
       "      <th>2</th>\n",
       "      <td>5</td>\n",
       "      <td>eng</td>\n",
       "      <td>[{'count': '493', 'name': 'to-read'}, {'count'...</td>\n",
       "      <td>false</td>\n",
       "      <td>4.28</td>\n",
       "      <td>The questions plaguing Captain America's dream...</td>\n",
       "      <td>[{'author_id': '37450', 'role': ''}]</td>\n",
       "      <td>2012</td>\n",
       "      <td>13571772</td>\n",
       "      <td>51</td>\n",
       "      <td>102217</td>\n",
       "      <td>Captain America: Winter Soldier (The Ultimate ...</td>\n",
       "    </tr>\n",
       "    <tr>\n",
       "      <th>3</th>\n",
       "      <td>1</td>\n",
       "      <td>eng</td>\n",
       "      <td>[{'count': '222', 'name': 'to-read'}, {'count'...</td>\n",
       "      <td>true</td>\n",
       "      <td>4.05</td>\n",
       "      <td>The fight for Jason Delgado's life and soul be...</td>\n",
       "      <td>[{'author_id': '16209952', 'role': ''}, {'auth...</td>\n",
       "      <td></td>\n",
       "      <td>35452242</td>\n",
       "      <td>6</td>\n",
       "      <td>54276229</td>\n",
       "      <td>Bounty Hunter 4/3: My Life in Combat from Mari...</td>\n",
       "    </tr>\n",
       "    <tr>\n",
       "      <th>4</th>\n",
       "      <td>6</td>\n",
       "      <td>en-US</td>\n",
       "      <td>[{'count': '20', 'name': 'to-read'}, {'count':...</td>\n",
       "      <td>false</td>\n",
       "      <td>4.06</td>\n",
       "      <td>These are the stories that catapulted Superman...</td>\n",
       "      <td>[{'author_id': '81563', 'role': ''}, {'author_...</td>\n",
       "      <td>1997</td>\n",
       "      <td>707611</td>\n",
       "      <td>51</td>\n",
       "      <td>693886</td>\n",
       "      <td>Superman Archives, Vol. 2</td>\n",
       "    </tr>\n",
       "  </tbody>\n",
       "</table>\n",
       "</div>"
      ],
      "text/plain": [
       "   text_reviews_count language_code  \\\n",
       "0                   1                 \n",
       "1                   2           fre   \n",
       "2                   5           eng   \n",
       "3                   1           eng   \n",
       "4                   6         en-US   \n",
       "\n",
       "                                     popular_shelves is_ebook  average_rating  \\\n",
       "0  [{'count': '228', 'name': 'to-read'}, {'count'...     true            4.12   \n",
       "1  [{'count': '2', 'name': 'bd'}, {'count': '2', ...    false            3.94   \n",
       "2  [{'count': '493', 'name': 'to-read'}, {'count'...    false            4.28   \n",
       "3  [{'count': '222', 'name': 'to-read'}, {'count'...     true            4.05   \n",
       "4  [{'count': '20', 'name': 'to-read'}, {'count':...    false            4.06   \n",
       "\n",
       "                                         description  \\\n",
       "0  Lillian Ann Cross is forced to live the worst ...   \n",
       "1  Florence Dupre Latour raconte comment, de son ...   \n",
       "2  The questions plaguing Captain America's dream...   \n",
       "3  The fight for Jason Delgado's life and soul be...   \n",
       "4  These are the stories that catapulted Superman...   \n",
       "\n",
       "                                             authors publication_year  \\\n",
       "0             [{'author_id': '8551671', 'role': ''}]                    \n",
       "1             [{'author_id': '3274315', 'role': ''}]             2016   \n",
       "2               [{'author_id': '37450', 'role': ''}]             2012   \n",
       "3  [{'author_id': '16209952', 'role': ''}, {'auth...                    \n",
       "4  [{'author_id': '81563', 'role': ''}, {'author_...             1997   \n",
       "\n",
       "    book_id  ratings_count   work_id  \\\n",
       "0  25742454              1  42749946   \n",
       "1  30128855             16  50558228   \n",
       "2  13571772             51    102217   \n",
       "3  35452242              6  54276229   \n",
       "4    707611             51    693886   \n",
       "\n",
       "                                               title  \n",
       "0                              The Switchblade Mamma  \n",
       "1                                            Cruelle  \n",
       "2  Captain America: Winter Soldier (The Ultimate ...  \n",
       "3  Bounty Hunter 4/3: My Life in Combat from Mari...  \n",
       "4                          Superman Archives, Vol. 2  "
      ]
     },
     "execution_count": 63,
     "metadata": {},
     "output_type": "execute_result"
    }
   ],
   "source": [
    "books_metadata.head()"
   ]
  },
  {
   "cell_type": "markdown",
   "id": "1d0531c2",
   "metadata": {},
   "source": [
    "__Get the rows which have null value from the dataset__"
   ]
  },
  {
   "cell_type": "code",
   "execution_count": 64,
   "id": "712067ee",
   "metadata": {},
   "outputs": [],
   "source": [
    "drop_rows = []\n",
    "for rows in range(len(books_metadata)):\n",
    "    useful = 1\n",
    "    for cols in books_columns:\n",
    "        if(books_metadata[cols][rows] == ''):\n",
    "            useful = 0\n",
    "            break\n",
    "        else:\n",
    "            useful = 1\n",
    "    if(useful == 0):\n",
    "        drop_rows.append(rows)"
   ]
  },
  {
   "cell_type": "markdown",
   "id": "a499a538",
   "metadata": {},
   "source": [
    "__Drop the rows that have null values__"
   ]
  },
  {
   "cell_type": "code",
   "execution_count": 65,
   "id": "9e755362",
   "metadata": {},
   "outputs": [],
   "source": [
    "books_metadata_final = books_metadata.drop(drop_rows)"
   ]
  },
  {
   "cell_type": "code",
   "execution_count": 66,
   "id": "c2069572",
   "metadata": {},
   "outputs": [
    {
     "data": {
      "text/plain": [
       "(45783, 12)"
      ]
     },
     "execution_count": 66,
     "metadata": {},
     "output_type": "execute_result"
    }
   ],
   "source": [
    "books_metadata_final.shape"
   ]
  },
  {
   "cell_type": "code",
   "execution_count": 67,
   "id": "6d5ad688",
   "metadata": {},
   "outputs": [
    {
     "data": {
      "text/plain": [
       "array(['fre', 'eng', 'en-US', 'kor', 'jpn', 'spa', 'zho', 'ita', 'en-GB',\n",
       "       'nor', 'ind', 'cze', 'swe', 'ger', 'nl', 'por', 'gre', 'fin',\n",
       "       'rum', 'bos', 'msa', 'tur', 'pol', 'vie', 'mul', 'dan', 'scr',\n",
       "       'tha', 'fil', 'per', 'rus', 'ben', 'bul', 'ara', 'en-CA', 'nno',\n",
       "       'lav', 'srp', 'pes', 'cat', 'tgl', 'hun', 'nob', 'heb', 'est',\n",
       "       '--', 'kat', 'ira', 'ukr', 'inh', 'slv', 'lit', 'sco', 'hin',\n",
       "       'tel', 'slo', 'eus', 'abk', 'ine', 'isl', 'glg', 'wak', 'aze',\n",
       "       'afr', 'en'], dtype=object)"
      ]
     },
     "execution_count": 67,
     "metadata": {},
     "output_type": "execute_result"
    }
   ],
   "source": [
    "books_metadata_final['language_code'].unique()"
   ]
  },
  {
   "cell_type": "markdown",
   "id": "03f4b05b",
   "metadata": {},
   "source": [
    "__Get only rows with language as 'eng' and 'en-US'__"
   ]
  },
  {
   "cell_type": "code",
   "execution_count": 68,
   "id": "4ac2f08f",
   "metadata": {},
   "outputs": [],
   "source": [
    "books_metadata_final = books_metadata_final[(books_metadata_final['language_code']=='eng') | (books_metadata_final['language_code']=='en-US')]"
   ]
  },
  {
   "cell_type": "code",
   "execution_count": 69,
   "id": "028320e4",
   "metadata": {},
   "outputs": [
    {
     "data": {
      "text/html": [
       "<div>\n",
       "<style scoped>\n",
       "    .dataframe tbody tr th:only-of-type {\n",
       "        vertical-align: middle;\n",
       "    }\n",
       "\n",
       "    .dataframe tbody tr th {\n",
       "        vertical-align: top;\n",
       "    }\n",
       "\n",
       "    .dataframe thead th {\n",
       "        text-align: right;\n",
       "    }\n",
       "</style>\n",
       "<table border=\"1\" class=\"dataframe\">\n",
       "  <thead>\n",
       "    <tr style=\"text-align: right;\">\n",
       "      <th></th>\n",
       "      <th>text_reviews_count</th>\n",
       "      <th>language_code</th>\n",
       "      <th>popular_shelves</th>\n",
       "      <th>is_ebook</th>\n",
       "      <th>average_rating</th>\n",
       "      <th>description</th>\n",
       "      <th>authors</th>\n",
       "      <th>publication_year</th>\n",
       "      <th>book_id</th>\n",
       "      <th>ratings_count</th>\n",
       "      <th>work_id</th>\n",
       "      <th>title</th>\n",
       "    </tr>\n",
       "  </thead>\n",
       "  <tbody>\n",
       "    <tr>\n",
       "      <th>2</th>\n",
       "      <td>5</td>\n",
       "      <td>eng</td>\n",
       "      <td>[{'count': '493', 'name': 'to-read'}, {'count'...</td>\n",
       "      <td>false</td>\n",
       "      <td>4.28</td>\n",
       "      <td>The questions plaguing Captain America's dream...</td>\n",
       "      <td>[{'author_id': '37450', 'role': ''}]</td>\n",
       "      <td>2012</td>\n",
       "      <td>13571772</td>\n",
       "      <td>51</td>\n",
       "      <td>102217</td>\n",
       "      <td>Captain America: Winter Soldier (The Ultimate ...</td>\n",
       "    </tr>\n",
       "    <tr>\n",
       "      <th>4</th>\n",
       "      <td>6</td>\n",
       "      <td>en-US</td>\n",
       "      <td>[{'count': '20', 'name': 'to-read'}, {'count':...</td>\n",
       "      <td>false</td>\n",
       "      <td>4.06</td>\n",
       "      <td>These are the stories that catapulted Superman...</td>\n",
       "      <td>[{'author_id': '81563', 'role': ''}, {'author_...</td>\n",
       "      <td>1997</td>\n",
       "      <td>707611</td>\n",
       "      <td>51</td>\n",
       "      <td>693886</td>\n",
       "      <td>Superman Archives, Vol. 2</td>\n",
       "    </tr>\n",
       "    <tr>\n",
       "      <th>6</th>\n",
       "      <td>9</td>\n",
       "      <td>eng</td>\n",
       "      <td>[{'count': '47', 'name': 'to-read'}, {'count':...</td>\n",
       "      <td>false</td>\n",
       "      <td>4.15</td>\n",
       "      <td>PRODUCT DESCRIPTION: The first new volume of G...</td>\n",
       "      <td>[{'author_id': '14965', 'role': ''}, {'author_...</td>\n",
       "      <td>2016</td>\n",
       "      <td>27036536</td>\n",
       "      <td>39</td>\n",
       "      <td>47077783</td>\n",
       "      <td>War Stories, Volume 3</td>\n",
       "    </tr>\n",
       "    <tr>\n",
       "      <th>11</th>\n",
       "      <td>26</td>\n",
       "      <td>eng</td>\n",
       "      <td>[{'count': '104', 'name': 'to-read'}, {'count'...</td>\n",
       "      <td>false</td>\n",
       "      <td>3.16</td>\n",
       "      <td>Sir Arthur Conan Doyle's dauntless detective r...</td>\n",
       "      <td>[{'author_id': '61231', 'role': ''}, {'author_...</td>\n",
       "      <td>2011</td>\n",
       "      <td>11827783</td>\n",
       "      <td>114</td>\n",
       "      <td>16782451</td>\n",
       "      <td>Sherlock Holmes: Year One</td>\n",
       "    </tr>\n",
       "    <tr>\n",
       "      <th>12</th>\n",
       "      <td>6</td>\n",
       "      <td>eng</td>\n",
       "      <td>[{'count': '133', 'name': 'manga'}, {'count': ...</td>\n",
       "      <td>false</td>\n",
       "      <td>4.41</td>\n",
       "      <td>This is the story of a group of boys who try t...</td>\n",
       "      <td>[{'author_id': '294649', 'role': ''}]</td>\n",
       "      <td>2012</td>\n",
       "      <td>12349665</td>\n",
       "      <td>149</td>\n",
       "      <td>3062163</td>\n",
       "      <td>Naoki Urasawa's 20th Century Boys, Volume 20 (...</td>\n",
       "    </tr>\n",
       "  </tbody>\n",
       "</table>\n",
       "</div>"
      ],
      "text/plain": [
       "    text_reviews_count language_code  \\\n",
       "2                    5           eng   \n",
       "4                    6         en-US   \n",
       "6                    9           eng   \n",
       "11                  26           eng   \n",
       "12                   6           eng   \n",
       "\n",
       "                                      popular_shelves is_ebook  \\\n",
       "2   [{'count': '493', 'name': 'to-read'}, {'count'...    false   \n",
       "4   [{'count': '20', 'name': 'to-read'}, {'count':...    false   \n",
       "6   [{'count': '47', 'name': 'to-read'}, {'count':...    false   \n",
       "11  [{'count': '104', 'name': 'to-read'}, {'count'...    false   \n",
       "12  [{'count': '133', 'name': 'manga'}, {'count': ...    false   \n",
       "\n",
       "    average_rating                                        description  \\\n",
       "2             4.28  The questions plaguing Captain America's dream...   \n",
       "4             4.06  These are the stories that catapulted Superman...   \n",
       "6             4.15  PRODUCT DESCRIPTION: The first new volume of G...   \n",
       "11            3.16  Sir Arthur Conan Doyle's dauntless detective r...   \n",
       "12            4.41  This is the story of a group of boys who try t...   \n",
       "\n",
       "                                              authors publication_year  \\\n",
       "2                [{'author_id': '37450', 'role': ''}]             2012   \n",
       "4   [{'author_id': '81563', 'role': ''}, {'author_...             1997   \n",
       "6   [{'author_id': '14965', 'role': ''}, {'author_...             2016   \n",
       "11  [{'author_id': '61231', 'role': ''}, {'author_...             2011   \n",
       "12              [{'author_id': '294649', 'role': ''}]             2012   \n",
       "\n",
       "     book_id  ratings_count   work_id  \\\n",
       "2   13571772             51    102217   \n",
       "4     707611             51    693886   \n",
       "6   27036536             39  47077783   \n",
       "11  11827783            114  16782451   \n",
       "12  12349665            149   3062163   \n",
       "\n",
       "                                                title  \n",
       "2   Captain America: Winter Soldier (The Ultimate ...  \n",
       "4                           Superman Archives, Vol. 2  \n",
       "6                               War Stories, Volume 3  \n",
       "11                          Sherlock Holmes: Year One  \n",
       "12  Naoki Urasawa's 20th Century Boys, Volume 20 (...  "
      ]
     },
     "execution_count": 69,
     "metadata": {},
     "output_type": "execute_result"
    }
   ],
   "source": [
    "books_metadata_final.head()"
   ]
  },
  {
   "cell_type": "code",
   "execution_count": 70,
   "id": "6f451647",
   "metadata": {
    "scrolled": true
   },
   "outputs": [
    {
     "data": {
      "text/plain": [
       "array(['2012', '1997', '2016', '2011', '2010', '2014', '2009', '2013',\n",
       "       '1989', '2006', '2015', '2017', '2007', '2002', '2008', '1990',\n",
       "       '1976', '1974', '2005', '1991', '2004', '2003', '1945', '2018',\n",
       "       '1986', '1985', '1998', '1999', '1980', '1993', '1995', '2000',\n",
       "       '1970', '1983', '1984', '1996', '1965', '2001', '1979', '1987',\n",
       "       '1961', '1968', '1988', '1992', '1978', '1977', '1994', '1960',\n",
       "       '1957', '1950', '1951', '1967', '1946', '1982', '1969', '1964',\n",
       "       '1975', '1962', '1981', '1959', '1972', '1963', '1954', '1952',\n",
       "       '1016', '1971', '1947', '1966', '207', '1944', '1942', '13',\n",
       "       '2020', '1948', '1940', '1973', '2105', '1943', '1955', '2019',\n",
       "       '201'], dtype=object)"
      ]
     },
     "execution_count": 70,
     "metadata": {},
     "output_type": "execute_result"
    }
   ],
   "source": [
    "books_metadata_final['publication_year'].unique()"
   ]
  },
  {
   "cell_type": "code",
   "execution_count": 71,
   "id": "2f41e0d6",
   "metadata": {},
   "outputs": [],
   "source": [
    "books_metadata_final['publication_year'] = books_metadata_final['publication_year'].replace(['13'],'1981')\n",
    "books_metadata_final['publication_year'] = books_metadata_final['publication_year'].replace(['207'],'2016')\n",
    "books_metadata_final['publication_year'] = books_metadata_final['publication_year'].replace(['201'],'2010')\n",
    "books_metadata_final['publication_year'] = books_metadata_final['publication_year'].replace(['1016'],'2016')\n",
    "books_metadata_final['publication_year'] = books_metadata_final['publication_year'].replace(['2105'],'2007')"
   ]
  },
  {
   "cell_type": "code",
   "execution_count": 72,
   "id": "70cd3265",
   "metadata": {
    "scrolled": true
   },
   "outputs": [
    {
     "data": {
      "text/plain": [
       "[2        False\n",
       " 4        False\n",
       " 6        False\n",
       " 11       False\n",
       " 12       False\n",
       "          ...  \n",
       " 89401    False\n",
       " 89402    False\n",
       " 89404    False\n",
       " 89409    False\n",
       " 89410    False\n",
       " Name: publication_year, Length: 24179, dtype: bool]"
      ]
     },
     "execution_count": 72,
     "metadata": {},
     "output_type": "execute_result"
    }
   ],
   "source": [
    "[books_metadata_final['publication_year']=='2105']"
   ]
  },
  {
   "cell_type": "code",
   "execution_count": 73,
   "id": "de1b11aa",
   "metadata": {},
   "outputs": [
    {
     "data": {
      "text/plain": [
       "(24179, 12)"
      ]
     },
     "execution_count": 73,
     "metadata": {},
     "output_type": "execute_result"
    }
   ],
   "source": [
    "books_metadata_final.shape"
   ]
  },
  {
   "cell_type": "code",
   "execution_count": 74,
   "id": "10a9b9ce",
   "metadata": {},
   "outputs": [],
   "source": [
    "count = books_metadata_final[['publication_year','average_rating']].groupby('publication_year').agg('count')"
   ]
  },
  {
   "cell_type": "code",
   "execution_count": 75,
   "id": "489ce725",
   "metadata": {},
   "outputs": [
    {
     "data": {
      "text/html": [
       "<div>\n",
       "<style scoped>\n",
       "    .dataframe tbody tr th:only-of-type {\n",
       "        vertical-align: middle;\n",
       "    }\n",
       "\n",
       "    .dataframe tbody tr th {\n",
       "        vertical-align: top;\n",
       "    }\n",
       "\n",
       "    .dataframe thead th {\n",
       "        text-align: right;\n",
       "    }\n",
       "</style>\n",
       "<table border=\"1\" class=\"dataframe\">\n",
       "  <thead>\n",
       "    <tr style=\"text-align: right;\">\n",
       "      <th></th>\n",
       "      <th>average_rating</th>\n",
       "    </tr>\n",
       "    <tr>\n",
       "      <th>publication_year</th>\n",
       "      <th></th>\n",
       "    </tr>\n",
       "  </thead>\n",
       "  <tbody>\n",
       "    <tr>\n",
       "      <th>1986</th>\n",
       "      <td>37</td>\n",
       "    </tr>\n",
       "    <tr>\n",
       "      <th>1987</th>\n",
       "      <td>45</td>\n",
       "    </tr>\n",
       "    <tr>\n",
       "      <th>1988</th>\n",
       "      <td>52</td>\n",
       "    </tr>\n",
       "    <tr>\n",
       "      <th>1989</th>\n",
       "      <td>57</td>\n",
       "    </tr>\n",
       "    <tr>\n",
       "      <th>1990</th>\n",
       "      <td>71</td>\n",
       "    </tr>\n",
       "  </tbody>\n",
       "</table>\n",
       "</div>"
      ],
      "text/plain": [
       "                  average_rating\n",
       "publication_year                \n",
       "1986                          37\n",
       "1987                          45\n",
       "1988                          52\n",
       "1989                          57\n",
       "1990                          71"
      ]
     },
     "execution_count": 75,
     "metadata": {},
     "output_type": "execute_result"
    }
   ],
   "source": [
    "count = count[count['average_rating']>=30]\n",
    "count.head()"
   ]
  },
  {
   "cell_type": "code",
   "execution_count": 76,
   "id": "90140bfb",
   "metadata": {},
   "outputs": [
    {
     "data": {
      "text/plain": [
       "Index(['1986', '1987', '1988', '1989', '1990', '1991', '1992', '1993', '1994',\n",
       "       '1995', '1996', '1997', '1998', '1999', '2000', '2001', '2002', '2003',\n",
       "       '2004', '2005', '2006', '2007', '2008', '2009', '2010', '2011', '2012',\n",
       "       '2013', '2014', '2015', '2016', '2017', '2018'],\n",
       "      dtype='object', name='publication_year')"
      ]
     },
     "execution_count": 76,
     "metadata": {},
     "output_type": "execute_result"
    }
   ],
   "source": [
    "index = count.index\n",
    "index"
   ]
  },
  {
   "cell_type": "markdown",
   "id": "d98c2c12",
   "metadata": {},
   "source": [
    "__Get only those books with the above given years__"
   ]
  },
  {
   "cell_type": "code",
   "execution_count": 77,
   "id": "2809489a",
   "metadata": {},
   "outputs": [],
   "source": [
    "books_metadata_final = books_metadata_final.loc[books_metadata_final['publication_year'].isin(index)]"
   ]
  },
  {
   "cell_type": "markdown",
   "id": "c6a7655c",
   "metadata": {},
   "source": [
    "__Export the final datasets__"
   ]
  },
  {
   "cell_type": "code",
   "execution_count": 79,
   "id": "712506ad",
   "metadata": {},
   "outputs": [],
   "source": [
    "books_metadata_final.to_json('final_dataset/books_metadata_comics.json')"
   ]
  },
  {
   "cell_type": "markdown",
   "id": "d0ffdd0c",
   "metadata": {},
   "source": [
    "# goodreads_interactions_comics_graphic.json dataset"
   ]
  },
  {
   "cell_type": "markdown",
   "id": "32502d67",
   "metadata": {},
   "source": [
    "__Read goodreads interaction dataset__"
   ]
  },
  {
   "cell_type": "code",
   "execution_count": 102,
   "id": "1b51bf04",
   "metadata": {},
   "outputs": [],
   "source": [
    "dataframe2 = pd.read_json('goodreads_interactions_comics_graphic.json', lines=True)"
   ]
  },
  {
   "cell_type": "code",
   "execution_count": 233,
   "id": "e8ff3e45",
   "metadata": {},
   "outputs": [
    {
     "name": "stdout",
     "output_type": "stream",
     "text": [
      "<class 'pandas.core.frame.DataFrame'>\n",
      "RangeIndex: 7347630 entries, 0 to 7347629\n",
      "Data columns (total 10 columns):\n",
      " #   Column                  Dtype \n",
      "---  ------                  ----- \n",
      " 0   user_id                 object\n",
      " 1   book_id                 int64 \n",
      " 2   review_id               object\n",
      " 3   is_read                 bool  \n",
      " 4   rating                  int64 \n",
      " 5   review_text_incomplete  object\n",
      " 6   date_added              object\n",
      " 7   date_updated            object\n",
      " 8   read_at                 object\n",
      " 9   started_at              object\n",
      "dtypes: bool(1), int64(2), object(7)\n",
      "memory usage: 511.5+ MB\n"
     ]
    }
   ],
   "source": [
    "dataframe2.info()"
   ]
  },
  {
   "cell_type": "code",
   "execution_count": 234,
   "id": "68b9888c",
   "metadata": {},
   "outputs": [
    {
     "data": {
      "text/html": [
       "<div>\n",
       "<style scoped>\n",
       "    .dataframe tbody tr th:only-of-type {\n",
       "        vertical-align: middle;\n",
       "    }\n",
       "\n",
       "    .dataframe tbody tr th {\n",
       "        vertical-align: top;\n",
       "    }\n",
       "\n",
       "    .dataframe thead th {\n",
       "        text-align: right;\n",
       "    }\n",
       "</style>\n",
       "<table border=\"1\" class=\"dataframe\">\n",
       "  <thead>\n",
       "    <tr style=\"text-align: right;\">\n",
       "      <th></th>\n",
       "      <th>user_id</th>\n",
       "      <th>book_id</th>\n",
       "      <th>review_id</th>\n",
       "      <th>is_read</th>\n",
       "      <th>rating</th>\n",
       "      <th>review_text_incomplete</th>\n",
       "      <th>date_added</th>\n",
       "      <th>date_updated</th>\n",
       "      <th>read_at</th>\n",
       "      <th>started_at</th>\n",
       "    </tr>\n",
       "  </thead>\n",
       "  <tbody>\n",
       "    <tr>\n",
       "      <th>0</th>\n",
       "      <td>8842281e1d1347389f2ab93d60773d4d</td>\n",
       "      <td>836610</td>\n",
       "      <td>6b4db26aafeaf0da77c7de6214331e1e</td>\n",
       "      <td>False</td>\n",
       "      <td>0</td>\n",
       "      <td></td>\n",
       "      <td>Mon Aug 21 12:11:00 -0700 2017</td>\n",
       "      <td>Mon Aug 21 12:11:00 -0700 2017</td>\n",
       "      <td></td>\n",
       "      <td></td>\n",
       "    </tr>\n",
       "    <tr>\n",
       "      <th>1</th>\n",
       "      <td>8842281e1d1347389f2ab93d60773d4d</td>\n",
       "      <td>7648967</td>\n",
       "      <td>99b27059f711c37de8f90ee8e4dc0d1b</td>\n",
       "      <td>False</td>\n",
       "      <td>0</td>\n",
       "      <td></td>\n",
       "      <td>Fri Feb 24 08:59:44 -0800 2017</td>\n",
       "      <td>Fri Feb 24 08:59:44 -0800 2017</td>\n",
       "      <td></td>\n",
       "      <td></td>\n",
       "    </tr>\n",
       "    <tr>\n",
       "      <th>2</th>\n",
       "      <td>8842281e1d1347389f2ab93d60773d4d</td>\n",
       "      <td>15704307</td>\n",
       "      <td>cb944d94854df5afd22210bb0aa0c903</td>\n",
       "      <td>False</td>\n",
       "      <td>0</td>\n",
       "      <td></td>\n",
       "      <td>Wed May 20 21:28:56 -0700 2015</td>\n",
       "      <td>Wed May 20 21:28:57 -0700 2015</td>\n",
       "      <td></td>\n",
       "      <td></td>\n",
       "    </tr>\n",
       "    <tr>\n",
       "      <th>3</th>\n",
       "      <td>8842281e1d1347389f2ab93d60773d4d</td>\n",
       "      <td>6902644</td>\n",
       "      <td>2711bac2a8cc600dae1590a6ca0edb34</td>\n",
       "      <td>False</td>\n",
       "      <td>0</td>\n",
       "      <td></td>\n",
       "      <td>Sun Jun 01 17:25:23 -0700 2014</td>\n",
       "      <td>Sun Jun 01 17:25:23 -0700 2014</td>\n",
       "      <td></td>\n",
       "      <td></td>\n",
       "    </tr>\n",
       "    <tr>\n",
       "      <th>4</th>\n",
       "      <td>8842281e1d1347389f2ab93d60773d4d</td>\n",
       "      <td>9844623</td>\n",
       "      <td>b72979076d1cded25dded922195e5b1c</td>\n",
       "      <td>False</td>\n",
       "      <td>0</td>\n",
       "      <td></td>\n",
       "      <td>Sun Sep 02 08:45:08 -0700 2012</td>\n",
       "      <td>Sun Sep 02 08:45:08 -0700 2012</td>\n",
       "      <td></td>\n",
       "      <td></td>\n",
       "    </tr>\n",
       "  </tbody>\n",
       "</table>\n",
       "</div>"
      ],
      "text/plain": [
       "                            user_id   book_id  \\\n",
       "0  8842281e1d1347389f2ab93d60773d4d    836610   \n",
       "1  8842281e1d1347389f2ab93d60773d4d   7648967   \n",
       "2  8842281e1d1347389f2ab93d60773d4d  15704307   \n",
       "3  8842281e1d1347389f2ab93d60773d4d   6902644   \n",
       "4  8842281e1d1347389f2ab93d60773d4d   9844623   \n",
       "\n",
       "                          review_id  is_read  rating review_text_incomplete  \\\n",
       "0  6b4db26aafeaf0da77c7de6214331e1e    False       0                          \n",
       "1  99b27059f711c37de8f90ee8e4dc0d1b    False       0                          \n",
       "2  cb944d94854df5afd22210bb0aa0c903    False       0                          \n",
       "3  2711bac2a8cc600dae1590a6ca0edb34    False       0                          \n",
       "4  b72979076d1cded25dded922195e5b1c    False       0                          \n",
       "\n",
       "                       date_added                    date_updated read_at  \\\n",
       "0  Mon Aug 21 12:11:00 -0700 2017  Mon Aug 21 12:11:00 -0700 2017           \n",
       "1  Fri Feb 24 08:59:44 -0800 2017  Fri Feb 24 08:59:44 -0800 2017           \n",
       "2  Wed May 20 21:28:56 -0700 2015  Wed May 20 21:28:57 -0700 2015           \n",
       "3  Sun Jun 01 17:25:23 -0700 2014  Sun Jun 01 17:25:23 -0700 2014           \n",
       "4  Sun Sep 02 08:45:08 -0700 2012  Sun Sep 02 08:45:08 -0700 2012           \n",
       "\n",
       "  started_at  \n",
       "0             \n",
       "1             \n",
       "2             \n",
       "3             \n",
       "4             "
      ]
     },
     "execution_count": 234,
     "metadata": {},
     "output_type": "execute_result"
    }
   ],
   "source": [
    "dataframe2.head()"
   ]
  },
  {
   "cell_type": "markdown",
   "id": "b35541e8",
   "metadata": {},
   "source": [
    "__Get only the rows corresponding to the books from books_metadata_final.json file__"
   ]
  },
  {
   "cell_type": "code",
   "execution_count": 235,
   "id": "daf8ae9f",
   "metadata": {},
   "outputs": [],
   "source": [
    "books_interactions_comics = dataframe2[dataframe2['book_id'].isin(books_metadata_final['book_id'])]"
   ]
  },
  {
   "cell_type": "code",
   "execution_count": 236,
   "id": "66a551f4",
   "metadata": {},
   "outputs": [
    {
     "data": {
      "text/html": [
       "<div>\n",
       "<style scoped>\n",
       "    .dataframe tbody tr th:only-of-type {\n",
       "        vertical-align: middle;\n",
       "    }\n",
       "\n",
       "    .dataframe tbody tr th {\n",
       "        vertical-align: top;\n",
       "    }\n",
       "\n",
       "    .dataframe thead th {\n",
       "        text-align: right;\n",
       "    }\n",
       "</style>\n",
       "<table border=\"1\" class=\"dataframe\">\n",
       "  <thead>\n",
       "    <tr style=\"text-align: right;\">\n",
       "      <th></th>\n",
       "      <th>user_id</th>\n",
       "      <th>book_id</th>\n",
       "      <th>review_id</th>\n",
       "      <th>is_read</th>\n",
       "      <th>rating</th>\n",
       "      <th>review_text_incomplete</th>\n",
       "      <th>date_added</th>\n",
       "      <th>date_updated</th>\n",
       "      <th>read_at</th>\n",
       "      <th>started_at</th>\n",
       "    </tr>\n",
       "  </thead>\n",
       "  <tbody>\n",
       "    <tr>\n",
       "      <th>1</th>\n",
       "      <td>8842281e1d1347389f2ab93d60773d4d</td>\n",
       "      <td>7648967</td>\n",
       "      <td>99b27059f711c37de8f90ee8e4dc0d1b</td>\n",
       "      <td>False</td>\n",
       "      <td>0</td>\n",
       "      <td></td>\n",
       "      <td>Fri Feb 24 08:59:44 -0800 2017</td>\n",
       "      <td>Fri Feb 24 08:59:44 -0800 2017</td>\n",
       "      <td></td>\n",
       "      <td></td>\n",
       "    </tr>\n",
       "    <tr>\n",
       "      <th>2</th>\n",
       "      <td>8842281e1d1347389f2ab93d60773d4d</td>\n",
       "      <td>15704307</td>\n",
       "      <td>cb944d94854df5afd22210bb0aa0c903</td>\n",
       "      <td>False</td>\n",
       "      <td>0</td>\n",
       "      <td></td>\n",
       "      <td>Wed May 20 21:28:56 -0700 2015</td>\n",
       "      <td>Wed May 20 21:28:57 -0700 2015</td>\n",
       "      <td></td>\n",
       "      <td></td>\n",
       "    </tr>\n",
       "    <tr>\n",
       "      <th>3</th>\n",
       "      <td>8842281e1d1347389f2ab93d60773d4d</td>\n",
       "      <td>6902644</td>\n",
       "      <td>2711bac2a8cc600dae1590a6ca0edb34</td>\n",
       "      <td>False</td>\n",
       "      <td>0</td>\n",
       "      <td></td>\n",
       "      <td>Sun Jun 01 17:25:23 -0700 2014</td>\n",
       "      <td>Sun Jun 01 17:25:23 -0700 2014</td>\n",
       "      <td></td>\n",
       "      <td></td>\n",
       "    </tr>\n",
       "    <tr>\n",
       "      <th>5</th>\n",
       "      <td>8842281e1d1347389f2ab93d60773d4d</td>\n",
       "      <td>13163846</td>\n",
       "      <td>84ae8909f3fee71ba40be06e3a6aa32e</td>\n",
       "      <td>False</td>\n",
       "      <td>0</td>\n",
       "      <td></td>\n",
       "      <td>Tue Jul 24 14:36:13 -0700 2012</td>\n",
       "      <td>Tue Jul 24 14:36:13 -0700 2012</td>\n",
       "      <td></td>\n",
       "      <td></td>\n",
       "    </tr>\n",
       "    <tr>\n",
       "      <th>8</th>\n",
       "      <td>8842281e1d1347389f2ab93d60773d4d</td>\n",
       "      <td>472331</td>\n",
       "      <td>dc86ebd8df595749ebe277dd67b0a865</td>\n",
       "      <td>False</td>\n",
       "      <td>0</td>\n",
       "      <td></td>\n",
       "      <td>Thu Aug 14 10:56:30 -0700 2008</td>\n",
       "      <td>Fri Jun 05 12:28:47 -0700 2009</td>\n",
       "      <td></td>\n",
       "      <td></td>\n",
       "    </tr>\n",
       "  </tbody>\n",
       "</table>\n",
       "</div>"
      ],
      "text/plain": [
       "                            user_id   book_id  \\\n",
       "1  8842281e1d1347389f2ab93d60773d4d   7648967   \n",
       "2  8842281e1d1347389f2ab93d60773d4d  15704307   \n",
       "3  8842281e1d1347389f2ab93d60773d4d   6902644   \n",
       "5  8842281e1d1347389f2ab93d60773d4d  13163846   \n",
       "8  8842281e1d1347389f2ab93d60773d4d    472331   \n",
       "\n",
       "                          review_id  is_read  rating review_text_incomplete  \\\n",
       "1  99b27059f711c37de8f90ee8e4dc0d1b    False       0                          \n",
       "2  cb944d94854df5afd22210bb0aa0c903    False       0                          \n",
       "3  2711bac2a8cc600dae1590a6ca0edb34    False       0                          \n",
       "5  84ae8909f3fee71ba40be06e3a6aa32e    False       0                          \n",
       "8  dc86ebd8df595749ebe277dd67b0a865    False       0                          \n",
       "\n",
       "                       date_added                    date_updated read_at  \\\n",
       "1  Fri Feb 24 08:59:44 -0800 2017  Fri Feb 24 08:59:44 -0800 2017           \n",
       "2  Wed May 20 21:28:56 -0700 2015  Wed May 20 21:28:57 -0700 2015           \n",
       "3  Sun Jun 01 17:25:23 -0700 2014  Sun Jun 01 17:25:23 -0700 2014           \n",
       "5  Tue Jul 24 14:36:13 -0700 2012  Tue Jul 24 14:36:13 -0700 2012           \n",
       "8  Thu Aug 14 10:56:30 -0700 2008  Fri Jun 05 12:28:47 -0700 2009           \n",
       "\n",
       "  started_at  \n",
       "1             \n",
       "2             \n",
       "3             \n",
       "5             \n",
       "8             "
      ]
     },
     "execution_count": 236,
     "metadata": {},
     "output_type": "execute_result"
    }
   ],
   "source": [
    "books_interactions_comics.head()"
   ]
  },
  {
   "cell_type": "code",
   "execution_count": 237,
   "id": "1999fc43",
   "metadata": {},
   "outputs": [
    {
     "data": {
      "text/plain": [
       "(4649631, 10)"
      ]
     },
     "execution_count": 237,
     "metadata": {},
     "output_type": "execute_result"
    }
   ],
   "source": [
    "books_interactions_comics.shape"
   ]
  },
  {
   "cell_type": "markdown",
   "id": "7c42c2ad",
   "metadata": {},
   "source": [
    "__Get only columns used for project__\n",
    "* Following columns be used for the project\n",
    "    * user_id\n",
    "    * book_id\n",
    "    * review_id\n",
    "    * is_read\n",
    "    * rating\n",
    "    * date_added\n",
    "    * date_updated"
   ]
  },
  {
   "cell_type": "code",
   "execution_count": 238,
   "id": "2bd281cf",
   "metadata": {},
   "outputs": [],
   "source": [
    "books_interactions_final = books_interactions_comics[['user_id', 'book_id', 'review_id', 'is_read', 'rating', 'date_added', 'date_updated']].reset_index()\n",
    "interaction_columns = books_interactions_final.columns"
   ]
  },
  {
   "cell_type": "code",
   "execution_count": 239,
   "id": "70504457",
   "metadata": {},
   "outputs": [
    {
     "data": {
      "text/plain": [
       "Index(['index', 'user_id', 'book_id', 'review_id', 'is_read', 'rating',\n",
       "       'date_added', 'date_updated'],\n",
       "      dtype='object')"
      ]
     },
     "execution_count": 239,
     "metadata": {},
     "output_type": "execute_result"
    }
   ],
   "source": [
    "interaction_columns"
   ]
  },
  {
   "cell_type": "code",
   "execution_count": 240,
   "id": "121bf7fd",
   "metadata": {},
   "outputs": [
    {
     "data": {
      "text/html": [
       "<div>\n",
       "<style scoped>\n",
       "    .dataframe tbody tr th:only-of-type {\n",
       "        vertical-align: middle;\n",
       "    }\n",
       "\n",
       "    .dataframe tbody tr th {\n",
       "        vertical-align: top;\n",
       "    }\n",
       "\n",
       "    .dataframe thead th {\n",
       "        text-align: right;\n",
       "    }\n",
       "</style>\n",
       "<table border=\"1\" class=\"dataframe\">\n",
       "  <thead>\n",
       "    <tr style=\"text-align: right;\">\n",
       "      <th></th>\n",
       "      <th>index</th>\n",
       "      <th>user_id</th>\n",
       "      <th>book_id</th>\n",
       "      <th>review_id</th>\n",
       "      <th>is_read</th>\n",
       "      <th>rating</th>\n",
       "      <th>date_added</th>\n",
       "      <th>date_updated</th>\n",
       "    </tr>\n",
       "  </thead>\n",
       "  <tbody>\n",
       "    <tr>\n",
       "      <th>0</th>\n",
       "      <td>1</td>\n",
       "      <td>8842281e1d1347389f2ab93d60773d4d</td>\n",
       "      <td>7648967</td>\n",
       "      <td>99b27059f711c37de8f90ee8e4dc0d1b</td>\n",
       "      <td>False</td>\n",
       "      <td>0</td>\n",
       "      <td>Fri Feb 24 08:59:44 -0800 2017</td>\n",
       "      <td>Fri Feb 24 08:59:44 -0800 2017</td>\n",
       "    </tr>\n",
       "    <tr>\n",
       "      <th>1</th>\n",
       "      <td>2</td>\n",
       "      <td>8842281e1d1347389f2ab93d60773d4d</td>\n",
       "      <td>15704307</td>\n",
       "      <td>cb944d94854df5afd22210bb0aa0c903</td>\n",
       "      <td>False</td>\n",
       "      <td>0</td>\n",
       "      <td>Wed May 20 21:28:56 -0700 2015</td>\n",
       "      <td>Wed May 20 21:28:57 -0700 2015</td>\n",
       "    </tr>\n",
       "    <tr>\n",
       "      <th>2</th>\n",
       "      <td>3</td>\n",
       "      <td>8842281e1d1347389f2ab93d60773d4d</td>\n",
       "      <td>6902644</td>\n",
       "      <td>2711bac2a8cc600dae1590a6ca0edb34</td>\n",
       "      <td>False</td>\n",
       "      <td>0</td>\n",
       "      <td>Sun Jun 01 17:25:23 -0700 2014</td>\n",
       "      <td>Sun Jun 01 17:25:23 -0700 2014</td>\n",
       "    </tr>\n",
       "    <tr>\n",
       "      <th>3</th>\n",
       "      <td>5</td>\n",
       "      <td>8842281e1d1347389f2ab93d60773d4d</td>\n",
       "      <td>13163846</td>\n",
       "      <td>84ae8909f3fee71ba40be06e3a6aa32e</td>\n",
       "      <td>False</td>\n",
       "      <td>0</td>\n",
       "      <td>Tue Jul 24 14:36:13 -0700 2012</td>\n",
       "      <td>Tue Jul 24 14:36:13 -0700 2012</td>\n",
       "    </tr>\n",
       "    <tr>\n",
       "      <th>4</th>\n",
       "      <td>8</td>\n",
       "      <td>8842281e1d1347389f2ab93d60773d4d</td>\n",
       "      <td>472331</td>\n",
       "      <td>dc86ebd8df595749ebe277dd67b0a865</td>\n",
       "      <td>False</td>\n",
       "      <td>0</td>\n",
       "      <td>Thu Aug 14 10:56:30 -0700 2008</td>\n",
       "      <td>Fri Jun 05 12:28:47 -0700 2009</td>\n",
       "    </tr>\n",
       "  </tbody>\n",
       "</table>\n",
       "</div>"
      ],
      "text/plain": [
       "   index                           user_id   book_id  \\\n",
       "0      1  8842281e1d1347389f2ab93d60773d4d   7648967   \n",
       "1      2  8842281e1d1347389f2ab93d60773d4d  15704307   \n",
       "2      3  8842281e1d1347389f2ab93d60773d4d   6902644   \n",
       "3      5  8842281e1d1347389f2ab93d60773d4d  13163846   \n",
       "4      8  8842281e1d1347389f2ab93d60773d4d    472331   \n",
       "\n",
       "                          review_id  is_read  rating  \\\n",
       "0  99b27059f711c37de8f90ee8e4dc0d1b    False       0   \n",
       "1  cb944d94854df5afd22210bb0aa0c903    False       0   \n",
       "2  2711bac2a8cc600dae1590a6ca0edb34    False       0   \n",
       "3  84ae8909f3fee71ba40be06e3a6aa32e    False       0   \n",
       "4  dc86ebd8df595749ebe277dd67b0a865    False       0   \n",
       "\n",
       "                       date_added                    date_updated  \n",
       "0  Fri Feb 24 08:59:44 -0800 2017  Fri Feb 24 08:59:44 -0800 2017  \n",
       "1  Wed May 20 21:28:56 -0700 2015  Wed May 20 21:28:57 -0700 2015  \n",
       "2  Sun Jun 01 17:25:23 -0700 2014  Sun Jun 01 17:25:23 -0700 2014  \n",
       "3  Tue Jul 24 14:36:13 -0700 2012  Tue Jul 24 14:36:13 -0700 2012  \n",
       "4  Thu Aug 14 10:56:30 -0700 2008  Fri Jun 05 12:28:47 -0700 2009  "
      ]
     },
     "execution_count": 240,
     "metadata": {},
     "output_type": "execute_result"
    }
   ],
   "source": [
    "books_interactions_final.head()"
   ]
  },
  {
   "cell_type": "markdown",
   "id": "5d462629",
   "metadata": {},
   "source": [
    "__Drop rows having null values__"
   ]
  },
  {
   "cell_type": "code",
   "execution_count": 241,
   "id": "da5cb50a",
   "metadata": {},
   "outputs": [],
   "source": [
    "drop_rows_interaction = []\n",
    "for rows in range(len(books_interactions_final)):\n",
    "    useful = 1\n",
    "    for cols in interaction_columns:\n",
    "        if(books_interactions_final[cols][rows] == ''):\n",
    "            useful = 0\n",
    "            break\n",
    "        else:\n",
    "            useful = 1\n",
    "    if(useful == 0):\n",
    "        drop_rows_interaction.append(rows)"
   ]
  },
  {
   "cell_type": "code",
   "execution_count": 243,
   "id": "11bf17c6",
   "metadata": {},
   "outputs": [
    {
     "data": {
      "text/plain": [
       "0"
      ]
     },
     "execution_count": 243,
     "metadata": {},
     "output_type": "execute_result"
    }
   ],
   "source": [
    "len(drop_rows_interaction)"
   ]
  },
  {
   "cell_type": "markdown",
   "id": "e53b75ed",
   "metadata": {},
   "source": [
    "__Export books_interactions_final__"
   ]
  },
  {
   "cell_type": "code",
   "execution_count": 244,
   "id": "ed9721bc",
   "metadata": {},
   "outputs": [],
   "source": [
    "books_interactions_final.to_json('final_dataset/books_interactions_final.json')"
   ]
  },
  {
   "cell_type": "markdown",
   "id": "45fb0fc8",
   "metadata": {},
   "source": [
    "# goodreads_reviews_comics_graphic dataset"
   ]
  },
  {
   "cell_type": "code",
   "execution_count": 247,
   "id": "54c64be5",
   "metadata": {},
   "outputs": [],
   "source": [
    "dataframe3 = pd.read_json('goodreads_reviews_comics_graphic.json', lines=True)"
   ]
  },
  {
   "cell_type": "code",
   "execution_count": 1,
   "id": "b2efdcaf",
   "metadata": {},
   "outputs": [
    {
     "ename": "NameError",
     "evalue": "name 'dataframe3' is not defined",
     "output_type": "error",
     "traceback": [
      "\u001b[0;31m---------------------------------------------------------------------------\u001b[0m",
      "\u001b[0;31mNameError\u001b[0m                                 Traceback (most recent call last)",
      "\u001b[0;32m<ipython-input-1-5a982ebd93fd>\u001b[0m in \u001b[0;36m<module>\u001b[0;34m\u001b[0m\n\u001b[0;32m----> 1\u001b[0;31m \u001b[0mdataframe3\u001b[0m\u001b[0;34m.\u001b[0m\u001b[0mhead\u001b[0m\u001b[0;34m(\u001b[0m\u001b[0;34m)\u001b[0m\u001b[0;34m\u001b[0m\u001b[0;34m\u001b[0m\u001b[0m\n\u001b[0m",
      "\u001b[0;31mNameError\u001b[0m: name 'dataframe3' is not defined"
     ]
    }
   ],
   "source": [
    "dataframe3.head()"
   ]
  },
  {
   "cell_type": "code",
   "execution_count": 251,
   "id": "600b37dd",
   "metadata": {},
   "outputs": [
    {
     "name": "stdout",
     "output_type": "stream",
     "text": [
      "<class 'pandas.core.frame.DataFrame'>\n",
      "RangeIndex: 542338 entries, 0 to 542337\n",
      "Data columns (total 11 columns):\n",
      " #   Column        Non-Null Count   Dtype \n",
      "---  ------        --------------   ----- \n",
      " 0   user_id       542338 non-null  object\n",
      " 1   book_id       542338 non-null  int64 \n",
      " 2   review_id     542338 non-null  object\n",
      " 3   rating        542338 non-null  int64 \n",
      " 4   review_text   542338 non-null  object\n",
      " 5   date_added    542338 non-null  object\n",
      " 6   date_updated  542338 non-null  object\n",
      " 7   read_at       542338 non-null  object\n",
      " 8   started_at    542338 non-null  object\n",
      " 9   n_votes       542338 non-null  int64 \n",
      " 10  n_comments    542338 non-null  int64 \n",
      "dtypes: int64(4), object(7)\n",
      "memory usage: 45.5+ MB\n"
     ]
    }
   ],
   "source": [
    "dataframe3.info()"
   ]
  },
  {
   "cell_type": "markdown",
   "id": "2431c646",
   "metadata": {},
   "source": [
    "__Get only the rows corresponding to the books from books_metadata_final.json file__"
   ]
  },
  {
   "cell_type": "code",
   "execution_count": 252,
   "id": "85798e8a",
   "metadata": {},
   "outputs": [],
   "source": [
    "books_review_comics = dataframe3[dataframe3['book_id'].isin(books_metadata_final['book_id'])]"
   ]
  },
  {
   "cell_type": "code",
   "execution_count": 255,
   "id": "650344ff",
   "metadata": {},
   "outputs": [
    {
     "data": {
      "text/html": [
       "<div>\n",
       "<style scoped>\n",
       "    .dataframe tbody tr th:only-of-type {\n",
       "        vertical-align: middle;\n",
       "    }\n",
       "\n",
       "    .dataframe tbody tr th {\n",
       "        vertical-align: top;\n",
       "    }\n",
       "\n",
       "    .dataframe thead th {\n",
       "        text-align: right;\n",
       "    }\n",
       "</style>\n",
       "<table border=\"1\" class=\"dataframe\">\n",
       "  <thead>\n",
       "    <tr style=\"text-align: right;\">\n",
       "      <th></th>\n",
       "      <th>user_id</th>\n",
       "      <th>book_id</th>\n",
       "      <th>review_id</th>\n",
       "      <th>rating</th>\n",
       "      <th>review_text</th>\n",
       "      <th>date_added</th>\n",
       "      <th>date_updated</th>\n",
       "      <th>read_at</th>\n",
       "      <th>started_at</th>\n",
       "      <th>n_votes</th>\n",
       "      <th>n_comments</th>\n",
       "    </tr>\n",
       "  </thead>\n",
       "  <tbody>\n",
       "    <tr>\n",
       "      <th>0</th>\n",
       "      <td>dc3763cdb9b2cae805882878eebb6a32</td>\n",
       "      <td>18471619</td>\n",
       "      <td>66b2ba840f9bd36d6d27f46136fe4772</td>\n",
       "      <td>3</td>\n",
       "      <td>Sherlock Holmes and the Vampires of London \\n ...</td>\n",
       "      <td>Thu Dec 05 10:44:25 -0800 2013</td>\n",
       "      <td>Thu Dec 05 10:45:15 -0800 2013</td>\n",
       "      <td>Tue Nov 05 00:00:00 -0800 2013</td>\n",
       "      <td></td>\n",
       "      <td>0</td>\n",
       "      <td>0</td>\n",
       "    </tr>\n",
       "    <tr>\n",
       "      <th>1</th>\n",
       "      <td>bafc2d50014200cda7cb2b6acd60cd73</td>\n",
       "      <td>6315584</td>\n",
       "      <td>72f1229aba5a88f9e72f0dcdc007dd22</td>\n",
       "      <td>4</td>\n",
       "      <td>I've never really liked Spider-Man. I am, howe...</td>\n",
       "      <td>Wed Aug 10 06:06:48 -0700 2016</td>\n",
       "      <td>Fri Aug 12 08:49:54 -0700 2016</td>\n",
       "      <td>Fri Aug 12 08:49:54 -0700 2016</td>\n",
       "      <td>Wed Aug 10 00:00:00 -0700 2016</td>\n",
       "      <td>0</td>\n",
       "      <td>0</td>\n",
       "    </tr>\n",
       "    <tr>\n",
       "      <th>3</th>\n",
       "      <td>bafc2d50014200cda7cb2b6acd60cd73</td>\n",
       "      <td>18454118</td>\n",
       "      <td>c3cc5a3e1d6b6c9cf1c044f306c8e752</td>\n",
       "      <td>5</td>\n",
       "      <td>I've been waiting so long for this. I first st...</td>\n",
       "      <td>Mon Mar 03 17:45:56 -0800 2014</td>\n",
       "      <td>Mon Mar 03 17:54:11 -0800 2014</td>\n",
       "      <td>Sat Mar 01 00:00:00 -0800 2014</td>\n",
       "      <td>Sat Mar 01 00:00:00 -0800 2014</td>\n",
       "      <td>1</td>\n",
       "      <td>0</td>\n",
       "    </tr>\n",
       "    <tr>\n",
       "      <th>4</th>\n",
       "      <td>bafc2d50014200cda7cb2b6acd60cd73</td>\n",
       "      <td>2239435</td>\n",
       "      <td>cc444be37ab0a42bfb4dd818cb5edd10</td>\n",
       "      <td>4</td>\n",
       "      <td>The only thing more entertaining than this boo...</td>\n",
       "      <td>Wed Apr 03 12:37:48 -0700 2013</td>\n",
       "      <td>Wed Apr 03 13:03:36 -0700 2013</td>\n",
       "      <td>Wed Apr 03 13:03:36 -0700 2013</td>\n",
       "      <td></td>\n",
       "      <td>0</td>\n",
       "      <td>0</td>\n",
       "    </tr>\n",
       "    <tr>\n",
       "      <th>6</th>\n",
       "      <td>bafc2d50014200cda7cb2b6acd60cd73</td>\n",
       "      <td>13526176</td>\n",
       "      <td>68267ebf90e2da0d96a3d6aefb5b8ac7</td>\n",
       "      <td>3</td>\n",
       "      <td>This wasn't my favourite Black Butler book. I ...</td>\n",
       "      <td>Thu Nov 15 13:28:38 -0800 2012</td>\n",
       "      <td>Thu Nov 15 13:32:17 -0800 2012</td>\n",
       "      <td>Thu Nov 15 13:32:17 -0800 2012</td>\n",
       "      <td>Tue Nov 13 00:00:00 -0800 2012</td>\n",
       "      <td>0</td>\n",
       "      <td>0</td>\n",
       "    </tr>\n",
       "  </tbody>\n",
       "</table>\n",
       "</div>"
      ],
      "text/plain": [
       "                            user_id   book_id  \\\n",
       "0  dc3763cdb9b2cae805882878eebb6a32  18471619   \n",
       "1  bafc2d50014200cda7cb2b6acd60cd73   6315584   \n",
       "3  bafc2d50014200cda7cb2b6acd60cd73  18454118   \n",
       "4  bafc2d50014200cda7cb2b6acd60cd73   2239435   \n",
       "6  bafc2d50014200cda7cb2b6acd60cd73  13526176   \n",
       "\n",
       "                          review_id  rating  \\\n",
       "0  66b2ba840f9bd36d6d27f46136fe4772       3   \n",
       "1  72f1229aba5a88f9e72f0dcdc007dd22       4   \n",
       "3  c3cc5a3e1d6b6c9cf1c044f306c8e752       5   \n",
       "4  cc444be37ab0a42bfb4dd818cb5edd10       4   \n",
       "6  68267ebf90e2da0d96a3d6aefb5b8ac7       3   \n",
       "\n",
       "                                         review_text  \\\n",
       "0  Sherlock Holmes and the Vampires of London \\n ...   \n",
       "1  I've never really liked Spider-Man. I am, howe...   \n",
       "3  I've been waiting so long for this. I first st...   \n",
       "4  The only thing more entertaining than this boo...   \n",
       "6  This wasn't my favourite Black Butler book. I ...   \n",
       "\n",
       "                       date_added                    date_updated  \\\n",
       "0  Thu Dec 05 10:44:25 -0800 2013  Thu Dec 05 10:45:15 -0800 2013   \n",
       "1  Wed Aug 10 06:06:48 -0700 2016  Fri Aug 12 08:49:54 -0700 2016   \n",
       "3  Mon Mar 03 17:45:56 -0800 2014  Mon Mar 03 17:54:11 -0800 2014   \n",
       "4  Wed Apr 03 12:37:48 -0700 2013  Wed Apr 03 13:03:36 -0700 2013   \n",
       "6  Thu Nov 15 13:28:38 -0800 2012  Thu Nov 15 13:32:17 -0800 2012   \n",
       "\n",
       "                          read_at                      started_at  n_votes  \\\n",
       "0  Tue Nov 05 00:00:00 -0800 2013                                        0   \n",
       "1  Fri Aug 12 08:49:54 -0700 2016  Wed Aug 10 00:00:00 -0700 2016        0   \n",
       "3  Sat Mar 01 00:00:00 -0800 2014  Sat Mar 01 00:00:00 -0800 2014        1   \n",
       "4  Wed Apr 03 13:03:36 -0700 2013                                        0   \n",
       "6  Thu Nov 15 13:32:17 -0800 2012  Tue Nov 13 00:00:00 -0800 2012        0   \n",
       "\n",
       "   n_comments  \n",
       "0           0  \n",
       "1           0  \n",
       "3           0  \n",
       "4           0  \n",
       "6           0  "
      ]
     },
     "execution_count": 255,
     "metadata": {},
     "output_type": "execute_result"
    }
   ],
   "source": [
    "books_review_comics.head()"
   ]
  },
  {
   "cell_type": "markdown",
   "id": "2ca64109",
   "metadata": {},
   "source": [
    "__Get only columns used for the project__\n",
    "* Following columns may be used\n",
    "    * user_id\n",
    "    * book_id\n",
    "    * review_id\n",
    "    * rating\n",
    "    * review_text\n",
    "    * date_added\n",
    "    * date_updated\n",
    "    * read_at\n",
    "    * n_votes\n",
    "    * n_comments"
   ]
  },
  {
   "cell_type": "code",
   "execution_count": 263,
   "id": "e22f8841",
   "metadata": {},
   "outputs": [],
   "source": [
    "books_review_comics =  books_review_comics[['user_id','book_id','review_id','rating','review_text','date_added','date_updated','read_at', 'n_votes', 'n_comments']].reset_index()\n",
    "review_columns = books_review_comics.columns"
   ]
  },
  {
   "cell_type": "code",
   "execution_count": 264,
   "id": "8a43eabe",
   "metadata": {},
   "outputs": [
    {
     "data": {
      "text/plain": [
       "Index(['index', 'user_id', 'book_id', 'review_id', 'rating', 'review_text',\n",
       "       'date_added', 'date_updated', 'read_at', 'n_votes', 'n_comments'],\n",
       "      dtype='object')"
      ]
     },
     "execution_count": 264,
     "metadata": {},
     "output_type": "execute_result"
    }
   ],
   "source": [
    "review_columns"
   ]
  },
  {
   "cell_type": "code",
   "execution_count": 265,
   "id": "38184506",
   "metadata": {},
   "outputs": [
    {
     "name": "stdout",
     "output_type": "stream",
     "text": [
      "<class 'pandas.core.frame.DataFrame'>\n",
      "RangeIndex: 330052 entries, 0 to 330051\n",
      "Data columns (total 11 columns):\n",
      " #   Column        Non-Null Count   Dtype \n",
      "---  ------        --------------   ----- \n",
      " 0   index         330052 non-null  int64 \n",
      " 1   user_id       330052 non-null  object\n",
      " 2   book_id       330052 non-null  int64 \n",
      " 3   review_id     330052 non-null  object\n",
      " 4   rating        330052 non-null  int64 \n",
      " 5   review_text   330052 non-null  object\n",
      " 6   date_added    330052 non-null  object\n",
      " 7   date_updated  330052 non-null  object\n",
      " 8   read_at       330052 non-null  object\n",
      " 9   n_votes       330052 non-null  int64 \n",
      " 10  n_comments    330052 non-null  int64 \n",
      "dtypes: int64(5), object(6)\n",
      "memory usage: 27.7+ MB\n"
     ]
    }
   ],
   "source": [
    "books_review_comics.info()"
   ]
  },
  {
   "cell_type": "markdown",
   "id": "4e8750f9",
   "metadata": {},
   "source": [
    "__Drop rows having null values__"
   ]
  },
  {
   "cell_type": "code",
   "execution_count": 266,
   "id": "3471c42c",
   "metadata": {},
   "outputs": [],
   "source": [
    "drop_rows_review = []\n",
    "for rows in range(len(books_review_comics)):\n",
    "    useful = 1\n",
    "    for cols in review_columns:\n",
    "        if(books_review_comics[cols][rows] == ''):\n",
    "            useful = 0\n",
    "            break\n",
    "        else:\n",
    "            useful = 1\n",
    "    if(useful == 0):\n",
    "        drop_rows_interaction.append(rows)"
   ]
  },
  {
   "cell_type": "code",
   "execution_count": 269,
   "id": "7c2ad6ab",
   "metadata": {},
   "outputs": [
    {
     "data": {
      "text/plain": [
       "0"
      ]
     },
     "execution_count": 269,
     "metadata": {},
     "output_type": "execute_result"
    }
   ],
   "source": [
    "len(drop_rows_review)"
   ]
  },
  {
   "cell_type": "code",
   "execution_count": 270,
   "id": "f966faaa",
   "metadata": {},
   "outputs": [
    {
     "data": {
      "text/html": [
       "<div>\n",
       "<style scoped>\n",
       "    .dataframe tbody tr th:only-of-type {\n",
       "        vertical-align: middle;\n",
       "    }\n",
       "\n",
       "    .dataframe tbody tr th {\n",
       "        vertical-align: top;\n",
       "    }\n",
       "\n",
       "    .dataframe thead th {\n",
       "        text-align: right;\n",
       "    }\n",
       "</style>\n",
       "<table border=\"1\" class=\"dataframe\">\n",
       "  <thead>\n",
       "    <tr style=\"text-align: right;\">\n",
       "      <th></th>\n",
       "      <th>index</th>\n",
       "      <th>user_id</th>\n",
       "      <th>book_id</th>\n",
       "      <th>review_id</th>\n",
       "      <th>rating</th>\n",
       "      <th>review_text</th>\n",
       "      <th>date_added</th>\n",
       "      <th>date_updated</th>\n",
       "      <th>read_at</th>\n",
       "      <th>n_votes</th>\n",
       "      <th>n_comments</th>\n",
       "    </tr>\n",
       "  </thead>\n",
       "  <tbody>\n",
       "    <tr>\n",
       "      <th>0</th>\n",
       "      <td>0</td>\n",
       "      <td>dc3763cdb9b2cae805882878eebb6a32</td>\n",
       "      <td>18471619</td>\n",
       "      <td>66b2ba840f9bd36d6d27f46136fe4772</td>\n",
       "      <td>3</td>\n",
       "      <td>Sherlock Holmes and the Vampires of London \\n ...</td>\n",
       "      <td>Thu Dec 05 10:44:25 -0800 2013</td>\n",
       "      <td>Thu Dec 05 10:45:15 -0800 2013</td>\n",
       "      <td>Tue Nov 05 00:00:00 -0800 2013</td>\n",
       "      <td>0</td>\n",
       "      <td>0</td>\n",
       "    </tr>\n",
       "    <tr>\n",
       "      <th>1</th>\n",
       "      <td>1</td>\n",
       "      <td>bafc2d50014200cda7cb2b6acd60cd73</td>\n",
       "      <td>6315584</td>\n",
       "      <td>72f1229aba5a88f9e72f0dcdc007dd22</td>\n",
       "      <td>4</td>\n",
       "      <td>I've never really liked Spider-Man. I am, howe...</td>\n",
       "      <td>Wed Aug 10 06:06:48 -0700 2016</td>\n",
       "      <td>Fri Aug 12 08:49:54 -0700 2016</td>\n",
       "      <td>Fri Aug 12 08:49:54 -0700 2016</td>\n",
       "      <td>0</td>\n",
       "      <td>0</td>\n",
       "    </tr>\n",
       "    <tr>\n",
       "      <th>2</th>\n",
       "      <td>3</td>\n",
       "      <td>bafc2d50014200cda7cb2b6acd60cd73</td>\n",
       "      <td>18454118</td>\n",
       "      <td>c3cc5a3e1d6b6c9cf1c044f306c8e752</td>\n",
       "      <td>5</td>\n",
       "      <td>I've been waiting so long for this. I first st...</td>\n",
       "      <td>Mon Mar 03 17:45:56 -0800 2014</td>\n",
       "      <td>Mon Mar 03 17:54:11 -0800 2014</td>\n",
       "      <td>Sat Mar 01 00:00:00 -0800 2014</td>\n",
       "      <td>1</td>\n",
       "      <td>0</td>\n",
       "    </tr>\n",
       "    <tr>\n",
       "      <th>3</th>\n",
       "      <td>4</td>\n",
       "      <td>bafc2d50014200cda7cb2b6acd60cd73</td>\n",
       "      <td>2239435</td>\n",
       "      <td>cc444be37ab0a42bfb4dd818cb5edd10</td>\n",
       "      <td>4</td>\n",
       "      <td>The only thing more entertaining than this boo...</td>\n",
       "      <td>Wed Apr 03 12:37:48 -0700 2013</td>\n",
       "      <td>Wed Apr 03 13:03:36 -0700 2013</td>\n",
       "      <td>Wed Apr 03 13:03:36 -0700 2013</td>\n",
       "      <td>0</td>\n",
       "      <td>0</td>\n",
       "    </tr>\n",
       "    <tr>\n",
       "      <th>4</th>\n",
       "      <td>6</td>\n",
       "      <td>bafc2d50014200cda7cb2b6acd60cd73</td>\n",
       "      <td>13526176</td>\n",
       "      <td>68267ebf90e2da0d96a3d6aefb5b8ac7</td>\n",
       "      <td>3</td>\n",
       "      <td>This wasn't my favourite Black Butler book. I ...</td>\n",
       "      <td>Thu Nov 15 13:28:38 -0800 2012</td>\n",
       "      <td>Thu Nov 15 13:32:17 -0800 2012</td>\n",
       "      <td>Thu Nov 15 13:32:17 -0800 2012</td>\n",
       "      <td>0</td>\n",
       "      <td>0</td>\n",
       "    </tr>\n",
       "  </tbody>\n",
       "</table>\n",
       "</div>"
      ],
      "text/plain": [
       "   index                           user_id   book_id  \\\n",
       "0      0  dc3763cdb9b2cae805882878eebb6a32  18471619   \n",
       "1      1  bafc2d50014200cda7cb2b6acd60cd73   6315584   \n",
       "2      3  bafc2d50014200cda7cb2b6acd60cd73  18454118   \n",
       "3      4  bafc2d50014200cda7cb2b6acd60cd73   2239435   \n",
       "4      6  bafc2d50014200cda7cb2b6acd60cd73  13526176   \n",
       "\n",
       "                          review_id  rating  \\\n",
       "0  66b2ba840f9bd36d6d27f46136fe4772       3   \n",
       "1  72f1229aba5a88f9e72f0dcdc007dd22       4   \n",
       "2  c3cc5a3e1d6b6c9cf1c044f306c8e752       5   \n",
       "3  cc444be37ab0a42bfb4dd818cb5edd10       4   \n",
       "4  68267ebf90e2da0d96a3d6aefb5b8ac7       3   \n",
       "\n",
       "                                         review_text  \\\n",
       "0  Sherlock Holmes and the Vampires of London \\n ...   \n",
       "1  I've never really liked Spider-Man. I am, howe...   \n",
       "2  I've been waiting so long for this. I first st...   \n",
       "3  The only thing more entertaining than this boo...   \n",
       "4  This wasn't my favourite Black Butler book. I ...   \n",
       "\n",
       "                       date_added                    date_updated  \\\n",
       "0  Thu Dec 05 10:44:25 -0800 2013  Thu Dec 05 10:45:15 -0800 2013   \n",
       "1  Wed Aug 10 06:06:48 -0700 2016  Fri Aug 12 08:49:54 -0700 2016   \n",
       "2  Mon Mar 03 17:45:56 -0800 2014  Mon Mar 03 17:54:11 -0800 2014   \n",
       "3  Wed Apr 03 12:37:48 -0700 2013  Wed Apr 03 13:03:36 -0700 2013   \n",
       "4  Thu Nov 15 13:28:38 -0800 2012  Thu Nov 15 13:32:17 -0800 2012   \n",
       "\n",
       "                          read_at  n_votes  n_comments  \n",
       "0  Tue Nov 05 00:00:00 -0800 2013        0           0  \n",
       "1  Fri Aug 12 08:49:54 -0700 2016        0           0  \n",
       "2  Sat Mar 01 00:00:00 -0800 2014        1           0  \n",
       "3  Wed Apr 03 13:03:36 -0700 2013        0           0  \n",
       "4  Thu Nov 15 13:32:17 -0800 2012        0           0  "
      ]
     },
     "execution_count": 270,
     "metadata": {},
     "output_type": "execute_result"
    }
   ],
   "source": [
    "books_review_comics.head()"
   ]
  },
  {
   "cell_type": "markdown",
   "id": "52d85ab3",
   "metadata": {},
   "source": [
    "__export final data to json__"
   ]
  },
  {
   "cell_type": "code",
   "execution_count": 273,
   "id": "743f31a3",
   "metadata": {},
   "outputs": [],
   "source": [
    "books_review_comics.to_json('final_dataset/books_review_comics_final.json')"
   ]
  }
 ],
 "metadata": {
  "kernelspec": {
   "display_name": "Python 3",
   "language": "python",
   "name": "python3"
  },
  "language_info": {
   "codemirror_mode": {
    "name": "ipython",
    "version": 3
   },
   "file_extension": ".py",
   "mimetype": "text/x-python",
   "name": "python",
   "nbconvert_exporter": "python",
   "pygments_lexer": "ipython3",
   "version": "3.8.5"
  }
 },
 "nbformat": 4,
 "nbformat_minor": 5
}
