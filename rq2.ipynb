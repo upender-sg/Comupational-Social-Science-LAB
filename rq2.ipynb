{
 "cells": [
  {
   "cell_type": "markdown",
   "id": "4947e222",
   "metadata": {},
   "source": [
    "__Is there disparity between reviews and rating of book appraisal?__\n",
    "* Are the review text and the ratings of books are inline with each other"
   ]
  },
  {
   "cell_type": "code",
   "execution_count": 1,
   "id": "a57e2c0a",
   "metadata": {},
   "outputs": [],
   "source": [
    "import pandas as pd\n",
    "import re\n",
    "import time\n",
    "import datetime"
   ]
  },
  {
   "cell_type": "markdown",
   "id": "7ce30f9d",
   "metadata": {},
   "source": [
    "__Comics and Graphics__"
   ]
  },
  {
   "cell_type": "code",
   "execution_count": 16,
   "id": "8259ed5d",
   "metadata": {},
   "outputs": [],
   "source": [
    "review_comics = pd.read_json('books_review_comics_final.json')\n",
    "books_metadata_comics = pd.read_json('books_metadata_comics.json')"
   ]
  },
  {
   "cell_type": "code",
   "execution_count": 17,
   "id": "c515378a",
   "metadata": {},
   "outputs": [
    {
     "data": {
      "text/html": [
       "<div>\n",
       "<style scoped>\n",
       "    .dataframe tbody tr th:only-of-type {\n",
       "        vertical-align: middle;\n",
       "    }\n",
       "\n",
       "    .dataframe tbody tr th {\n",
       "        vertical-align: top;\n",
       "    }\n",
       "\n",
       "    .dataframe thead th {\n",
       "        text-align: right;\n",
       "    }\n",
       "</style>\n",
       "<table border=\"1\" class=\"dataframe\">\n",
       "  <thead>\n",
       "    <tr style=\"text-align: right;\">\n",
       "      <th></th>\n",
       "      <th>index</th>\n",
       "      <th>user_id</th>\n",
       "      <th>book_id</th>\n",
       "      <th>review_id</th>\n",
       "      <th>rating</th>\n",
       "      <th>review_text</th>\n",
       "      <th>date_added</th>\n",
       "      <th>date_updated</th>\n",
       "      <th>read_at</th>\n",
       "      <th>n_votes</th>\n",
       "      <th>n_comments</th>\n",
       "    </tr>\n",
       "  </thead>\n",
       "  <tbody>\n",
       "    <tr>\n",
       "      <th>0</th>\n",
       "      <td>0</td>\n",
       "      <td>dc3763cdb9b2cae805882878eebb6a32</td>\n",
       "      <td>18471619</td>\n",
       "      <td>66b2ba840f9bd36d6d27f46136fe4772</td>\n",
       "      <td>3</td>\n",
       "      <td>Sherlock Holmes and the Vampires of London \\n ...</td>\n",
       "      <td>Thu Dec 05 10:44:25 -0800 2013</td>\n",
       "      <td>Thu Dec 05 10:45:15 -0800 2013</td>\n",
       "      <td>Tue Nov 05 00:00:00 -0800 2013</td>\n",
       "      <td>0</td>\n",
       "      <td>0</td>\n",
       "    </tr>\n",
       "    <tr>\n",
       "      <th>1</th>\n",
       "      <td>1</td>\n",
       "      <td>bafc2d50014200cda7cb2b6acd60cd73</td>\n",
       "      <td>6315584</td>\n",
       "      <td>72f1229aba5a88f9e72f0dcdc007dd22</td>\n",
       "      <td>4</td>\n",
       "      <td>I've never really liked Spider-Man. I am, howe...</td>\n",
       "      <td>Wed Aug 10 06:06:48 -0700 2016</td>\n",
       "      <td>Fri Aug 12 08:49:54 -0700 2016</td>\n",
       "      <td>Fri Aug 12 08:49:54 -0700 2016</td>\n",
       "      <td>0</td>\n",
       "      <td>0</td>\n",
       "    </tr>\n",
       "    <tr>\n",
       "      <th>2</th>\n",
       "      <td>3</td>\n",
       "      <td>bafc2d50014200cda7cb2b6acd60cd73</td>\n",
       "      <td>18454118</td>\n",
       "      <td>c3cc5a3e1d6b6c9cf1c044f306c8e752</td>\n",
       "      <td>5</td>\n",
       "      <td>I've been waiting so long for this. I first st...</td>\n",
       "      <td>Mon Mar 03 17:45:56 -0800 2014</td>\n",
       "      <td>Mon Mar 03 17:54:11 -0800 2014</td>\n",
       "      <td>Sat Mar 01 00:00:00 -0800 2014</td>\n",
       "      <td>1</td>\n",
       "      <td>0</td>\n",
       "    </tr>\n",
       "    <tr>\n",
       "      <th>3</th>\n",
       "      <td>4</td>\n",
       "      <td>bafc2d50014200cda7cb2b6acd60cd73</td>\n",
       "      <td>2239435</td>\n",
       "      <td>cc444be37ab0a42bfb4dd818cb5edd10</td>\n",
       "      <td>4</td>\n",
       "      <td>The only thing more entertaining than this boo...</td>\n",
       "      <td>Wed Apr 03 12:37:48 -0700 2013</td>\n",
       "      <td>Wed Apr 03 13:03:36 -0700 2013</td>\n",
       "      <td>Wed Apr 03 13:03:36 -0700 2013</td>\n",
       "      <td>0</td>\n",
       "      <td>0</td>\n",
       "    </tr>\n",
       "    <tr>\n",
       "      <th>4</th>\n",
       "      <td>6</td>\n",
       "      <td>bafc2d50014200cda7cb2b6acd60cd73</td>\n",
       "      <td>13526176</td>\n",
       "      <td>68267ebf90e2da0d96a3d6aefb5b8ac7</td>\n",
       "      <td>3</td>\n",
       "      <td>This wasn't my favourite Black Butler book. I ...</td>\n",
       "      <td>Thu Nov 15 13:28:38 -0800 2012</td>\n",
       "      <td>Thu Nov 15 13:32:17 -0800 2012</td>\n",
       "      <td>Thu Nov 15 13:32:17 -0800 2012</td>\n",
       "      <td>0</td>\n",
       "      <td>0</td>\n",
       "    </tr>\n",
       "  </tbody>\n",
       "</table>\n",
       "</div>"
      ],
      "text/plain": [
       "   index                           user_id   book_id  \\\n",
       "0      0  dc3763cdb9b2cae805882878eebb6a32  18471619   \n",
       "1      1  bafc2d50014200cda7cb2b6acd60cd73   6315584   \n",
       "2      3  bafc2d50014200cda7cb2b6acd60cd73  18454118   \n",
       "3      4  bafc2d50014200cda7cb2b6acd60cd73   2239435   \n",
       "4      6  bafc2d50014200cda7cb2b6acd60cd73  13526176   \n",
       "\n",
       "                          review_id  rating  \\\n",
       "0  66b2ba840f9bd36d6d27f46136fe4772       3   \n",
       "1  72f1229aba5a88f9e72f0dcdc007dd22       4   \n",
       "2  c3cc5a3e1d6b6c9cf1c044f306c8e752       5   \n",
       "3  cc444be37ab0a42bfb4dd818cb5edd10       4   \n",
       "4  68267ebf90e2da0d96a3d6aefb5b8ac7       3   \n",
       "\n",
       "                                         review_text  \\\n",
       "0  Sherlock Holmes and the Vampires of London \\n ...   \n",
       "1  I've never really liked Spider-Man. I am, howe...   \n",
       "2  I've been waiting so long for this. I first st...   \n",
       "3  The only thing more entertaining than this boo...   \n",
       "4  This wasn't my favourite Black Butler book. I ...   \n",
       "\n",
       "                       date_added                    date_updated  \\\n",
       "0  Thu Dec 05 10:44:25 -0800 2013  Thu Dec 05 10:45:15 -0800 2013   \n",
       "1  Wed Aug 10 06:06:48 -0700 2016  Fri Aug 12 08:49:54 -0700 2016   \n",
       "2  Mon Mar 03 17:45:56 -0800 2014  Mon Mar 03 17:54:11 -0800 2014   \n",
       "3  Wed Apr 03 12:37:48 -0700 2013  Wed Apr 03 13:03:36 -0700 2013   \n",
       "4  Thu Nov 15 13:28:38 -0800 2012  Thu Nov 15 13:32:17 -0800 2012   \n",
       "\n",
       "                          read_at  n_votes  n_comments  \n",
       "0  Tue Nov 05 00:00:00 -0800 2013        0           0  \n",
       "1  Fri Aug 12 08:49:54 -0700 2016        0           0  \n",
       "2  Sat Mar 01 00:00:00 -0800 2014        1           0  \n",
       "3  Wed Apr 03 13:03:36 -0700 2013        0           0  \n",
       "4  Thu Nov 15 13:32:17 -0800 2012        0           0  "
      ]
     },
     "execution_count": 17,
     "metadata": {},
     "output_type": "execute_result"
    }
   ],
   "source": [
    "review_comics.head()"
   ]
  },
  {
   "cell_type": "code",
   "execution_count": 18,
   "id": "1866c73b",
   "metadata": {},
   "outputs": [
    {
     "name": "stdout",
     "output_type": "stream",
     "text": [
      "<class 'pandas.core.frame.DataFrame'>\n",
      "Int64Index: 330052 entries, 0 to 330051\n",
      "Data columns (total 11 columns):\n",
      " #   Column        Non-Null Count   Dtype \n",
      "---  ------        --------------   ----- \n",
      " 0   index         330052 non-null  int64 \n",
      " 1   user_id       330052 non-null  object\n",
      " 2   book_id       330052 non-null  int64 \n",
      " 3   review_id     330052 non-null  object\n",
      " 4   rating        330052 non-null  int64 \n",
      " 5   review_text   330052 non-null  object\n",
      " 6   date_added    330052 non-null  object\n",
      " 7   date_updated  330052 non-null  object\n",
      " 8   read_at       330052 non-null  object\n",
      " 9   n_votes       330052 non-null  int64 \n",
      " 10  n_comments    330052 non-null  int64 \n",
      "dtypes: int64(5), object(6)\n",
      "memory usage: 30.2+ MB\n"
     ]
    }
   ],
   "source": [
    "review_comics.info()"
   ]
  },
  {
   "cell_type": "code",
   "execution_count": 19,
   "id": "fce03f15",
   "metadata": {},
   "outputs": [],
   "source": [
    "review_texts = review_comics[['book_id','review_text']]"
   ]
  },
  {
   "cell_type": "code",
   "execution_count": 20,
   "id": "90b490dd",
   "metadata": {
    "scrolled": true
   },
   "outputs": [
    {
     "data": {
      "text/html": [
       "<div>\n",
       "<style scoped>\n",
       "    .dataframe tbody tr th:only-of-type {\n",
       "        vertical-align: middle;\n",
       "    }\n",
       "\n",
       "    .dataframe tbody tr th {\n",
       "        vertical-align: top;\n",
       "    }\n",
       "\n",
       "    .dataframe thead th {\n",
       "        text-align: right;\n",
       "    }\n",
       "</style>\n",
       "<table border=\"1\" class=\"dataframe\">\n",
       "  <thead>\n",
       "    <tr style=\"text-align: right;\">\n",
       "      <th></th>\n",
       "      <th>book_id</th>\n",
       "      <th>review_text</th>\n",
       "    </tr>\n",
       "  </thead>\n",
       "  <tbody>\n",
       "    <tr>\n",
       "      <th>0</th>\n",
       "      <td>18471619</td>\n",
       "      <td>Sherlock Holmes and the Vampires of London \\n ...</td>\n",
       "    </tr>\n",
       "    <tr>\n",
       "      <th>1</th>\n",
       "      <td>6315584</td>\n",
       "      <td>I've never really liked Spider-Man. I am, howe...</td>\n",
       "    </tr>\n",
       "    <tr>\n",
       "      <th>2</th>\n",
       "      <td>18454118</td>\n",
       "      <td>I've been waiting so long for this. I first st...</td>\n",
       "    </tr>\n",
       "    <tr>\n",
       "      <th>3</th>\n",
       "      <td>2239435</td>\n",
       "      <td>The only thing more entertaining than this boo...</td>\n",
       "    </tr>\n",
       "    <tr>\n",
       "      <th>4</th>\n",
       "      <td>13526176</td>\n",
       "      <td>This wasn't my favourite Black Butler book. I ...</td>\n",
       "    </tr>\n",
       "  </tbody>\n",
       "</table>\n",
       "</div>"
      ],
      "text/plain": [
       "    book_id                                        review_text\n",
       "0  18471619  Sherlock Holmes and the Vampires of London \\n ...\n",
       "1   6315584  I've never really liked Spider-Man. I am, howe...\n",
       "2  18454118  I've been waiting so long for this. I first st...\n",
       "3   2239435  The only thing more entertaining than this boo...\n",
       "4  13526176  This wasn't my favourite Black Butler book. I ..."
      ]
     },
     "execution_count": 20,
     "metadata": {},
     "output_type": "execute_result"
    }
   ],
   "source": [
    "review_texts.head()"
   ]
  },
  {
   "cell_type": "code",
   "execution_count": 8,
   "id": "d8b0a136",
   "metadata": {},
   "outputs": [],
   "source": [
    "def clean_data(df):\n",
    "    total_time = 0\n",
    "    start = time.time()\n",
    "    \n",
    "    review = pd.DataFrame()\n",
    "    #combine title, abstract and full_literature to text column\n",
    "    review['text'] = df['review_text']\n",
    "    \n",
    "    #convert text to lower case\n",
    "    review['text']  = review['text'].str.lower()\n",
    "    \n",
    "    #remove punctuations\n",
    "    #remove all non alphabetic characters\n",
    "    regex_1 = re.compile(r'[^a-zA-Z]')\n",
    "    review['text'] = pd.Series(review['text']).str.replace(regex_1, ' ')\n",
    "    \n",
    "    #reduce multi-space to single space\n",
    "    regex_2 = re.compile(r' +')\n",
    "    review['text'] = pd.Series(review['text']).str.replace(regex_2,' ')\n",
    "   \n",
    "    stop = time.time()\n",
    "    duration = stop-start\n",
    "    total_time = total_time + duration\n",
    "    time_taken = str(datetime.timedelta(seconds=total_time))    \n",
    "    print(\"Time taken/file :\",duration)\n",
    "    print(\"Total duration :\",time_taken)\n",
    "    \n",
    "    return review"
   ]
  },
  {
   "cell_type": "code",
   "execution_count": 11,
   "id": "1d618bab",
   "metadata": {
    "scrolled": false
   },
   "outputs": [
    {
     "name": "stdout",
     "output_type": "stream",
     "text": [
      "Time taken/file : 17.99536108970642\n",
      "Total duration : 0:00:17.995361\n"
     ]
    }
   ],
   "source": [
    "comics_reviews = clean_data(review_texts)"
   ]
  },
  {
   "cell_type": "code",
   "execution_count": 12,
   "id": "4af6a24e",
   "metadata": {
    "scrolled": true
   },
   "outputs": [
    {
     "data": {
      "text/html": [
       "<div>\n",
       "<style scoped>\n",
       "    .dataframe tbody tr th:only-of-type {\n",
       "        vertical-align: middle;\n",
       "    }\n",
       "\n",
       "    .dataframe tbody tr th {\n",
       "        vertical-align: top;\n",
       "    }\n",
       "\n",
       "    .dataframe thead th {\n",
       "        text-align: right;\n",
       "    }\n",
       "</style>\n",
       "<table border=\"1\" class=\"dataframe\">\n",
       "  <thead>\n",
       "    <tr style=\"text-align: right;\">\n",
       "      <th></th>\n",
       "      <th>text</th>\n",
       "    </tr>\n",
       "  </thead>\n",
       "  <tbody>\n",
       "    <tr>\n",
       "      <th>0</th>\n",
       "      <td>sherlock holmes and the vampires of london rel...</td>\n",
       "    </tr>\n",
       "    <tr>\n",
       "      <th>1</th>\n",
       "      <td>i ve never really liked spider man i am howeve...</td>\n",
       "    </tr>\n",
       "    <tr>\n",
       "      <th>2</th>\n",
       "      <td>i ve been waiting so long for this i first stu...</td>\n",
       "    </tr>\n",
       "    <tr>\n",
       "      <th>3</th>\n",
       "      <td>the only thing more entertaining than this boo...</td>\n",
       "    </tr>\n",
       "    <tr>\n",
       "      <th>4</th>\n",
       "      <td>this wasn t my favourite black butler book i w...</td>\n",
       "    </tr>\n",
       "  </tbody>\n",
       "</table>\n",
       "</div>"
      ],
      "text/plain": [
       "                                                text\n",
       "0  sherlock holmes and the vampires of london rel...\n",
       "1  i ve never really liked spider man i am howeve...\n",
       "2  i ve been waiting so long for this i first stu...\n",
       "3  the only thing more entertaining than this boo...\n",
       "4  this wasn t my favourite black butler book i w..."
      ]
     },
     "execution_count": 12,
     "metadata": {},
     "output_type": "execute_result"
    }
   ],
   "source": [
    "comics_reviews.head()"
   ]
  },
  {
   "cell_type": "code",
   "execution_count": 13,
   "id": "a4cf89a6",
   "metadata": {},
   "outputs": [],
   "source": [
    "comics_reviews['book_id'] = review_texts['book_id']"
   ]
  },
  {
   "cell_type": "code",
   "execution_count": 14,
   "id": "60590d5b",
   "metadata": {},
   "outputs": [
    {
     "data": {
      "text/plain": [
       "(330052, 2)"
      ]
     },
     "execution_count": 14,
     "metadata": {},
     "output_type": "execute_result"
    }
   ],
   "source": [
    "comics_reviews.shape"
   ]
  },
  {
   "cell_type": "code",
   "execution_count": 15,
   "id": "15fd1a62",
   "metadata": {},
   "outputs": [
    {
     "data": {
      "text/html": [
       "<div>\n",
       "<style scoped>\n",
       "    .dataframe tbody tr th:only-of-type {\n",
       "        vertical-align: middle;\n",
       "    }\n",
       "\n",
       "    .dataframe tbody tr th {\n",
       "        vertical-align: top;\n",
       "    }\n",
       "\n",
       "    .dataframe thead th {\n",
       "        text-align: right;\n",
       "    }\n",
       "</style>\n",
       "<table border=\"1\" class=\"dataframe\">\n",
       "  <thead>\n",
       "    <tr style=\"text-align: right;\">\n",
       "      <th></th>\n",
       "      <th>text</th>\n",
       "      <th>book_id</th>\n",
       "    </tr>\n",
       "  </thead>\n",
       "  <tbody>\n",
       "    <tr>\n",
       "      <th>0</th>\n",
       "      <td>sherlock holmes and the vampires of london rel...</td>\n",
       "      <td>18471619</td>\n",
       "    </tr>\n",
       "    <tr>\n",
       "      <th>1</th>\n",
       "      <td>i ve never really liked spider man i am howeve...</td>\n",
       "      <td>6315584</td>\n",
       "    </tr>\n",
       "    <tr>\n",
       "      <th>2</th>\n",
       "      <td>i ve been waiting so long for this i first stu...</td>\n",
       "      <td>18454118</td>\n",
       "    </tr>\n",
       "    <tr>\n",
       "      <th>3</th>\n",
       "      <td>the only thing more entertaining than this boo...</td>\n",
       "      <td>2239435</td>\n",
       "    </tr>\n",
       "    <tr>\n",
       "      <th>4</th>\n",
       "      <td>this wasn t my favourite black butler book i w...</td>\n",
       "      <td>13526176</td>\n",
       "    </tr>\n",
       "  </tbody>\n",
       "</table>\n",
       "</div>"
      ],
      "text/plain": [
       "                                                text   book_id\n",
       "0  sherlock holmes and the vampires of london rel...  18471619\n",
       "1  i ve never really liked spider man i am howeve...   6315584\n",
       "2  i ve been waiting so long for this i first stu...  18454118\n",
       "3  the only thing more entertaining than this boo...   2239435\n",
       "4  this wasn t my favourite black butler book i w...  13526176"
      ]
     },
     "execution_count": 15,
     "metadata": {},
     "output_type": "execute_result"
    }
   ],
   "source": [
    "comics_reviews.head()"
   ]
  },
  {
   "cell_type": "code",
   "execution_count": 16,
   "id": "04a01f97",
   "metadata": {},
   "outputs": [],
   "source": [
    "book_ids = books_metadata_comics['book_id']"
   ]
  },
  {
   "cell_type": "code",
   "execution_count": 17,
   "id": "b5561cd2",
   "metadata": {},
   "outputs": [
    {
     "data": {
      "text/plain": [
       "(23937,)"
      ]
     },
     "execution_count": 17,
     "metadata": {},
     "output_type": "execute_result"
    }
   ],
   "source": [
    "book_ids.shape"
   ]
  },
  {
   "cell_type": "code",
   "execution_count": 18,
   "id": "fb1f3f22",
   "metadata": {},
   "outputs": [],
   "source": [
    "comics_reviews = comics_reviews.loc[comics_reviews['book_id'].isin(book_ids)]"
   ]
  },
  {
   "cell_type": "code",
   "execution_count": 19,
   "id": "3418de40",
   "metadata": {},
   "outputs": [
    {
     "data": {
      "text/plain": [
       "(329149, 2)"
      ]
     },
     "execution_count": 19,
     "metadata": {},
     "output_type": "execute_result"
    }
   ],
   "source": [
    "comics_reviews.shape"
   ]
  },
  {
   "cell_type": "code",
   "execution_count": 20,
   "id": "2597daaf",
   "metadata": {
    "scrolled": true
   },
   "outputs": [
    {
     "data": {
      "text/html": [
       "<div>\n",
       "<style scoped>\n",
       "    .dataframe tbody tr th:only-of-type {\n",
       "        vertical-align: middle;\n",
       "    }\n",
       "\n",
       "    .dataframe tbody tr th {\n",
       "        vertical-align: top;\n",
       "    }\n",
       "\n",
       "    .dataframe thead th {\n",
       "        text-align: right;\n",
       "    }\n",
       "</style>\n",
       "<table border=\"1\" class=\"dataframe\">\n",
       "  <thead>\n",
       "    <tr style=\"text-align: right;\">\n",
       "      <th></th>\n",
       "      <th>text</th>\n",
       "      <th>book_id</th>\n",
       "    </tr>\n",
       "  </thead>\n",
       "  <tbody>\n",
       "    <tr>\n",
       "      <th>0</th>\n",
       "      <td>sherlock holmes and the vampires of london rel...</td>\n",
       "      <td>18471619</td>\n",
       "    </tr>\n",
       "    <tr>\n",
       "      <th>1</th>\n",
       "      <td>i ve never really liked spider man i am howeve...</td>\n",
       "      <td>6315584</td>\n",
       "    </tr>\n",
       "    <tr>\n",
       "      <th>2</th>\n",
       "      <td>i ve been waiting so long for this i first stu...</td>\n",
       "      <td>18454118</td>\n",
       "    </tr>\n",
       "    <tr>\n",
       "      <th>3</th>\n",
       "      <td>the only thing more entertaining than this boo...</td>\n",
       "      <td>2239435</td>\n",
       "    </tr>\n",
       "    <tr>\n",
       "      <th>4</th>\n",
       "      <td>this wasn t my favourite black butler book i w...</td>\n",
       "      <td>13526176</td>\n",
       "    </tr>\n",
       "  </tbody>\n",
       "</table>\n",
       "</div>"
      ],
      "text/plain": [
       "                                                text   book_id\n",
       "0  sherlock holmes and the vampires of london rel...  18471619\n",
       "1  i ve never really liked spider man i am howeve...   6315584\n",
       "2  i ve been waiting so long for this i first stu...  18454118\n",
       "3  the only thing more entertaining than this boo...   2239435\n",
       "4  this wasn t my favourite black butler book i w...  13526176"
      ]
     },
     "execution_count": 20,
     "metadata": {},
     "output_type": "execute_result"
    }
   ],
   "source": [
    "comics_reviews.head()"
   ]
  },
  {
   "cell_type": "code",
   "execution_count": 21,
   "id": "4b76e2de",
   "metadata": {},
   "outputs": [],
   "source": [
    "review_result = pd.merge(books_metadata_comics[['book_id','publication_year']], comics_reviews, on='book_id')"
   ]
  },
  {
   "cell_type": "code",
   "execution_count": 22,
   "id": "579e98f3",
   "metadata": {},
   "outputs": [
    {
     "data": {
      "text/plain": [
       "(329149, 3)"
      ]
     },
     "execution_count": 22,
     "metadata": {},
     "output_type": "execute_result"
    }
   ],
   "source": [
    "review_result.shape"
   ]
  },
  {
   "cell_type": "code",
   "execution_count": 23,
   "id": "dd0a6d5c",
   "metadata": {
    "scrolled": true
   },
   "outputs": [
    {
     "data": {
      "text/html": [
       "<div>\n",
       "<style scoped>\n",
       "    .dataframe tbody tr th:only-of-type {\n",
       "        vertical-align: middle;\n",
       "    }\n",
       "\n",
       "    .dataframe tbody tr th {\n",
       "        vertical-align: top;\n",
       "    }\n",
       "\n",
       "    .dataframe thead th {\n",
       "        text-align: right;\n",
       "    }\n",
       "</style>\n",
       "<table border=\"1\" class=\"dataframe\">\n",
       "  <thead>\n",
       "    <tr style=\"text-align: right;\">\n",
       "      <th></th>\n",
       "      <th>book_id</th>\n",
       "      <th>publication_year</th>\n",
       "      <th>text</th>\n",
       "    </tr>\n",
       "  </thead>\n",
       "  <tbody>\n",
       "    <tr>\n",
       "      <th>0</th>\n",
       "      <td>13571772</td>\n",
       "      <td>2012</td>\n",
       "      <td>it s an o k story much better than some other ...</td>\n",
       "    </tr>\n",
       "    <tr>\n",
       "      <th>1</th>\n",
       "      <td>13571772</td>\n",
       "      <td>2012</td>\n",
       "      <td>a captain america story involving a russian as...</td>\n",
       "    </tr>\n",
       "    <tr>\n",
       "      <th>2</th>\n",
       "      <td>13571772</td>\n",
       "      <td>2012</td>\n",
       "      <td>i read this in order to prepare myself for the...</td>\n",
       "    </tr>\n",
       "    <tr>\n",
       "      <th>3</th>\n",
       "      <td>707611</td>\n",
       "      <td>1997</td>\n",
       "      <td>action</td>\n",
       "    </tr>\n",
       "    <tr>\n",
       "      <th>4</th>\n",
       "      <td>27036536</td>\n",
       "      <td>2016</td>\n",
       "      <td>ennis has written brilliant war stories in the...</td>\n",
       "    </tr>\n",
       "  </tbody>\n",
       "</table>\n",
       "</div>"
      ],
      "text/plain": [
       "    book_id  publication_year  \\\n",
       "0  13571772              2012   \n",
       "1  13571772              2012   \n",
       "2  13571772              2012   \n",
       "3    707611              1997   \n",
       "4  27036536              2016   \n",
       "\n",
       "                                                text  \n",
       "0  it s an o k story much better than some other ...  \n",
       "1  a captain america story involving a russian as...  \n",
       "2  i read this in order to prepare myself for the...  \n",
       "3                                            action   \n",
       "4  ennis has written brilliant war stories in the...  "
      ]
     },
     "execution_count": 23,
     "metadata": {},
     "output_type": "execute_result"
    }
   ],
   "source": [
    "review_result.head()"
   ]
  },
  {
   "cell_type": "code",
   "execution_count": null,
   "id": "6730985e",
   "metadata": {},
   "outputs": [],
   "source": []
  },
  {
   "cell_type": "markdown",
   "id": "f9b7af35",
   "metadata": {},
   "source": [
    "# Sentiment analysis"
   ]
  },
  {
   "cell_type": "code",
   "execution_count": 26,
   "id": "d5f1ea96",
   "metadata": {},
   "outputs": [
    {
     "name": "stderr",
     "output_type": "stream",
     "text": [
      "[nltk_data] Downloading package vader_lexicon to\n",
      "[nltk_data]     /Users/uni/nltk_data...\n",
      "[nltk_data]   Package vader_lexicon is already up-to-date!\n"
     ]
    },
    {
     "data": {
      "text/plain": [
       "True"
      ]
     },
     "execution_count": 26,
     "metadata": {},
     "output_type": "execute_result"
    }
   ],
   "source": [
    "import nltk\n",
    "nltk.download('vader_lexicon')"
   ]
  },
  {
   "cell_type": "code",
   "execution_count": 27,
   "id": "b5730f67",
   "metadata": {},
   "outputs": [],
   "source": [
    "from nltk.sentiment.vader import SentimentIntensityAnalyzer\n",
    "sid = SentimentIntensityAnalyzer()"
   ]
  },
  {
   "cell_type": "code",
   "execution_count": 26,
   "id": "193ee721",
   "metadata": {},
   "outputs": [],
   "source": [
    "review_result['scores'] = review_result['text'].apply(lambda text: sid.polarity_scores(text))"
   ]
  },
  {
   "cell_type": "code",
   "execution_count": 27,
   "id": "72c1bc1c",
   "metadata": {},
   "outputs": [],
   "source": [
    "review_result['compound'] = review_result['scores'].apply(lambda sc_dict: sc_dict['compound'])"
   ]
  },
  {
   "cell_type": "code",
   "execution_count": 28,
   "id": "17b54270",
   "metadata": {},
   "outputs": [],
   "source": [
    "review_result['neg'] = review_result['scores'].apply(lambda sc_dict: sc_dict['neg'])\n",
    "review_result['neu'] = review_result['scores'].apply(lambda sc_dict: sc_dict['neu'])\n",
    "review_result['pos'] = review_result['scores'].apply(lambda sc_dict: sc_dict['pos'])"
   ]
  },
  {
   "cell_type": "code",
   "execution_count": 29,
   "id": "e077276c",
   "metadata": {},
   "outputs": [
    {
     "data": {
      "text/plain": [
       "-0.9998"
      ]
     },
     "execution_count": 29,
     "metadata": {},
     "output_type": "execute_result"
    }
   ],
   "source": [
    "review_result['compound'].min()"
   ]
  },
  {
   "cell_type": "code",
   "execution_count": 30,
   "id": "a327f0ae",
   "metadata": {},
   "outputs": [
    {
     "data": {
      "text/html": [
       "<div>\n",
       "<style scoped>\n",
       "    .dataframe tbody tr th:only-of-type {\n",
       "        vertical-align: middle;\n",
       "    }\n",
       "\n",
       "    .dataframe tbody tr th {\n",
       "        vertical-align: top;\n",
       "    }\n",
       "\n",
       "    .dataframe thead th {\n",
       "        text-align: right;\n",
       "    }\n",
       "</style>\n",
       "<table border=\"1\" class=\"dataframe\">\n",
       "  <thead>\n",
       "    <tr style=\"text-align: right;\">\n",
       "      <th></th>\n",
       "      <th>book_id</th>\n",
       "      <th>publication_year</th>\n",
       "      <th>text</th>\n",
       "      <th>scores</th>\n",
       "      <th>compound</th>\n",
       "      <th>neg</th>\n",
       "      <th>neu</th>\n",
       "      <th>pos</th>\n",
       "    </tr>\n",
       "  </thead>\n",
       "  <tbody>\n",
       "    <tr>\n",
       "      <th>0</th>\n",
       "      <td>13571772</td>\n",
       "      <td>2012</td>\n",
       "      <td>it s an o k story much better than some other ...</td>\n",
       "      <td>{'neg': 0.0, 'neu': 0.871, 'pos': 0.129, 'comp...</td>\n",
       "      <td>0.7514</td>\n",
       "      <td>0.000</td>\n",
       "      <td>0.871</td>\n",
       "      <td>0.129</td>\n",
       "    </tr>\n",
       "    <tr>\n",
       "      <th>1</th>\n",
       "      <td>13571772</td>\n",
       "      <td>2012</td>\n",
       "      <td>a captain america story involving a russian as...</td>\n",
       "      <td>{'neg': 0.032, 'neu': 0.902, 'pos': 0.066, 'co...</td>\n",
       "      <td>0.7002</td>\n",
       "      <td>0.032</td>\n",
       "      <td>0.902</td>\n",
       "      <td>0.066</td>\n",
       "    </tr>\n",
       "    <tr>\n",
       "      <th>2</th>\n",
       "      <td>13571772</td>\n",
       "      <td>2012</td>\n",
       "      <td>i read this in order to prepare myself for the...</td>\n",
       "      <td>{'neg': 0.0, 'neu': 0.804, 'pos': 0.196, 'comp...</td>\n",
       "      <td>0.9535</td>\n",
       "      <td>0.000</td>\n",
       "      <td>0.804</td>\n",
       "      <td>0.196</td>\n",
       "    </tr>\n",
       "    <tr>\n",
       "      <th>3</th>\n",
       "      <td>707611</td>\n",
       "      <td>1997</td>\n",
       "      <td>action</td>\n",
       "      <td>{'neg': 0.0, 'neu': 1.0, 'pos': 0.0, 'compound...</td>\n",
       "      <td>0.0000</td>\n",
       "      <td>0.000</td>\n",
       "      <td>1.000</td>\n",
       "      <td>0.000</td>\n",
       "    </tr>\n",
       "    <tr>\n",
       "      <th>4</th>\n",
       "      <td>27036536</td>\n",
       "      <td>2016</td>\n",
       "      <td>ennis has written brilliant war stories in the...</td>\n",
       "      <td>{'neg': 0.104, 'neu': 0.55, 'pos': 0.347, 'com...</td>\n",
       "      <td>0.6956</td>\n",
       "      <td>0.104</td>\n",
       "      <td>0.550</td>\n",
       "      <td>0.347</td>\n",
       "    </tr>\n",
       "  </tbody>\n",
       "</table>\n",
       "</div>"
      ],
      "text/plain": [
       "    book_id  publication_year  \\\n",
       "0  13571772              2012   \n",
       "1  13571772              2012   \n",
       "2  13571772              2012   \n",
       "3    707611              1997   \n",
       "4  27036536              2016   \n",
       "\n",
       "                                                text  \\\n",
       "0  it s an o k story much better than some other ...   \n",
       "1  a captain america story involving a russian as...   \n",
       "2  i read this in order to prepare myself for the...   \n",
       "3                                            action    \n",
       "4  ennis has written brilliant war stories in the...   \n",
       "\n",
       "                                              scores  compound    neg    neu  \\\n",
       "0  {'neg': 0.0, 'neu': 0.871, 'pos': 0.129, 'comp...    0.7514  0.000  0.871   \n",
       "1  {'neg': 0.032, 'neu': 0.902, 'pos': 0.066, 'co...    0.7002  0.032  0.902   \n",
       "2  {'neg': 0.0, 'neu': 0.804, 'pos': 0.196, 'comp...    0.9535  0.000  0.804   \n",
       "3  {'neg': 0.0, 'neu': 1.0, 'pos': 0.0, 'compound...    0.0000  0.000  1.000   \n",
       "4  {'neg': 0.104, 'neu': 0.55, 'pos': 0.347, 'com...    0.6956  0.104  0.550   \n",
       "\n",
       "     pos  \n",
       "0  0.129  \n",
       "1  0.066  \n",
       "2  0.196  \n",
       "3  0.000  \n",
       "4  0.347  "
      ]
     },
     "execution_count": 30,
     "metadata": {},
     "output_type": "execute_result"
    }
   ],
   "source": [
    "review_result.head()"
   ]
  },
  {
   "cell_type": "code",
   "execution_count": 32,
   "id": "049783ef",
   "metadata": {},
   "outputs": [],
   "source": [
    "#comics_reviews_sentiment = review_result[['publication_year','compound']]"
   ]
  },
  {
   "cell_type": "code",
   "execution_count": 33,
   "id": "bb05f463",
   "metadata": {},
   "outputs": [],
   "source": [
    "#mean_comics_sentiment = comics_reviews_sentiment.groupby('publication_year').agg('mean')"
   ]
  },
  {
   "cell_type": "code",
   "execution_count": 34,
   "id": "c30d528c",
   "metadata": {
    "scrolled": true
   },
   "outputs": [],
   "source": [
    "#mean_comics_sentiment.head()"
   ]
  },
  {
   "cell_type": "code",
   "execution_count": 35,
   "id": "e61646aa",
   "metadata": {},
   "outputs": [],
   "source": [
    "#mean_comics_sentiment.plot.line(style='-o', figsize=(10,5), markerfacecolor='blue', ylabel='sentiment')"
   ]
  },
  {
   "cell_type": "code",
   "execution_count": 36,
   "id": "2c5f5cd5",
   "metadata": {},
   "outputs": [],
   "source": [
    "#corr_matrix = pd.DataFrame(mean_comics_sentiment)\n",
    "#corr_matrix.shape"
   ]
  },
  {
   "cell_type": "code",
   "execution_count": 37,
   "id": "2f19dd5b",
   "metadata": {},
   "outputs": [],
   "source": [
    "#rating = books_metadata_comics[['publication_year','average_rating']].groupby('publication_year').agg('mean')\n",
    "#rating = pd.DataFrame(rating)"
   ]
  },
  {
   "cell_type": "code",
   "execution_count": 38,
   "id": "26c0d3a9",
   "metadata": {},
   "outputs": [],
   "source": [
    "#rating.shape"
   ]
  },
  {
   "cell_type": "code",
   "execution_count": 39,
   "id": "50593c97",
   "metadata": {},
   "outputs": [],
   "source": [
    "#corr_matrix['rating'] = rating['average_rating']"
   ]
  },
  {
   "cell_type": "code",
   "execution_count": 40,
   "id": "1448c90a",
   "metadata": {},
   "outputs": [],
   "source": [
    "#corr_matrix.head()"
   ]
  },
  {
   "cell_type": "code",
   "execution_count": 41,
   "id": "141e4cb5",
   "metadata": {},
   "outputs": [],
   "source": [
    "#corr_matrix.corr()"
   ]
  },
  {
   "cell_type": "markdown",
   "id": "d35318da",
   "metadata": {},
   "source": [
    "__pos neu neg sentiment per publication year__"
   ]
  },
  {
   "cell_type": "code",
   "execution_count": 42,
   "id": "668b59d3",
   "metadata": {},
   "outputs": [],
   "source": [
    "pos_neu_neg = review_result[['publication_year','pos','neu','neg']]"
   ]
  },
  {
   "cell_type": "code",
   "execution_count": 43,
   "id": "53d69853",
   "metadata": {},
   "outputs": [
    {
     "data": {
      "text/html": [
       "<div>\n",
       "<style scoped>\n",
       "    .dataframe tbody tr th:only-of-type {\n",
       "        vertical-align: middle;\n",
       "    }\n",
       "\n",
       "    .dataframe tbody tr th {\n",
       "        vertical-align: top;\n",
       "    }\n",
       "\n",
       "    .dataframe thead th {\n",
       "        text-align: right;\n",
       "    }\n",
       "</style>\n",
       "<table border=\"1\" class=\"dataframe\">\n",
       "  <thead>\n",
       "    <tr style=\"text-align: right;\">\n",
       "      <th></th>\n",
       "      <th>publication_year</th>\n",
       "      <th>pos</th>\n",
       "      <th>neu</th>\n",
       "      <th>neg</th>\n",
       "    </tr>\n",
       "  </thead>\n",
       "  <tbody>\n",
       "    <tr>\n",
       "      <th>0</th>\n",
       "      <td>2012</td>\n",
       "      <td>0.129</td>\n",
       "      <td>0.871</td>\n",
       "      <td>0.000</td>\n",
       "    </tr>\n",
       "    <tr>\n",
       "      <th>1</th>\n",
       "      <td>2012</td>\n",
       "      <td>0.066</td>\n",
       "      <td>0.902</td>\n",
       "      <td>0.032</td>\n",
       "    </tr>\n",
       "    <tr>\n",
       "      <th>2</th>\n",
       "      <td>2012</td>\n",
       "      <td>0.196</td>\n",
       "      <td>0.804</td>\n",
       "      <td>0.000</td>\n",
       "    </tr>\n",
       "    <tr>\n",
       "      <th>3</th>\n",
       "      <td>1997</td>\n",
       "      <td>0.000</td>\n",
       "      <td>1.000</td>\n",
       "      <td>0.000</td>\n",
       "    </tr>\n",
       "    <tr>\n",
       "      <th>4</th>\n",
       "      <td>2016</td>\n",
       "      <td>0.347</td>\n",
       "      <td>0.550</td>\n",
       "      <td>0.104</td>\n",
       "    </tr>\n",
       "  </tbody>\n",
       "</table>\n",
       "</div>"
      ],
      "text/plain": [
       "   publication_year    pos    neu    neg\n",
       "0              2012  0.129  0.871  0.000\n",
       "1              2012  0.066  0.902  0.032\n",
       "2              2012  0.196  0.804  0.000\n",
       "3              1997  0.000  1.000  0.000\n",
       "4              2016  0.347  0.550  0.104"
      ]
     },
     "execution_count": 43,
     "metadata": {},
     "output_type": "execute_result"
    }
   ],
   "source": [
    "pos_neu_neg.head()"
   ]
  },
  {
   "cell_type": "code",
   "execution_count": 44,
   "id": "07cf3382",
   "metadata": {},
   "outputs": [
    {
     "data": {
      "text/html": [
       "<div>\n",
       "<style scoped>\n",
       "    .dataframe tbody tr th:only-of-type {\n",
       "        vertical-align: middle;\n",
       "    }\n",
       "\n",
       "    .dataframe tbody tr th {\n",
       "        vertical-align: top;\n",
       "    }\n",
       "\n",
       "    .dataframe thead th {\n",
       "        text-align: right;\n",
       "    }\n",
       "</style>\n",
       "<table border=\"1\" class=\"dataframe\">\n",
       "  <thead>\n",
       "    <tr style=\"text-align: right;\">\n",
       "      <th></th>\n",
       "      <th>pos</th>\n",
       "      <th>neu</th>\n",
       "      <th>neg</th>\n",
       "    </tr>\n",
       "    <tr>\n",
       "      <th>publication_year</th>\n",
       "      <th></th>\n",
       "      <th></th>\n",
       "      <th></th>\n",
       "    </tr>\n",
       "  </thead>\n",
       "  <tbody>\n",
       "    <tr>\n",
       "      <th>1986</th>\n",
       "      <td>0.190792</td>\n",
       "      <td>0.718015</td>\n",
       "      <td>0.079784</td>\n",
       "    </tr>\n",
       "    <tr>\n",
       "      <th>1987</th>\n",
       "      <td>0.207278</td>\n",
       "      <td>0.717357</td>\n",
       "      <td>0.057762</td>\n",
       "    </tr>\n",
       "    <tr>\n",
       "      <th>1988</th>\n",
       "      <td>0.195794</td>\n",
       "      <td>0.747070</td>\n",
       "      <td>0.052789</td>\n",
       "    </tr>\n",
       "    <tr>\n",
       "      <th>1989</th>\n",
       "      <td>0.172579</td>\n",
       "      <td>0.736890</td>\n",
       "      <td>0.071368</td>\n",
       "    </tr>\n",
       "    <tr>\n",
       "      <th>1990</th>\n",
       "      <td>0.196705</td>\n",
       "      <td>0.728524</td>\n",
       "      <td>0.066894</td>\n",
       "    </tr>\n",
       "  </tbody>\n",
       "</table>\n",
       "</div>"
      ],
      "text/plain": [
       "                       pos       neu       neg\n",
       "publication_year                              \n",
       "1986              0.190792  0.718015  0.079784\n",
       "1987              0.207278  0.717357  0.057762\n",
       "1988              0.195794  0.747070  0.052789\n",
       "1989              0.172579  0.736890  0.071368\n",
       "1990              0.196705  0.728524  0.066894"
      ]
     },
     "execution_count": 44,
     "metadata": {},
     "output_type": "execute_result"
    }
   ],
   "source": [
    "pos_neu_neg = pos_neu_neg.groupby('publication_year').agg('mean')\n",
    "pos_neu_neg.head()"
   ]
  },
  {
   "cell_type": "code",
   "execution_count": 45,
   "id": "bb35446d",
   "metadata": {},
   "outputs": [
    {
     "data": {
      "text/plain": [
       "<AxesSubplot:xlabel='publication_year', ylabel='sentiment'>"
      ]
     },
     "execution_count": 45,
     "metadata": {},
     "output_type": "execute_result"
    },
    {
     "data": {
      "image/png": "[encoded data removed]",
      "text/plain": [
       "<Figure size 720x360 with 1 Axes>"
      ]
     },
     "metadata": {
      "needs_background": "light"
     },
     "output_type": "display_data"
    }
   ],
   "source": [
    "pos_neu_neg.plot.line(style='-o', figsize=(10,5), markerfacecolor='blue', ylabel='sentiment')"
   ]
  },
  {
   "cell_type": "markdown",
   "id": "96f53a6d",
   "metadata": {},
   "source": [
    "__Mystery Thriller and Crime__"
   ]
  },
  {
   "cell_type": "code",
   "execution_count": 2,
   "id": "cba3c8eb",
   "metadata": {},
   "outputs": [
    {
     "name": "stdout",
     "output_type": "stream",
     "text": [
      "Untitled.rtf                   books_review_thriller.json\r\n",
      "books_interactions_final.json  readme.rtf\r\n",
      "books_metadata_comics.json     rq1.ipynb\r\n",
      "books_metadata_thriller.json   rq2.ipynb\r\n",
      "books_review_comics_final.json\r\n"
     ]
    }
   ],
   "source": [
    "!ls"
   ]
  },
  {
   "cell_type": "code",
   "execution_count": 11,
   "id": "275a9a2b",
   "metadata": {},
   "outputs": [],
   "source": [
    "books_metadata_thriller = pd.read_json('books_metadata_thriller.json')\n",
    "review_thriller = pd.read_json('books_review_thriller.json')"
   ]
  },
  {
   "cell_type": "code",
   "execution_count": 12,
   "id": "6a57fd8b",
   "metadata": {
    "scrolled": true
   },
   "outputs": [
    {
     "data": {
      "text/html": [
       "<div>\n",
       "<style scoped>\n",
       "    .dataframe tbody tr th:only-of-type {\n",
       "        vertical-align: middle;\n",
       "    }\n",
       "\n",
       "    .dataframe tbody tr th {\n",
       "        vertical-align: top;\n",
       "    }\n",
       "\n",
       "    .dataframe thead th {\n",
       "        text-align: right;\n",
       "    }\n",
       "</style>\n",
       "<table border=\"1\" class=\"dataframe\">\n",
       "  <thead>\n",
       "    <tr style=\"text-align: right;\">\n",
       "      <th></th>\n",
       "      <th>index</th>\n",
       "      <th>user_id</th>\n",
       "      <th>book_id</th>\n",
       "      <th>review_id</th>\n",
       "      <th>rating</th>\n",
       "      <th>review_text</th>\n",
       "      <th>date_added</th>\n",
       "      <th>date_updated</th>\n",
       "      <th>read_at</th>\n",
       "      <th>n_votes</th>\n",
       "      <th>n_comments</th>\n",
       "    </tr>\n",
       "  </thead>\n",
       "  <tbody>\n",
       "    <tr>\n",
       "      <th>0</th>\n",
       "      <td>1</td>\n",
       "      <td>8842281e1d1347389f2ab93d60773d4d</td>\n",
       "      <td>28684704</td>\n",
       "      <td>2ede853b14dc4583f96cf5d120af636f</td>\n",
       "      <td>3</td>\n",
       "      <td>A fun, fast paced science fiction thriller. I ...</td>\n",
       "      <td>Tue Nov 15 11:29:22 -0800 2016</td>\n",
       "      <td>Mon Mar 20 23:40:27 -0700 2017</td>\n",
       "      <td>Sat Mar 18 23:22:42 -0700 2017</td>\n",
       "      <td>22</td>\n",
       "      <td>0</td>\n",
       "    </tr>\n",
       "    <tr>\n",
       "      <th>1</th>\n",
       "      <td>2</td>\n",
       "      <td>8842281e1d1347389f2ab93d60773d4d</td>\n",
       "      <td>32283133</td>\n",
       "      <td>8e4d61801907e591018bdc3442a9cf2b</td>\n",
       "      <td>0</td>\n",
       "      <td>http://www.telegraph.co.uk/culture/10...</td>\n",
       "      <td>Tue Nov 01 11:09:18 -0700 2016</td>\n",
       "      <td>Tue Nov 01 11:09:44 -0700 2016</td>\n",
       "      <td></td>\n",
       "      <td>9</td>\n",
       "      <td>0</td>\n",
       "    </tr>\n",
       "    <tr>\n",
       "      <th>2</th>\n",
       "      <td>3</td>\n",
       "      <td>8842281e1d1347389f2ab93d60773d4d</td>\n",
       "      <td>17860739</td>\n",
       "      <td>022bb6daffa49adc27f6b20b6ebeb37d</td>\n",
       "      <td>4</td>\n",
       "      <td>An amazing and unique creation: JJ Abrams and ...</td>\n",
       "      <td>Wed Mar 26 13:51:30 -0700 2014</td>\n",
       "      <td>Tue Sep 23 01:44:36 -0700 2014</td>\n",
       "      <td>Sun Sep 21 00:00:00 -0700 2014</td>\n",
       "      <td>7</td>\n",
       "      <td>0</td>\n",
       "    </tr>\n",
       "    <tr>\n",
       "      <th>3</th>\n",
       "      <td>4</td>\n",
       "      <td>8842281e1d1347389f2ab93d60773d4d</td>\n",
       "      <td>8694005</td>\n",
       "      <td>0e317947e1fd341f573192111bb2921d</td>\n",
       "      <td>3</td>\n",
       "      <td>The Name of the Rose is a thrilling Dan Brown-...</td>\n",
       "      <td>Wed Sep 08 01:22:27 -0700 2010</td>\n",
       "      <td>Wed Dec 14 12:30:43 -0800 2016</td>\n",
       "      <td>Mon Aug 10 00:00:00 -0700 2015</td>\n",
       "      <td>17</td>\n",
       "      <td>6</td>\n",
       "    </tr>\n",
       "    <tr>\n",
       "      <th>4</th>\n",
       "      <td>6</td>\n",
       "      <td>8842281e1d1347389f2ab93d60773d4d</td>\n",
       "      <td>2429135</td>\n",
       "      <td>efee7a3f620ed640366226caa7b138f0</td>\n",
       "      <td>5</td>\n",
       "      <td>I haven't stayed up until 5am to finish a book...</td>\n",
       "      <td>Mon Mar 15 14:05:04 -0700 2010</td>\n",
       "      <td>Wed Mar 22 11:46:43 -0700 2017</td>\n",
       "      <td>Sun Mar 28 00:00:00 -0700 2010</td>\n",
       "      <td>13</td>\n",
       "      <td>10</td>\n",
       "    </tr>\n",
       "  </tbody>\n",
       "</table>\n",
       "</div>"
      ],
      "text/plain": [
       "   index                           user_id   book_id  \\\n",
       "0      1  8842281e1d1347389f2ab93d60773d4d  28684704   \n",
       "1      2  8842281e1d1347389f2ab93d60773d4d  32283133   \n",
       "2      3  8842281e1d1347389f2ab93d60773d4d  17860739   \n",
       "3      4  8842281e1d1347389f2ab93d60773d4d   8694005   \n",
       "4      6  8842281e1d1347389f2ab93d60773d4d   2429135   \n",
       "\n",
       "                          review_id  rating  \\\n",
       "0  2ede853b14dc4583f96cf5d120af636f       3   \n",
       "1  8e4d61801907e591018bdc3442a9cf2b       0   \n",
       "2  022bb6daffa49adc27f6b20b6ebeb37d       4   \n",
       "3  0e317947e1fd341f573192111bb2921d       3   \n",
       "4  efee7a3f620ed640366226caa7b138f0       5   \n",
       "\n",
       "                                         review_text  \\\n",
       "0  A fun, fast paced science fiction thriller. I ...   \n",
       "1           http://www.telegraph.co.uk/culture/10...   \n",
       "2  An amazing and unique creation: JJ Abrams and ...   \n",
       "3  The Name of the Rose is a thrilling Dan Brown-...   \n",
       "4  I haven't stayed up until 5am to finish a book...   \n",
       "\n",
       "                       date_added                    date_updated  \\\n",
       "0  Tue Nov 15 11:29:22 -0800 2016  Mon Mar 20 23:40:27 -0700 2017   \n",
       "1  Tue Nov 01 11:09:18 -0700 2016  Tue Nov 01 11:09:44 -0700 2016   \n",
       "2  Wed Mar 26 13:51:30 -0700 2014  Tue Sep 23 01:44:36 -0700 2014   \n",
       "3  Wed Sep 08 01:22:27 -0700 2010  Wed Dec 14 12:30:43 -0800 2016   \n",
       "4  Mon Mar 15 14:05:04 -0700 2010  Wed Mar 22 11:46:43 -0700 2017   \n",
       "\n",
       "                          read_at  n_votes  n_comments  \n",
       "0  Sat Mar 18 23:22:42 -0700 2017       22           0  \n",
       "1                                        9           0  \n",
       "2  Sun Sep 21 00:00:00 -0700 2014        7           0  \n",
       "3  Mon Aug 10 00:00:00 -0700 2015       17           6  \n",
       "4  Sun Mar 28 00:00:00 -0700 2010       13          10  "
      ]
     },
     "execution_count": 12,
     "metadata": {},
     "output_type": "execute_result"
    }
   ],
   "source": [
    "review_thriller.head()"
   ]
  },
  {
   "cell_type": "code",
   "execution_count": 13,
   "id": "beef7533",
   "metadata": {},
   "outputs": [
    {
     "name": "stdout",
     "output_type": "stream",
     "text": [
      "<class 'pandas.core.frame.DataFrame'>\n",
      "Int64Index: 1056240 entries, 0 to 1056239\n",
      "Data columns (total 11 columns):\n",
      " #   Column        Non-Null Count    Dtype \n",
      "---  ------        --------------    ----- \n",
      " 0   index         1056240 non-null  int64 \n",
      " 1   user_id       1056240 non-null  object\n",
      " 2   book_id       1056240 non-null  int64 \n",
      " 3   review_id     1056240 non-null  object\n",
      " 4   rating        1056240 non-null  int64 \n",
      " 5   review_text   1056240 non-null  object\n",
      " 6   date_added    1056240 non-null  object\n",
      " 7   date_updated  1056240 non-null  object\n",
      " 8   read_at       1056240 non-null  object\n",
      " 9   n_votes       1056240 non-null  int64 \n",
      " 10  n_comments    1056240 non-null  int64 \n",
      "dtypes: int64(5), object(6)\n",
      "memory usage: 96.7+ MB\n"
     ]
    }
   ],
   "source": [
    "review_thriller.info()"
   ]
  },
  {
   "cell_type": "code",
   "execution_count": 14,
   "id": "02e722d2",
   "metadata": {},
   "outputs": [],
   "source": [
    "thriller_review_text = review_thriller[['book_id','review_text']]"
   ]
  },
  {
   "cell_type": "code",
   "execution_count": 15,
   "id": "beb57c8b",
   "metadata": {},
   "outputs": [
    {
     "data": {
      "text/html": [
       "<div>\n",
       "<style scoped>\n",
       "    .dataframe tbody tr th:only-of-type {\n",
       "        vertical-align: middle;\n",
       "    }\n",
       "\n",
       "    .dataframe tbody tr th {\n",
       "        vertical-align: top;\n",
       "    }\n",
       "\n",
       "    .dataframe thead th {\n",
       "        text-align: right;\n",
       "    }\n",
       "</style>\n",
       "<table border=\"1\" class=\"dataframe\">\n",
       "  <thead>\n",
       "    <tr style=\"text-align: right;\">\n",
       "      <th></th>\n",
       "      <th>book_id</th>\n",
       "      <th>review_text</th>\n",
       "    </tr>\n",
       "  </thead>\n",
       "  <tbody>\n",
       "    <tr>\n",
       "      <th>0</th>\n",
       "      <td>28684704</td>\n",
       "      <td>A fun, fast paced science fiction thriller. I ...</td>\n",
       "    </tr>\n",
       "    <tr>\n",
       "      <th>1</th>\n",
       "      <td>32283133</td>\n",
       "      <td>http://www.telegraph.co.uk/culture/10...</td>\n",
       "    </tr>\n",
       "    <tr>\n",
       "      <th>2</th>\n",
       "      <td>17860739</td>\n",
       "      <td>An amazing and unique creation: JJ Abrams and ...</td>\n",
       "    </tr>\n",
       "    <tr>\n",
       "      <th>3</th>\n",
       "      <td>8694005</td>\n",
       "      <td>The Name of the Rose is a thrilling Dan Brown-...</td>\n",
       "    </tr>\n",
       "    <tr>\n",
       "      <th>4</th>\n",
       "      <td>2429135</td>\n",
       "      <td>I haven't stayed up until 5am to finish a book...</td>\n",
       "    </tr>\n",
       "  </tbody>\n",
       "</table>\n",
       "</div>"
      ],
      "text/plain": [
       "    book_id                                        review_text\n",
       "0  28684704  A fun, fast paced science fiction thriller. I ...\n",
       "1  32283133           http://www.telegraph.co.uk/culture/10...\n",
       "2  17860739  An amazing and unique creation: JJ Abrams and ...\n",
       "3   8694005  The Name of the Rose is a thrilling Dan Brown-...\n",
       "4   2429135  I haven't stayed up until 5am to finish a book..."
      ]
     },
     "execution_count": 15,
     "metadata": {},
     "output_type": "execute_result"
    }
   ],
   "source": [
    "thriller_review_text.head()"
   ]
  },
  {
   "cell_type": "code",
   "execution_count": 17,
   "id": "9a59042f",
   "metadata": {},
   "outputs": [
    {
     "name": "stdout",
     "output_type": "stream",
     "text": [
      "Time taken/file : 72.29346895217896\n",
      "Total duration : 0:01:12.293469\n"
     ]
    }
   ],
   "source": [
    "thriller_reviews = clean_data(thriller_review_text)"
   ]
  },
  {
   "cell_type": "code",
   "execution_count": 18,
   "id": "e10b2c94",
   "metadata": {},
   "outputs": [
    {
     "data": {
      "text/html": [
       "<div>\n",
       "<style scoped>\n",
       "    .dataframe tbody tr th:only-of-type {\n",
       "        vertical-align: middle;\n",
       "    }\n",
       "\n",
       "    .dataframe tbody tr th {\n",
       "        vertical-align: top;\n",
       "    }\n",
       "\n",
       "    .dataframe thead th {\n",
       "        text-align: right;\n",
       "    }\n",
       "</style>\n",
       "<table border=\"1\" class=\"dataframe\">\n",
       "  <thead>\n",
       "    <tr style=\"text-align: right;\">\n",
       "      <th></th>\n",
       "      <th>text</th>\n",
       "    </tr>\n",
       "  </thead>\n",
       "  <tbody>\n",
       "    <tr>\n",
       "      <th>0</th>\n",
       "      <td>a fun fast paced science fiction thriller i re...</td>\n",
       "    </tr>\n",
       "    <tr>\n",
       "      <th>1</th>\n",
       "      <td>http www telegraph co uk culture</td>\n",
       "    </tr>\n",
       "    <tr>\n",
       "      <th>2</th>\n",
       "      <td>an amazing and unique creation jj abrams and d...</td>\n",
       "    </tr>\n",
       "    <tr>\n",
       "      <th>3</th>\n",
       "      <td>the name of the rose is a thrilling dan brown ...</td>\n",
       "    </tr>\n",
       "    <tr>\n",
       "      <th>4</th>\n",
       "      <td>i haven t stayed up until am to finish a book ...</td>\n",
       "    </tr>\n",
       "  </tbody>\n",
       "</table>\n",
       "</div>"
      ],
      "text/plain": [
       "                                                text\n",
       "0  a fun fast paced science fiction thriller i re...\n",
       "1                  http www telegraph co uk culture \n",
       "2  an amazing and unique creation jj abrams and d...\n",
       "3  the name of the rose is a thrilling dan brown ...\n",
       "4  i haven t stayed up until am to finish a book ..."
      ]
     },
     "execution_count": 18,
     "metadata": {},
     "output_type": "execute_result"
    }
   ],
   "source": [
    "thriller_reviews.head()"
   ]
  },
  {
   "cell_type": "code",
   "execution_count": 19,
   "id": "9c88d102",
   "metadata": {},
   "outputs": [],
   "source": [
    "thriller_reviews['book_id'] = thriller_review_text['book_id']"
   ]
  },
  {
   "cell_type": "code",
   "execution_count": 22,
   "id": "318e17e8",
   "metadata": {},
   "outputs": [
    {
     "data": {
      "text/plain": [
       "(1056240, 2)"
      ]
     },
     "execution_count": 22,
     "metadata": {},
     "output_type": "execute_result"
    }
   ],
   "source": [
    "thriller_reviews.shape"
   ]
  },
  {
   "cell_type": "code",
   "execution_count": 23,
   "id": "a8d09e55",
   "metadata": {},
   "outputs": [
    {
     "data": {
      "text/html": [
       "<div>\n",
       "<style scoped>\n",
       "    .dataframe tbody tr th:only-of-type {\n",
       "        vertical-align: middle;\n",
       "    }\n",
       "\n",
       "    .dataframe tbody tr th {\n",
       "        vertical-align: top;\n",
       "    }\n",
       "\n",
       "    .dataframe thead th {\n",
       "        text-align: right;\n",
       "    }\n",
       "</style>\n",
       "<table border=\"1\" class=\"dataframe\">\n",
       "  <thead>\n",
       "    <tr style=\"text-align: right;\">\n",
       "      <th></th>\n",
       "      <th>text</th>\n",
       "      <th>book_id</th>\n",
       "    </tr>\n",
       "  </thead>\n",
       "  <tbody>\n",
       "    <tr>\n",
       "      <th>0</th>\n",
       "      <td>a fun fast paced science fiction thriller i re...</td>\n",
       "      <td>28684704</td>\n",
       "    </tr>\n",
       "    <tr>\n",
       "      <th>1</th>\n",
       "      <td>http www telegraph co uk culture</td>\n",
       "      <td>32283133</td>\n",
       "    </tr>\n",
       "    <tr>\n",
       "      <th>2</th>\n",
       "      <td>an amazing and unique creation jj abrams and d...</td>\n",
       "      <td>17860739</td>\n",
       "    </tr>\n",
       "    <tr>\n",
       "      <th>3</th>\n",
       "      <td>the name of the rose is a thrilling dan brown ...</td>\n",
       "      <td>8694005</td>\n",
       "    </tr>\n",
       "    <tr>\n",
       "      <th>4</th>\n",
       "      <td>i haven t stayed up until am to finish a book ...</td>\n",
       "      <td>2429135</td>\n",
       "    </tr>\n",
       "  </tbody>\n",
       "</table>\n",
       "</div>"
      ],
      "text/plain": [
       "                                                text   book_id\n",
       "0  a fun fast paced science fiction thriller i re...  28684704\n",
       "1                  http www telegraph co uk culture   32283133\n",
       "2  an amazing and unique creation jj abrams and d...  17860739\n",
       "3  the name of the rose is a thrilling dan brown ...   8694005\n",
       "4  i haven t stayed up until am to finish a book ...   2429135"
      ]
     },
     "execution_count": 23,
     "metadata": {},
     "output_type": "execute_result"
    }
   ],
   "source": [
    "thriller_reviews.head()"
   ]
  },
  {
   "cell_type": "code",
   "execution_count": 24,
   "id": "f2aceecd",
   "metadata": {},
   "outputs": [],
   "source": [
    "thriller_review_result = pd.merge(books_metadata_thriller[['book_id','publication_year']], thriller_reviews, on='book_id')"
   ]
  },
  {
   "cell_type": "code",
   "execution_count": 25,
   "id": "066b5141",
   "metadata": {},
   "outputs": [
    {
     "data": {
      "text/html": [
       "<div>\n",
       "<style scoped>\n",
       "    .dataframe tbody tr th:only-of-type {\n",
       "        vertical-align: middle;\n",
       "    }\n",
       "\n",
       "    .dataframe tbody tr th {\n",
       "        vertical-align: top;\n",
       "    }\n",
       "\n",
       "    .dataframe thead th {\n",
       "        text-align: right;\n",
       "    }\n",
       "</style>\n",
       "<table border=\"1\" class=\"dataframe\">\n",
       "  <thead>\n",
       "    <tr style=\"text-align: right;\">\n",
       "      <th></th>\n",
       "      <th>book_id</th>\n",
       "      <th>publication_year</th>\n",
       "      <th>text</th>\n",
       "    </tr>\n",
       "  </thead>\n",
       "  <tbody>\n",
       "    <tr>\n",
       "      <th>0</th>\n",
       "      <td>16158998</td>\n",
       "      <td>2013</td>\n",
       "      <td>a good solid miss marple mystery after listeni...</td>\n",
       "    </tr>\n",
       "    <tr>\n",
       "      <th>1</th>\n",
       "      <td>22722787</td>\n",
       "      <td>2014</td>\n",
       "      <td>jonathan ashley crams a lot into the cost of d...</td>\n",
       "    </tr>\n",
       "    <tr>\n",
       "      <th>2</th>\n",
       "      <td>16158996</td>\n",
       "      <td>2013</td>\n",
       "      <td>another excellent miss marple story beautifull...</td>\n",
       "    </tr>\n",
       "    <tr>\n",
       "      <th>3</th>\n",
       "      <td>17368265</td>\n",
       "      <td>2013</td>\n",
       "      <td>this review is from an arc i picked up at book...</td>\n",
       "    </tr>\n",
       "    <tr>\n",
       "      <th>4</th>\n",
       "      <td>17368265</td>\n",
       "      <td>2013</td>\n",
       "      <td>agent pendergast has become one of my favorite...</td>\n",
       "    </tr>\n",
       "  </tbody>\n",
       "</table>\n",
       "</div>"
      ],
      "text/plain": [
       "    book_id  publication_year  \\\n",
       "0  16158998              2013   \n",
       "1  22722787              2014   \n",
       "2  16158996              2013   \n",
       "3  17368265              2013   \n",
       "4  17368265              2013   \n",
       "\n",
       "                                                text  \n",
       "0  a good solid miss marple mystery after listeni...  \n",
       "1  jonathan ashley crams a lot into the cost of d...  \n",
       "2  another excellent miss marple story beautifull...  \n",
       "3  this review is from an arc i picked up at book...  \n",
       "4  agent pendergast has become one of my favorite...  "
      ]
     },
     "execution_count": 25,
     "metadata": {},
     "output_type": "execute_result"
    }
   ],
   "source": [
    "thriller_review_result.head()"
   ]
  },
  {
   "cell_type": "markdown",
   "id": "8f60bbd7",
   "metadata": {},
   "source": [
    "# __Sentiment analysis__"
   ]
  },
  {
   "cell_type": "code",
   "execution_count": 28,
   "id": "6b689210",
   "metadata": {},
   "outputs": [],
   "source": [
    "thriller_review_result['scores'] = thriller_review_result['text'].apply(lambda text: sid.polarity_scores(text))"
   ]
  },
  {
   "cell_type": "code",
   "execution_count": 29,
   "id": "4e958f4f",
   "metadata": {},
   "outputs": [],
   "source": [
    "thriller_review_result['compound'] = thriller_review_result['scores'].apply(lambda sc_dict: sc_dict['compound'])\n",
    "thriller_review_result['neg'] = thriller_review_result['scores'].apply(lambda sc_dict: sc_dict['neg'])\n",
    "thriller_review_result['neu'] = thriller_review_result['scores'].apply(lambda sc_dict: sc_dict['neu'])\n",
    "thriller_review_result['pos'] = thriller_review_result['scores'].apply(lambda sc_dict: sc_dict['pos'])"
   ]
  },
  {
   "cell_type": "code",
   "execution_count": 30,
   "id": "2817ac3c",
   "metadata": {},
   "outputs": [
    {
     "data": {
      "text/html": [
       "<div>\n",
       "<style scoped>\n",
       "    .dataframe tbody tr th:only-of-type {\n",
       "        vertical-align: middle;\n",
       "    }\n",
       "\n",
       "    .dataframe tbody tr th {\n",
       "        vertical-align: top;\n",
       "    }\n",
       "\n",
       "    .dataframe thead th {\n",
       "        text-align: right;\n",
       "    }\n",
       "</style>\n",
       "<table border=\"1\" class=\"dataframe\">\n",
       "  <thead>\n",
       "    <tr style=\"text-align: right;\">\n",
       "      <th></th>\n",
       "      <th>book_id</th>\n",
       "      <th>publication_year</th>\n",
       "      <th>text</th>\n",
       "      <th>scores</th>\n",
       "      <th>compound</th>\n",
       "      <th>neg</th>\n",
       "      <th>neu</th>\n",
       "      <th>pos</th>\n",
       "    </tr>\n",
       "  </thead>\n",
       "  <tbody>\n",
       "    <tr>\n",
       "      <th>0</th>\n",
       "      <td>16158998</td>\n",
       "      <td>2013</td>\n",
       "      <td>a good solid miss marple mystery after listeni...</td>\n",
       "      <td>{'neg': 0.089, 'neu': 0.817, 'pos': 0.095, 'co...</td>\n",
       "      <td>-0.1531</td>\n",
       "      <td>0.089</td>\n",
       "      <td>0.817</td>\n",
       "      <td>0.095</td>\n",
       "    </tr>\n",
       "    <tr>\n",
       "      <th>1</th>\n",
       "      <td>22722787</td>\n",
       "      <td>2014</td>\n",
       "      <td>jonathan ashley crams a lot into the cost of d...</td>\n",
       "      <td>{'neg': 0.162, 'neu': 0.759, 'pos': 0.078, 'co...</td>\n",
       "      <td>-0.9728</td>\n",
       "      <td>0.162</td>\n",
       "      <td>0.759</td>\n",
       "      <td>0.078</td>\n",
       "    </tr>\n",
       "    <tr>\n",
       "      <th>2</th>\n",
       "      <td>16158996</td>\n",
       "      <td>2013</td>\n",
       "      <td>another excellent miss marple story beautifull...</td>\n",
       "      <td>{'neg': 0.123, 'neu': 0.308, 'pos': 0.569, 'co...</td>\n",
       "      <td>0.7783</td>\n",
       "      <td>0.123</td>\n",
       "      <td>0.308</td>\n",
       "      <td>0.569</td>\n",
       "    </tr>\n",
       "    <tr>\n",
       "      <th>3</th>\n",
       "      <td>17368265</td>\n",
       "      <td>2013</td>\n",
       "      <td>this review is from an arc i picked up at book...</td>\n",
       "      <td>{'neg': 0.097, 'neu': 0.756, 'pos': 0.148, 'co...</td>\n",
       "      <td>0.9584</td>\n",
       "      <td>0.097</td>\n",
       "      <td>0.756</td>\n",
       "      <td>0.148</td>\n",
       "    </tr>\n",
       "    <tr>\n",
       "      <th>4</th>\n",
       "      <td>17368265</td>\n",
       "      <td>2013</td>\n",
       "      <td>agent pendergast has become one of my favorite...</td>\n",
       "      <td>{'neg': 0.0, 'neu': 0.791, 'pos': 0.209, 'comp...</td>\n",
       "      <td>0.8151</td>\n",
       "      <td>0.000</td>\n",
       "      <td>0.791</td>\n",
       "      <td>0.209</td>\n",
       "    </tr>\n",
       "  </tbody>\n",
       "</table>\n",
       "</div>"
      ],
      "text/plain": [
       "    book_id  publication_year  \\\n",
       "0  16158998              2013   \n",
       "1  22722787              2014   \n",
       "2  16158996              2013   \n",
       "3  17368265              2013   \n",
       "4  17368265              2013   \n",
       "\n",
       "                                                text  \\\n",
       "0  a good solid miss marple mystery after listeni...   \n",
       "1  jonathan ashley crams a lot into the cost of d...   \n",
       "2  another excellent miss marple story beautifull...   \n",
       "3  this review is from an arc i picked up at book...   \n",
       "4  agent pendergast has become one of my favorite...   \n",
       "\n",
       "                                              scores  compound    neg    neu  \\\n",
       "0  {'neg': 0.089, 'neu': 0.817, 'pos': 0.095, 'co...   -0.1531  0.089  0.817   \n",
       "1  {'neg': 0.162, 'neu': 0.759, 'pos': 0.078, 'co...   -0.9728  0.162  0.759   \n",
       "2  {'neg': 0.123, 'neu': 0.308, 'pos': 0.569, 'co...    0.7783  0.123  0.308   \n",
       "3  {'neg': 0.097, 'neu': 0.756, 'pos': 0.148, 'co...    0.9584  0.097  0.756   \n",
       "4  {'neg': 0.0, 'neu': 0.791, 'pos': 0.209, 'comp...    0.8151  0.000  0.791   \n",
       "\n",
       "     pos  \n",
       "0  0.095  \n",
       "1  0.078  \n",
       "2  0.569  \n",
       "3  0.148  \n",
       "4  0.209  "
      ]
     },
     "execution_count": 30,
     "metadata": {},
     "output_type": "execute_result"
    }
   ],
   "source": [
    "thriller_review_result.head()"
   ]
  },
  {
   "cell_type": "markdown",
   "id": "576ce8a2",
   "metadata": {},
   "source": [
    "__positive neutral and negative sentiment per publication year__"
   ]
  },
  {
   "cell_type": "code",
   "execution_count": 31,
   "id": "93f46161",
   "metadata": {},
   "outputs": [],
   "source": [
    "thriller_pos_neu_neg = thriller_review_result[['publication_year','pos','neu','neg']]"
   ]
  },
  {
   "cell_type": "code",
   "execution_count": 32,
   "id": "7bb60f7c",
   "metadata": {},
   "outputs": [
    {
     "data": {
      "text/html": [
       "<div>\n",
       "<style scoped>\n",
       "    .dataframe tbody tr th:only-of-type {\n",
       "        vertical-align: middle;\n",
       "    }\n",
       "\n",
       "    .dataframe tbody tr th {\n",
       "        vertical-align: top;\n",
       "    }\n",
       "\n",
       "    .dataframe thead th {\n",
       "        text-align: right;\n",
       "    }\n",
       "</style>\n",
       "<table border=\"1\" class=\"dataframe\">\n",
       "  <thead>\n",
       "    <tr style=\"text-align: right;\">\n",
       "      <th></th>\n",
       "      <th>publication_year</th>\n",
       "      <th>pos</th>\n",
       "      <th>neu</th>\n",
       "      <th>neg</th>\n",
       "    </tr>\n",
       "  </thead>\n",
       "  <tbody>\n",
       "    <tr>\n",
       "      <th>0</th>\n",
       "      <td>2013</td>\n",
       "      <td>0.095</td>\n",
       "      <td>0.817</td>\n",
       "      <td>0.089</td>\n",
       "    </tr>\n",
       "    <tr>\n",
       "      <th>1</th>\n",
       "      <td>2014</td>\n",
       "      <td>0.078</td>\n",
       "      <td>0.759</td>\n",
       "      <td>0.162</td>\n",
       "    </tr>\n",
       "    <tr>\n",
       "      <th>2</th>\n",
       "      <td>2013</td>\n",
       "      <td>0.569</td>\n",
       "      <td>0.308</td>\n",
       "      <td>0.123</td>\n",
       "    </tr>\n",
       "    <tr>\n",
       "      <th>3</th>\n",
       "      <td>2013</td>\n",
       "      <td>0.148</td>\n",
       "      <td>0.756</td>\n",
       "      <td>0.097</td>\n",
       "    </tr>\n",
       "    <tr>\n",
       "      <th>4</th>\n",
       "      <td>2013</td>\n",
       "      <td>0.209</td>\n",
       "      <td>0.791</td>\n",
       "      <td>0.000</td>\n",
       "    </tr>\n",
       "  </tbody>\n",
       "</table>\n",
       "</div>"
      ],
      "text/plain": [
       "   publication_year    pos    neu    neg\n",
       "0              2013  0.095  0.817  0.089\n",
       "1              2014  0.078  0.759  0.162\n",
       "2              2013  0.569  0.308  0.123\n",
       "3              2013  0.148  0.756  0.097\n",
       "4              2013  0.209  0.791  0.000"
      ]
     },
     "execution_count": 32,
     "metadata": {},
     "output_type": "execute_result"
    }
   ],
   "source": [
    "thriller_pos_neu_neg.head()"
   ]
  },
  {
   "cell_type": "code",
   "execution_count": 33,
   "id": "612e57bb",
   "metadata": {},
   "outputs": [
    {
     "data": {
      "text/html": [
       "<div>\n",
       "<style scoped>\n",
       "    .dataframe tbody tr th:only-of-type {\n",
       "        vertical-align: middle;\n",
       "    }\n",
       "\n",
       "    .dataframe tbody tr th {\n",
       "        vertical-align: top;\n",
       "    }\n",
       "\n",
       "    .dataframe thead th {\n",
       "        text-align: right;\n",
       "    }\n",
       "</style>\n",
       "<table border=\"1\" class=\"dataframe\">\n",
       "  <thead>\n",
       "    <tr style=\"text-align: right;\">\n",
       "      <th></th>\n",
       "      <th>pos</th>\n",
       "      <th>neu</th>\n",
       "      <th>neg</th>\n",
       "    </tr>\n",
       "    <tr>\n",
       "      <th>publication_year</th>\n",
       "      <th></th>\n",
       "      <th></th>\n",
       "      <th></th>\n",
       "    </tr>\n",
       "  </thead>\n",
       "  <tbody>\n",
       "    <tr>\n",
       "      <th>1946</th>\n",
       "      <td>0.152537</td>\n",
       "      <td>0.758829</td>\n",
       "      <td>0.088488</td>\n",
       "    </tr>\n",
       "    <tr>\n",
       "      <th>1950</th>\n",
       "      <td>0.131324</td>\n",
       "      <td>0.788691</td>\n",
       "      <td>0.080103</td>\n",
       "    </tr>\n",
       "    <tr>\n",
       "      <th>1951</th>\n",
       "      <td>0.154098</td>\n",
       "      <td>0.730373</td>\n",
       "      <td>0.095784</td>\n",
       "    </tr>\n",
       "    <tr>\n",
       "      <th>1952</th>\n",
       "      <td>0.147729</td>\n",
       "      <td>0.769917</td>\n",
       "      <td>0.082375</td>\n",
       "    </tr>\n",
       "    <tr>\n",
       "      <th>1953</th>\n",
       "      <td>0.157244</td>\n",
       "      <td>0.774077</td>\n",
       "      <td>0.068679</td>\n",
       "    </tr>\n",
       "  </tbody>\n",
       "</table>\n",
       "</div>"
      ],
      "text/plain": [
       "                       pos       neu       neg\n",
       "publication_year                              \n",
       "1946              0.152537  0.758829  0.088488\n",
       "1950              0.131324  0.788691  0.080103\n",
       "1951              0.154098  0.730373  0.095784\n",
       "1952              0.147729  0.769917  0.082375\n",
       "1953              0.157244  0.774077  0.068679"
      ]
     },
     "execution_count": 33,
     "metadata": {},
     "output_type": "execute_result"
    }
   ],
   "source": [
    "thriller_pos_neu_neg = thriller_pos_neu_neg.groupby('publication_year').agg('mean')\n",
    "thriller_pos_neu_neg.head()"
   ]
  },
  {
   "cell_type": "code",
   "execution_count": 34,
   "id": "3a501db5",
   "metadata": {},
   "outputs": [
    {
     "data": {
      "text/plain": [
       "<AxesSubplot:xlabel='publication_year', ylabel='sentiment'>"
      ]
     },
     "execution_count": 34,
     "metadata": {},
     "output_type": "execute_result"
    },
    {
     "data": {
      "image/png": "[encoded data removed]",
      "text/plain": [
       "<Figure size 720x360 with 1 Axes>"
      ]
     },
     "metadata": {
      "needs_background": "light"
     },
     "output_type": "display_data"
    }
   ],
   "source": [
    "thriller_pos_neu_neg.plot.line(style='-o', figsize=(10,5), markerfacecolor='blue', ylabel='sentiment')"
   ]
  },
  {
   "cell_type": "code",
   "execution_count": null,
   "id": "c58b4618",
   "metadata": {},
   "outputs": [],
   "source": []
  }
 ],
 "metadata": {
  "kernelspec": {
   "display_name": "Python 3",
   "language": "python",
   "name": "python3"
  },
  "language_info": {
   "codemirror_mode": {
    "name": "ipython",
    "version": 3
   },
   "file_extension": ".py",
   "mimetype": "text/x-python",
   "name": "python",
   "nbconvert_exporter": "python",
   "pygments_lexer": "ipython3",
   "version": "3.8.5"
  }
 },
 "nbformat": 4,
 "nbformat_minor": 5
}
