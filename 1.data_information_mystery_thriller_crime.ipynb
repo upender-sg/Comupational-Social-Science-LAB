{
 "cells": [
  {
   "cell_type": "code",
   "execution_count": 1,
   "id": "eb34d382",
   "metadata": {},
   "outputs": [],
   "source": [
    "import pandas as pd\n",
    "import numpy as np"
   ]
  },
  {
   "cell_type": "markdown",
   "id": "86cf288e",
   "metadata": {},
   "source": [
    "# goodreads_books_mystery_thriller_crime.json dataset"
   ]
  },
  {
   "cell_type": "markdown",
   "id": "c1e40a18",
   "metadata": {},
   "source": [
    "__Read the good read books information__"
   ]
  },
  {
   "cell_type": "code",
   "execution_count": 2,
   "id": "c0989796",
   "metadata": {},
   "outputs": [],
   "source": [
    "dataframe1 = pd.read_json('goodreads_books_mystery_thriller_crime.json', lines=True)"
   ]
  },
  {
   "cell_type": "markdown",
   "id": "e410015f",
   "metadata": {},
   "source": [
    "__Display basic information__"
   ]
  },
  {
   "cell_type": "code",
   "execution_count": 3,
   "id": "adde9932",
   "metadata": {},
   "outputs": [
    {
     "name": "stdout",
     "output_type": "stream",
     "text": [
      "<class 'pandas.core.frame.DataFrame'>\n",
      "RangeIndex: 219235 entries, 0 to 219234\n",
      "Data columns (total 29 columns):\n",
      " #   Column                Non-Null Count   Dtype  \n",
      "---  ------                --------------   -----  \n",
      " 0   isbn                  219235 non-null  object \n",
      " 1   text_reviews_count    219235 non-null  int64  \n",
      " 2   series                219235 non-null  object \n",
      " 3   country_code          219235 non-null  object \n",
      " 4   language_code         219235 non-null  object \n",
      " 5   popular_shelves       219235 non-null  object \n",
      " 6   asin                  219235 non-null  object \n",
      " 7   is_ebook              219235 non-null  object \n",
      " 8   average_rating        219235 non-null  float64\n",
      " 9   kindle_asin           219235 non-null  object \n",
      " 10  similar_books         219235 non-null  object \n",
      " 11  description           219235 non-null  object \n",
      " 12  format                219235 non-null  object \n",
      " 13  link                  219235 non-null  object \n",
      " 14  authors               219235 non-null  object \n",
      " 15  publisher             219235 non-null  object \n",
      " 16  num_pages             219235 non-null  object \n",
      " 17  publication_day       219235 non-null  object \n",
      " 18  isbn13                219235 non-null  object \n",
      " 19  publication_month     219235 non-null  object \n",
      " 20  edition_information   219235 non-null  object \n",
      " 21  publication_year      219235 non-null  object \n",
      " 22  url                   219235 non-null  object \n",
      " 23  image_url             219235 non-null  object \n",
      " 24  book_id               219235 non-null  int64  \n",
      " 25  ratings_count         219235 non-null  int64  \n",
      " 26  work_id               219235 non-null  int64  \n",
      " 27  title                 219235 non-null  object \n",
      " 28  title_without_series  219235 non-null  object \n",
      "dtypes: float64(1), int64(4), object(24)\n",
      "memory usage: 48.5+ MB\n"
     ]
    }
   ],
   "source": [
    "dataframe1.info()"
   ]
  },
  {
   "cell_type": "markdown",
   "id": "671b6ae0",
   "metadata": {},
   "source": [
    "__HEad__"
   ]
  },
  {
   "cell_type": "code",
   "execution_count": 4,
   "id": "2a27caa9",
   "metadata": {},
   "outputs": [
    {
     "data": {
      "text/html": [
       "<div>\n",
       "<style scoped>\n",
       "    .dataframe tbody tr th:only-of-type {\n",
       "        vertical-align: middle;\n",
       "    }\n",
       "\n",
       "    .dataframe tbody tr th {\n",
       "        vertical-align: top;\n",
       "    }\n",
       "\n",
       "    .dataframe thead th {\n",
       "        text-align: right;\n",
       "    }\n",
       "</style>\n",
       "<table border=\"1\" class=\"dataframe\">\n",
       "  <thead>\n",
       "    <tr style=\"text-align: right;\">\n",
       "      <th></th>\n",
       "      <th>isbn</th>\n",
       "      <th>text_reviews_count</th>\n",
       "      <th>series</th>\n",
       "      <th>country_code</th>\n",
       "      <th>language_code</th>\n",
       "      <th>popular_shelves</th>\n",
       "      <th>asin</th>\n",
       "      <th>is_ebook</th>\n",
       "      <th>average_rating</th>\n",
       "      <th>kindle_asin</th>\n",
       "      <th>...</th>\n",
       "      <th>publication_month</th>\n",
       "      <th>edition_information</th>\n",
       "      <th>publication_year</th>\n",
       "      <th>url</th>\n",
       "      <th>image_url</th>\n",
       "      <th>book_id</th>\n",
       "      <th>ratings_count</th>\n",
       "      <th>work_id</th>\n",
       "      <th>title</th>\n",
       "      <th>title_without_series</th>\n",
       "    </tr>\n",
       "  </thead>\n",
       "  <tbody>\n",
       "    <tr>\n",
       "      <th>0</th>\n",
       "      <td>184737297X</td>\n",
       "      <td>15</td>\n",
       "      <td>[169353]</td>\n",
       "      <td>US</td>\n",
       "      <td></td>\n",
       "      <td>[{'count': '159', 'name': 'to-read'}, {'count'...</td>\n",
       "      <td></td>\n",
       "      <td>false</td>\n",
       "      <td>3.93</td>\n",
       "      <td>B007YLTG5I</td>\n",
       "      <td>...</td>\n",
       "      <td>4</td>\n",
       "      <td></td>\n",
       "      <td>2009</td>\n",
       "      <td>https://www.goodreads.com/book/show/6066814-cr...</td>\n",
       "      <td>https://images.gr-assets.com/books/1328724803m...</td>\n",
       "      <td>6066814</td>\n",
       "      <td>186</td>\n",
       "      <td>6243149</td>\n",
       "      <td>Crowner Royal (Crowner John Mystery, #13)</td>\n",
       "      <td>Crowner Royal (Crowner John Mystery, #13)</td>\n",
       "    </tr>\n",
       "    <tr>\n",
       "      <th>1</th>\n",
       "      <td></td>\n",
       "      <td>60</td>\n",
       "      <td>[1052227]</td>\n",
       "      <td>US</td>\n",
       "      <td>eng</td>\n",
       "      <td>[{'count': '54', 'name': 'currently-reading'},...</td>\n",
       "      <td>B01NCIKAQX</td>\n",
       "      <td>true</td>\n",
       "      <td>4.33</td>\n",
       "      <td>B01NCIKAQX</td>\n",
       "      <td>...</td>\n",
       "      <td></td>\n",
       "      <td></td>\n",
       "      <td></td>\n",
       "      <td>https://www.goodreads.com/book/show/33394837-t...</td>\n",
       "      <td>https://images.gr-assets.com/books/1493114742m...</td>\n",
       "      <td>33394837</td>\n",
       "      <td>269</td>\n",
       "      <td>54143148</td>\n",
       "      <td>The House of Memory (Pluto's Snitch #2)</td>\n",
       "      <td>The House of Memory (Pluto's Snitch #2)</td>\n",
       "    </tr>\n",
       "    <tr>\n",
       "      <th>2</th>\n",
       "      <td></td>\n",
       "      <td>23</td>\n",
       "      <td>[953679]</td>\n",
       "      <td>US</td>\n",
       "      <td>eng</td>\n",
       "      <td>[{'count': '90', 'name': 'to-read'}, {'count':...</td>\n",
       "      <td>B01ALOWJN0</td>\n",
       "      <td>true</td>\n",
       "      <td>3.49</td>\n",
       "      <td>B01ALOWJN0</td>\n",
       "      <td>...</td>\n",
       "      <td></td>\n",
       "      <td></td>\n",
       "      <td></td>\n",
       "      <td>https://www.goodreads.com/book/show/29074697-t...</td>\n",
       "      <td>https://s.gr-assets.com/assets/nophoto/book/11...</td>\n",
       "      <td>29074697</td>\n",
       "      <td>192</td>\n",
       "      <td>49305010</td>\n",
       "      <td>The Slaughtered Virgin of Zenopolis (Inspector...</td>\n",
       "      <td>The Slaughtered Virgin of Zenopolis (Inspector...</td>\n",
       "    </tr>\n",
       "    <tr>\n",
       "      <th>3</th>\n",
       "      <td>0854563903</td>\n",
       "      <td>8</td>\n",
       "      <td>[408775]</td>\n",
       "      <td>US</td>\n",
       "      <td></td>\n",
       "      <td>[{'count': '51', 'name': 'to-read'}, {'count':...</td>\n",
       "      <td></td>\n",
       "      <td>false</td>\n",
       "      <td>3.30</td>\n",
       "      <td></td>\n",
       "      <td>...</td>\n",
       "      <td>12</td>\n",
       "      <td>Large Print</td>\n",
       "      <td>1975</td>\n",
       "      <td>https://www.goodreads.com/book/show/1902202.De...</td>\n",
       "      <td>https://s.gr-assets.com/assets/nophoto/book/11...</td>\n",
       "      <td>1902202</td>\n",
       "      <td>52</td>\n",
       "      <td>1903897</td>\n",
       "      <td>Dead in the Morning (Patrick Grant, #1)</td>\n",
       "      <td>Dead in the Morning (Patrick Grant, #1)</td>\n",
       "    </tr>\n",
       "    <tr>\n",
       "      <th>4</th>\n",
       "      <td>8838920931</td>\n",
       "      <td>3</td>\n",
       "      <td>[274410]</td>\n",
       "      <td>US</td>\n",
       "      <td>ita</td>\n",
       "      <td>[{'count': '48', 'name': 'to-read'}, {'count':...</td>\n",
       "      <td></td>\n",
       "      <td>false</td>\n",
       "      <td>3.54</td>\n",
       "      <td></td>\n",
       "      <td>...</td>\n",
       "      <td></td>\n",
       "      <td></td>\n",
       "      <td>2006</td>\n",
       "      <td>https://www.goodreads.com/book/show/9671977-ar...</td>\n",
       "      <td>https://images.gr-assets.com/books/1474788304m...</td>\n",
       "      <td>9671977</td>\n",
       "      <td>22</td>\n",
       "      <td>2152906</td>\n",
       "      <td>Aristotele e i misteri di Eleusi</td>\n",
       "      <td>Aristotele e i misteri di Eleusi</td>\n",
       "    </tr>\n",
       "  </tbody>\n",
       "</table>\n",
       "<p>5 rows × 29 columns</p>\n",
       "</div>"
      ],
      "text/plain": [
       "         isbn  text_reviews_count     series country_code language_code  \\\n",
       "0  184737297X                  15   [169353]           US                 \n",
       "1                              60  [1052227]           US           eng   \n",
       "2                              23   [953679]           US           eng   \n",
       "3  0854563903                   8   [408775]           US                 \n",
       "4  8838920931                   3   [274410]           US           ita   \n",
       "\n",
       "                                     popular_shelves        asin is_ebook  \\\n",
       "0  [{'count': '159', 'name': 'to-read'}, {'count'...                false   \n",
       "1  [{'count': '54', 'name': 'currently-reading'},...  B01NCIKAQX     true   \n",
       "2  [{'count': '90', 'name': 'to-read'}, {'count':...  B01ALOWJN0     true   \n",
       "3  [{'count': '51', 'name': 'to-read'}, {'count':...                false   \n",
       "4  [{'count': '48', 'name': 'to-read'}, {'count':...                false   \n",
       "\n",
       "   average_rating kindle_asin  ... publication_month edition_information  \\\n",
       "0            3.93  B007YLTG5I  ...                 4                       \n",
       "1            4.33  B01NCIKAQX  ...                                         \n",
       "2            3.49  B01ALOWJN0  ...                                         \n",
       "3            3.30              ...                12         Large Print   \n",
       "4            3.54              ...                                         \n",
       "\n",
       "  publication_year                                                url  \\\n",
       "0             2009  https://www.goodreads.com/book/show/6066814-cr...   \n",
       "1                   https://www.goodreads.com/book/show/33394837-t...   \n",
       "2                   https://www.goodreads.com/book/show/29074697-t...   \n",
       "3             1975  https://www.goodreads.com/book/show/1902202.De...   \n",
       "4             2006  https://www.goodreads.com/book/show/9671977-ar...   \n",
       "\n",
       "                                           image_url   book_id ratings_count  \\\n",
       "0  https://images.gr-assets.com/books/1328724803m...   6066814           186   \n",
       "1  https://images.gr-assets.com/books/1493114742m...  33394837           269   \n",
       "2  https://s.gr-assets.com/assets/nophoto/book/11...  29074697           192   \n",
       "3  https://s.gr-assets.com/assets/nophoto/book/11...   1902202            52   \n",
       "4  https://images.gr-assets.com/books/1474788304m...   9671977            22   \n",
       "\n",
       "    work_id                                              title  \\\n",
       "0   6243149          Crowner Royal (Crowner John Mystery, #13)   \n",
       "1  54143148            The House of Memory (Pluto's Snitch #2)   \n",
       "2  49305010  The Slaughtered Virgin of Zenopolis (Inspector...   \n",
       "3   1903897            Dead in the Morning (Patrick Grant, #1)   \n",
       "4   2152906                   Aristotele e i misteri di Eleusi   \n",
       "\n",
       "                                title_without_series  \n",
       "0          Crowner Royal (Crowner John Mystery, #13)  \n",
       "1            The House of Memory (Pluto's Snitch #2)  \n",
       "2  The Slaughtered Virgin of Zenopolis (Inspector...  \n",
       "3            Dead in the Morning (Patrick Grant, #1)  \n",
       "4                   Aristotele e i misteri di Eleusi  \n",
       "\n",
       "[5 rows x 29 columns]"
      ]
     },
     "execution_count": 4,
     "metadata": {},
     "output_type": "execute_result"
    }
   ],
   "source": [
    "dataframe1.head()"
   ]
  },
  {
   "cell_type": "markdown",
   "id": "4a0c0090",
   "metadata": {},
   "source": [
    "__Get only the columns used for the project__\n",
    "* Following columns may be required\n",
    "    * text_reviews_count,\n",
    "    * language_code,\n",
    "    * popular_shelves,\n",
    "    * is_ebook,\n",
    "    * average_rating,\n",
    "    * description,\n",
    "    * author,\n",
    "    * publication_year,\n",
    "    * book_id\n",
    "    * ratings_count,\n",
    "    * work_id,\n",
    "    * title"
   ]
  },
  {
   "cell_type": "code",
   "execution_count": 5,
   "id": "8661791c",
   "metadata": {},
   "outputs": [],
   "source": [
    "books_metadata = dataframe1[['text_reviews_count', 'language_code', 'popular_shelves', 'is_ebook', 'average_rating', 'description', 'authors', 'publication_year', 'book_id', 'ratings_count', 'work_id', 'title']]\n",
    "books_columns = books_metadata.columns"
   ]
  },
  {
   "cell_type": "code",
   "execution_count": 6,
   "id": "edac74a7",
   "metadata": {},
   "outputs": [
    {
     "data": {
      "text/html": [
       "<div>\n",
       "<style scoped>\n",
       "    .dataframe tbody tr th:only-of-type {\n",
       "        vertical-align: middle;\n",
       "    }\n",
       "\n",
       "    .dataframe tbody tr th {\n",
       "        vertical-align: top;\n",
       "    }\n",
       "\n",
       "    .dataframe thead th {\n",
       "        text-align: right;\n",
       "    }\n",
       "</style>\n",
       "<table border=\"1\" class=\"dataframe\">\n",
       "  <thead>\n",
       "    <tr style=\"text-align: right;\">\n",
       "      <th></th>\n",
       "      <th>text_reviews_count</th>\n",
       "      <th>language_code</th>\n",
       "      <th>popular_shelves</th>\n",
       "      <th>is_ebook</th>\n",
       "      <th>average_rating</th>\n",
       "      <th>description</th>\n",
       "      <th>authors</th>\n",
       "      <th>publication_year</th>\n",
       "      <th>book_id</th>\n",
       "      <th>ratings_count</th>\n",
       "      <th>work_id</th>\n",
       "      <th>title</th>\n",
       "    </tr>\n",
       "  </thead>\n",
       "  <tbody>\n",
       "    <tr>\n",
       "      <th>0</th>\n",
       "      <td>15</td>\n",
       "      <td></td>\n",
       "      <td>[{'count': '159', 'name': 'to-read'}, {'count'...</td>\n",
       "      <td>false</td>\n",
       "      <td>3.93</td>\n",
       "      <td>London, 1196. At the command of Richard the Li...</td>\n",
       "      <td>[{'author_id': '37778', 'role': ''}]</td>\n",
       "      <td>2009</td>\n",
       "      <td>6066814</td>\n",
       "      <td>186</td>\n",
       "      <td>6243149</td>\n",
       "      <td>Crowner Royal (Crowner John Mystery, #13)</td>\n",
       "    </tr>\n",
       "    <tr>\n",
       "      <th>1</th>\n",
       "      <td>60</td>\n",
       "      <td>eng</td>\n",
       "      <td>[{'count': '54', 'name': 'currently-reading'},...</td>\n",
       "      <td>true</td>\n",
       "      <td>4.33</td>\n",
       "      <td></td>\n",
       "      <td>[{'author_id': '242185', 'role': ''}]</td>\n",
       "      <td></td>\n",
       "      <td>33394837</td>\n",
       "      <td>269</td>\n",
       "      <td>54143148</td>\n",
       "      <td>The House of Memory (Pluto's Snitch #2)</td>\n",
       "    </tr>\n",
       "    <tr>\n",
       "      <th>2</th>\n",
       "      <td>23</td>\n",
       "      <td>eng</td>\n",
       "      <td>[{'count': '90', 'name': 'to-read'}, {'count':...</td>\n",
       "      <td>true</td>\n",
       "      <td>3.49</td>\n",
       "      <td>BATHS, BANKS AND ROMAN INSURRECTION\\nDetective...</td>\n",
       "      <td>[{'author_id': '15104629', 'role': ''}, {'auth...</td>\n",
       "      <td></td>\n",
       "      <td>29074697</td>\n",
       "      <td>192</td>\n",
       "      <td>49305010</td>\n",
       "      <td>The Slaughtered Virgin of Zenopolis (Inspector...</td>\n",
       "    </tr>\n",
       "    <tr>\n",
       "      <th>3</th>\n",
       "      <td>8</td>\n",
       "      <td></td>\n",
       "      <td>[{'count': '51', 'name': 'to-read'}, {'count':...</td>\n",
       "      <td>false</td>\n",
       "      <td>3.30</td>\n",
       "      <td>Gerald breezily introduced his wife, Helen, to...</td>\n",
       "      <td>[{'author_id': '190988', 'role': ''}]</td>\n",
       "      <td>1975</td>\n",
       "      <td>1902202</td>\n",
       "      <td>52</td>\n",
       "      <td>1903897</td>\n",
       "      <td>Dead in the Morning (Patrick Grant, #1)</td>\n",
       "    </tr>\n",
       "    <tr>\n",
       "      <th>4</th>\n",
       "      <td>3</td>\n",
       "      <td>ita</td>\n",
       "      <td>[{'count': '48', 'name': 'to-read'}, {'count':...</td>\n",
       "      <td>false</td>\n",
       "      <td>3.54</td>\n",
       "      <td>\"I misteri di Eleusi\" e il quinto romanzo di A...</td>\n",
       "      <td>[{'author_id': '337108', 'role': ''}, {'author...</td>\n",
       "      <td>2006</td>\n",
       "      <td>9671977</td>\n",
       "      <td>22</td>\n",
       "      <td>2152906</td>\n",
       "      <td>Aristotele e i misteri di Eleusi</td>\n",
       "    </tr>\n",
       "  </tbody>\n",
       "</table>\n",
       "</div>"
      ],
      "text/plain": [
       "   text_reviews_count language_code  \\\n",
       "0                  15                 \n",
       "1                  60           eng   \n",
       "2                  23           eng   \n",
       "3                   8                 \n",
       "4                   3           ita   \n",
       "\n",
       "                                     popular_shelves is_ebook  average_rating  \\\n",
       "0  [{'count': '159', 'name': 'to-read'}, {'count'...    false            3.93   \n",
       "1  [{'count': '54', 'name': 'currently-reading'},...     true            4.33   \n",
       "2  [{'count': '90', 'name': 'to-read'}, {'count':...     true            3.49   \n",
       "3  [{'count': '51', 'name': 'to-read'}, {'count':...    false            3.30   \n",
       "4  [{'count': '48', 'name': 'to-read'}, {'count':...    false            3.54   \n",
       "\n",
       "                                         description  \\\n",
       "0  London, 1196. At the command of Richard the Li...   \n",
       "1                                                      \n",
       "2  BATHS, BANKS AND ROMAN INSURRECTION\\nDetective...   \n",
       "3  Gerald breezily introduced his wife, Helen, to...   \n",
       "4  \"I misteri di Eleusi\" e il quinto romanzo di A...   \n",
       "\n",
       "                                             authors publication_year  \\\n",
       "0               [{'author_id': '37778', 'role': ''}]             2009   \n",
       "1              [{'author_id': '242185', 'role': ''}]                    \n",
       "2  [{'author_id': '15104629', 'role': ''}, {'auth...                    \n",
       "3              [{'author_id': '190988', 'role': ''}]             1975   \n",
       "4  [{'author_id': '337108', 'role': ''}, {'author...             2006   \n",
       "\n",
       "    book_id  ratings_count   work_id  \\\n",
       "0   6066814            186   6243149   \n",
       "1  33394837            269  54143148   \n",
       "2  29074697            192  49305010   \n",
       "3   1902202             52   1903897   \n",
       "4   9671977             22   2152906   \n",
       "\n",
       "                                               title  \n",
       "0          Crowner Royal (Crowner John Mystery, #13)  \n",
       "1            The House of Memory (Pluto's Snitch #2)  \n",
       "2  The Slaughtered Virgin of Zenopolis (Inspector...  \n",
       "3            Dead in the Morning (Patrick Grant, #1)  \n",
       "4                   Aristotele e i misteri di Eleusi  "
      ]
     },
     "execution_count": 6,
     "metadata": {},
     "output_type": "execute_result"
    }
   ],
   "source": [
    "books_metadata.head()"
   ]
  },
  {
   "cell_type": "markdown",
   "id": "1d0531c2",
   "metadata": {},
   "source": [
    "__Get the rows which have null value from the dataset__"
   ]
  },
  {
   "cell_type": "code",
   "execution_count": 7,
   "id": "712067ee",
   "metadata": {},
   "outputs": [],
   "source": [
    "drop_rows = []\n",
    "for rows in range(len(books_metadata)):\n",
    "    useful = 1\n",
    "    for cols in books_columns:\n",
    "        if(books_metadata[cols][rows] == ''):\n",
    "            useful = 0\n",
    "            break\n",
    "        else:\n",
    "            useful = 1\n",
    "    if(useful == 0):\n",
    "        drop_rows.append(rows)"
   ]
  },
  {
   "cell_type": "markdown",
   "id": "a499a538",
   "metadata": {},
   "source": [
    "__Drop the rows that have null values__"
   ]
  },
  {
   "cell_type": "code",
   "execution_count": 8,
   "id": "9e755362",
   "metadata": {},
   "outputs": [],
   "source": [
    "books_metadata_final = books_metadata.drop(drop_rows)"
   ]
  },
  {
   "cell_type": "code",
   "execution_count": 9,
   "id": "c2069572",
   "metadata": {},
   "outputs": [],
   "source": [
    "books_metadata_final = books_metadata_final.reset_index().drop(['index'],axis=1)"
   ]
  },
  {
   "cell_type": "code",
   "execution_count": 10,
   "id": "6d5ad688",
   "metadata": {},
   "outputs": [
    {
     "data": {
      "text/plain": [
       "array(['ita', 'eng', 'gre', 'lit', 'fin', 'en-GB', 'en-US', 'per', 'bul',\n",
       "       'nl', 'spa', 'ger', 'swe', 'pes', 'cze', 'en-CA', 'por', 'fre',\n",
       "       'nor', 'zho', 'ind', 'rum', 'slo', 'lav', 'heb', 'dan', 'pol',\n",
       "       'srp', 'tur', 'kat', 'jpn', 'ben', 'nob', 'vie', 'hun', 'tha',\n",
       "       'rus', 'ara', 'cat', 'ukr', 'kan', 'scr', 'msa', 'est', 'isl',\n",
       "       'pra', 'en', 'afr', 'vls', 'din', 'pt-BR', 'aze', 'mkd', 'slv',\n",
       "       'aus', 'eus', 'urd', 'tam', 'glg', 'hye', 'fil', 'mon', 'mus',\n",
       "       'nno', 'kor', 'frs', '--', 'nld', 'mlt', 'grc', 'egy', 'es-MX',\n",
       "       'mul', 'mar', 'hin', 'mal', 'sin', 'peo', 'sqi', 'bos', 'tel',\n",
       "       'ady'], dtype=object)"
      ]
     },
     "execution_count": 10,
     "metadata": {},
     "output_type": "execute_result"
    }
   ],
   "source": [
    "books_metadata_final['language_code'].unique()"
   ]
  },
  {
   "cell_type": "markdown",
   "id": "03f4b05b",
   "metadata": {},
   "source": [
    "__Get only rows with language as 'eng' and 'en-US'__"
   ]
  },
  {
   "cell_type": "code",
   "execution_count": 11,
   "id": "4ac2f08f",
   "metadata": {},
   "outputs": [],
   "source": [
    "books_metadata_final = books_metadata_final[(books_metadata_final['language_code']=='eng') | (books_metadata_final['language_code']=='en-US')]"
   ]
  },
  {
   "cell_type": "code",
   "execution_count": 12,
   "id": "028320e4",
   "metadata": {},
   "outputs": [
    {
     "data": {
      "text/plain": [
       "(66775, 12)"
      ]
     },
     "execution_count": 12,
     "metadata": {},
     "output_type": "execute_result"
    }
   ],
   "source": [
    "books_metadata_final.shape"
   ]
  },
  {
   "cell_type": "code",
   "execution_count": 13,
   "id": "6f451647",
   "metadata": {
    "scrolled": true
   },
   "outputs": [
    {
     "data": {
      "text/plain": [
       "array(['2013', '2014', '2004', '2006', '2016', '2015', '2008', '1998',\n",
       "       '1954', '2011', '1996', '2012', '2010', '2002', '2000', '2003',\n",
       "       '1991', '1960', '2017', '1997', '2007', '2005', '1999', '1995',\n",
       "       '1951', '1989', '2009', '2001', '1987', '1993', '1962', '1992',\n",
       "       '1990', '1839', '1986', '1981', '1978', '1988', '1964', '1946',\n",
       "       '1979', '1966', '1976', '1994', '1973', '1963', '1983', '1980',\n",
       "       '1952', '1982', '2020', '1972', '1965', '2104', '1984', '1968',\n",
       "       '1935', '1985', '1974', '1958', '1967', '1949', '1941', '1902',\n",
       "       '1969', '1945', '1975', '1955', '2018', '1971', '1948', '1942',\n",
       "       '1961', '1957', '1944', '1956', '1977', '1970', '1959', '1947',\n",
       "       '1915', '1921', '1950', '1940', '20002', '1943', '1939', '1929',\n",
       "       '1916', '1933', '1938', '1937', '1953', '201', '1918', '16',\n",
       "       '1908', '1927', '28', '1917', '1899', '1919', '1934', '1931',\n",
       "       '352', '12', '2105', '1930', '1843', '213', '1926', '1213', '1920',\n",
       "       '20158', '210', '2019', '4', '19992', '20112', '1924', '1925', '2',\n",
       "       '1928', '1912', '212', '1932', '1910', '1913', '1892', '1904',\n",
       "       '215', '1890', '2911', '208', '20102', '15', '1922', '2021',\n",
       "       '3013', '20113', '1887', '1895', '1936', '1907', '2101', '2102',\n",
       "       '216', '1900', '1923', '200', '20125', '1903', '14', '2103',\n",
       "       '20015', '1906', '1850', '214', '1893', '8', '1909', '2140', '198',\n",
       "       '2106'], dtype=object)"
      ]
     },
     "execution_count": 13,
     "metadata": {},
     "output_type": "execute_result"
    }
   ],
   "source": [
    "books_metadata_final['publication_year'].unique()"
   ]
  },
  {
   "cell_type": "code",
   "execution_count": 14,
   "id": "f86e1706",
   "metadata": {
    "scrolled": true
   },
   "outputs": [
    {
     "data": {
      "text/plain": [
       "Int64Index([     1,      2,      3,      4,      5,      7,      8,      9,\n",
       "                10,     11,\n",
       "            ...\n",
       "            103394, 103395, 103399, 103400, 103401, 103402, 103403, 103405,\n",
       "            103406, 103407],\n",
       "           dtype='int64', length=66775)"
      ]
     },
     "execution_count": 14,
     "metadata": {},
     "output_type": "execute_result"
    }
   ],
   "source": [
    "books_metadata_final.index"
   ]
  },
  {
   "cell_type": "code",
   "execution_count": 15,
   "id": "8068365f",
   "metadata": {},
   "outputs": [],
   "source": [
    "incomplete_year = []\n",
    "for i in books_metadata_final.index:\n",
    "    if len(books_metadata_final['publication_year'][i]) != 4 :\n",
    "        incomplete_year.append(i)"
   ]
  },
  {
   "cell_type": "code",
   "execution_count": 16,
   "id": "f600d2c1",
   "metadata": {},
   "outputs": [
    {
     "data": {
      "text/plain": [
       "45"
      ]
     },
     "execution_count": 16,
     "metadata": {},
     "output_type": "execute_result"
    }
   ],
   "source": [
    "len(incomplete_year)"
   ]
  },
  {
   "cell_type": "code",
   "execution_count": 17,
   "id": "5df06f18",
   "metadata": {},
   "outputs": [],
   "source": [
    "books_metadata_final = books_metadata_final.drop(incomplete_year)"
   ]
  },
  {
   "cell_type": "code",
   "execution_count": 18,
   "id": "a2d5bd8d",
   "metadata": {},
   "outputs": [],
   "source": [
    "wrong_year = []\n",
    "for i in books_metadata_final.index:\n",
    "    if int(books_metadata_final['publication_year'][i]) <=1838 or int(books_metadata_final['publication_year'][i]) >= 2021:\n",
    "        wrong_year.append(i)"
   ]
  },
  {
   "cell_type": "code",
   "execution_count": 19,
   "id": "e065db4c",
   "metadata": {},
   "outputs": [
    {
     "data": {
      "text/plain": [
       "20"
      ]
     },
     "execution_count": 19,
     "metadata": {},
     "output_type": "execute_result"
    }
   ],
   "source": [
    "len(wrong_year)"
   ]
  },
  {
   "cell_type": "code",
   "execution_count": 20,
   "id": "0c230e8c",
   "metadata": {},
   "outputs": [],
   "source": [
    "books_metadata_final = books_metadata_final.drop(wrong_year)"
   ]
  },
  {
   "cell_type": "code",
   "execution_count": 21,
   "id": "dc16c68e",
   "metadata": {},
   "outputs": [
    {
     "data": {
      "text/plain": [
       "array(['2013', '2014', '2004', '2006', '2016', '2015', '2008', '1998',\n",
       "       '1954', '2011', '1996', '2012', '2010', '2002', '2000', '2003',\n",
       "       '1991', '1960', '2017', '1997', '2007', '2005', '1999', '1995',\n",
       "       '1951', '1989', '2009', '2001', '1987', '1993', '1962', '1992',\n",
       "       '1990', '1839', '1986', '1981', '1978', '1988', '1964', '1946',\n",
       "       '1979', '1966', '1976', '1994', '1973', '1963', '1983', '1980',\n",
       "       '1952', '1982', '2020', '1972', '1965', '1984', '1968', '1935',\n",
       "       '1985', '1974', '1958', '1967', '1949', '1941', '1902', '1969',\n",
       "       '1945', '1975', '1955', '2018', '1971', '1948', '1942', '1961',\n",
       "       '1957', '1944', '1956', '1977', '1970', '1959', '1947', '1915',\n",
       "       '1921', '1950', '1940', '1943', '1939', '1929', '1916', '1933',\n",
       "       '1938', '1937', '1953', '1918', '1908', '1927', '1917', '1899',\n",
       "       '1919', '1934', '1931', '1930', '1843', '1926', '1920', '2019',\n",
       "       '1924', '1925', '1928', '1912', '1932', '1910', '1913', '1892',\n",
       "       '1904', '1890', '1922', '1887', '1895', '1936', '1907', '1900',\n",
       "       '1923', '1903', '1906', '1850', '1893', '1909'], dtype=object)"
      ]
     },
     "execution_count": 21,
     "metadata": {},
     "output_type": "execute_result"
    }
   ],
   "source": [
    "books_metadata_final['publication_year'].unique()"
   ]
  },
  {
   "cell_type": "code",
   "execution_count": 22,
   "id": "d1325c4d",
   "metadata": {},
   "outputs": [
    {
     "data": {
      "text/plain": [
       "'2020'"
      ]
     },
     "execution_count": 22,
     "metadata": {},
     "output_type": "execute_result"
    }
   ],
   "source": [
    "books_metadata_final['publication_year'].max()"
   ]
  },
  {
   "cell_type": "code",
   "execution_count": 23,
   "id": "37c0130a",
   "metadata": {},
   "outputs": [
    {
     "data": {
      "text/plain": [
       "'1839'"
      ]
     },
     "execution_count": 23,
     "metadata": {},
     "output_type": "execute_result"
    }
   ],
   "source": [
    "books_metadata_final['publication_year'].min()"
   ]
  },
  {
   "cell_type": "code",
   "execution_count": 24,
   "id": "2903bb65",
   "metadata": {},
   "outputs": [
    {
     "data": {
      "text/html": [
       "<div>\n",
       "<style scoped>\n",
       "    .dataframe tbody tr th:only-of-type {\n",
       "        vertical-align: middle;\n",
       "    }\n",
       "\n",
       "    .dataframe tbody tr th {\n",
       "        vertical-align: top;\n",
       "    }\n",
       "\n",
       "    .dataframe thead th {\n",
       "        text-align: right;\n",
       "    }\n",
       "</style>\n",
       "<table border=\"1\" class=\"dataframe\">\n",
       "  <thead>\n",
       "    <tr style=\"text-align: right;\">\n",
       "      <th></th>\n",
       "      <th>text_reviews_count</th>\n",
       "      <th>language_code</th>\n",
       "      <th>popular_shelves</th>\n",
       "      <th>is_ebook</th>\n",
       "      <th>average_rating</th>\n",
       "      <th>description</th>\n",
       "      <th>authors</th>\n",
       "      <th>publication_year</th>\n",
       "      <th>book_id</th>\n",
       "      <th>ratings_count</th>\n",
       "      <th>work_id</th>\n",
       "      <th>title</th>\n",
       "    </tr>\n",
       "  </thead>\n",
       "  <tbody>\n",
       "    <tr>\n",
       "      <th>1</th>\n",
       "      <td>3</td>\n",
       "      <td>eng</td>\n",
       "      <td>[{'count': '1694', 'name': 'mystery'}, {'count...</td>\n",
       "      <td>false</td>\n",
       "      <td>3.96</td>\n",
       "      <td>Agatha Christie's most ingenious murder myster...</td>\n",
       "      <td>[{'author_id': '123715', 'role': ''}, {'author...</td>\n",
       "      <td>2013</td>\n",
       "      <td>16158998</td>\n",
       "      <td>5</td>\n",
       "      <td>2288775</td>\n",
       "      <td>A Murder is Announced</td>\n",
       "    </tr>\n",
       "    <tr>\n",
       "      <th>2</th>\n",
       "      <td>6</td>\n",
       "      <td>eng</td>\n",
       "      <td>[{'count': '171', 'name': 'to-read'}, {'count'...</td>\n",
       "      <td>false</td>\n",
       "      <td>4.14</td>\n",
       "      <td>\"Poetic, down trodden and nihilistic, Jonathan...</td>\n",
       "      <td>[{'author_id': '4577517', 'role': ''}]</td>\n",
       "      <td>2014</td>\n",
       "      <td>22722787</td>\n",
       "      <td>18</td>\n",
       "      <td>42251489</td>\n",
       "      <td>The Cost of Doing Business</td>\n",
       "    </tr>\n",
       "    <tr>\n",
       "      <th>3</th>\n",
       "      <td>2</td>\n",
       "      <td>eng</td>\n",
       "      <td>[{'count': '1642', 'name': 'mystery'}, {'count...</td>\n",
       "      <td>false</td>\n",
       "      <td>3.93</td>\n",
       "      <td>In Agatha Christie's classic mystery 4:50 From...</td>\n",
       "      <td>[{'author_id': '123715', 'role': ''}, {'author...</td>\n",
       "      <td>2013</td>\n",
       "      <td>16158996</td>\n",
       "      <td>5</td>\n",
       "      <td>6490729</td>\n",
       "      <td>4:50 From Paddington</td>\n",
       "    </tr>\n",
       "    <tr>\n",
       "      <th>4</th>\n",
       "      <td>46</td>\n",
       "      <td>eng</td>\n",
       "      <td>[{'count': '328', 'name': 'mystery'}, {'count'...</td>\n",
       "      <td>false</td>\n",
       "      <td>4.07</td>\n",
       "      <td>Past and present collide as Special Agent Pend...</td>\n",
       "      <td>[{'author_id': '12577', 'role': ''}, {'author_...</td>\n",
       "      <td>2013</td>\n",
       "      <td>17368265</td>\n",
       "      <td>250</td>\n",
       "      <td>24152432</td>\n",
       "      <td>White Fire (Pendergast, #13)</td>\n",
       "    </tr>\n",
       "    <tr>\n",
       "      <th>5</th>\n",
       "      <td>4</td>\n",
       "      <td>eng</td>\n",
       "      <td>[{'count': '5396', 'name': 'to-read'}, {'count...</td>\n",
       "      <td>false</td>\n",
       "      <td>4.11</td>\n",
       "      <td>1 MP3-CD / 10 hours\\nHaunted by a series of ho...</td>\n",
       "      <td>[{'author_id': '25108', 'role': ''}, {'author_...</td>\n",
       "      <td>2004</td>\n",
       "      <td>926660</td>\n",
       "      <td>15</td>\n",
       "      <td>911663</td>\n",
       "      <td>Monkeewrench</td>\n",
       "    </tr>\n",
       "  </tbody>\n",
       "</table>\n",
       "</div>"
      ],
      "text/plain": [
       "   text_reviews_count language_code  \\\n",
       "1                   3           eng   \n",
       "2                   6           eng   \n",
       "3                   2           eng   \n",
       "4                  46           eng   \n",
       "5                   4           eng   \n",
       "\n",
       "                                     popular_shelves is_ebook  average_rating  \\\n",
       "1  [{'count': '1694', 'name': 'mystery'}, {'count...    false            3.96   \n",
       "2  [{'count': '171', 'name': 'to-read'}, {'count'...    false            4.14   \n",
       "3  [{'count': '1642', 'name': 'mystery'}, {'count...    false            3.93   \n",
       "4  [{'count': '328', 'name': 'mystery'}, {'count'...    false            4.07   \n",
       "5  [{'count': '5396', 'name': 'to-read'}, {'count...    false            4.11   \n",
       "\n",
       "                                         description  \\\n",
       "1  Agatha Christie's most ingenious murder myster...   \n",
       "2  \"Poetic, down trodden and nihilistic, Jonathan...   \n",
       "3  In Agatha Christie's classic mystery 4:50 From...   \n",
       "4  Past and present collide as Special Agent Pend...   \n",
       "5  1 MP3-CD / 10 hours\\nHaunted by a series of ho...   \n",
       "\n",
       "                                             authors publication_year  \\\n",
       "1  [{'author_id': '123715', 'role': ''}, {'author...             2013   \n",
       "2             [{'author_id': '4577517', 'role': ''}]             2014   \n",
       "3  [{'author_id': '123715', 'role': ''}, {'author...             2013   \n",
       "4  [{'author_id': '12577', 'role': ''}, {'author_...             2013   \n",
       "5  [{'author_id': '25108', 'role': ''}, {'author_...             2004   \n",
       "\n",
       "    book_id  ratings_count   work_id                         title  \n",
       "1  16158998              5   2288775         A Murder is Announced  \n",
       "2  22722787             18  42251489    The Cost of Doing Business  \n",
       "3  16158996              5   6490729          4:50 From Paddington  \n",
       "4  17368265            250  24152432  White Fire (Pendergast, #13)  \n",
       "5    926660             15    911663                  Monkeewrench  "
      ]
     },
     "execution_count": 24,
     "metadata": {},
     "output_type": "execute_result"
    }
   ],
   "source": [
    "books_metadata_final.head()"
   ]
  },
  {
   "cell_type": "code",
   "execution_count": 25,
   "id": "56d76ee6",
   "metadata": {},
   "outputs": [
    {
     "data": {
      "text/plain": [
       "(66710, 12)"
      ]
     },
     "execution_count": 25,
     "metadata": {},
     "output_type": "execute_result"
    }
   ],
   "source": [
    "books_metadata_final.shape"
   ]
  },
  {
   "cell_type": "code",
   "execution_count": 26,
   "id": "154942ba",
   "metadata": {},
   "outputs": [],
   "source": [
    "count = books_metadata_final[['publication_year','average_rating']].groupby('publication_year').agg('count')"
   ]
  },
  {
   "cell_type": "code",
   "execution_count": 27,
   "id": "6b225553",
   "metadata": {},
   "outputs": [
    {
     "data": {
      "text/html": [
       "<div>\n",
       "<style scoped>\n",
       "    .dataframe tbody tr th:only-of-type {\n",
       "        vertical-align: middle;\n",
       "    }\n",
       "\n",
       "    .dataframe tbody tr th {\n",
       "        vertical-align: top;\n",
       "    }\n",
       "\n",
       "    .dataframe thead th {\n",
       "        text-align: right;\n",
       "    }\n",
       "</style>\n",
       "<table border=\"1\" class=\"dataframe\">\n",
       "  <thead>\n",
       "    <tr style=\"text-align: right;\">\n",
       "      <th></th>\n",
       "      <th>average_rating</th>\n",
       "    </tr>\n",
       "    <tr>\n",
       "      <th>publication_year</th>\n",
       "      <th></th>\n",
       "    </tr>\n",
       "  </thead>\n",
       "  <tbody>\n",
       "    <tr>\n",
       "      <th>1946</th>\n",
       "      <td>33</td>\n",
       "    </tr>\n",
       "    <tr>\n",
       "      <th>1950</th>\n",
       "      <td>50</td>\n",
       "    </tr>\n",
       "    <tr>\n",
       "      <th>1951</th>\n",
       "      <td>37</td>\n",
       "    </tr>\n",
       "    <tr>\n",
       "      <th>1952</th>\n",
       "      <td>35</td>\n",
       "    </tr>\n",
       "    <tr>\n",
       "      <th>1953</th>\n",
       "      <td>45</td>\n",
       "    </tr>\n",
       "  </tbody>\n",
       "</table>\n",
       "</div>"
      ],
      "text/plain": [
       "                  average_rating\n",
       "publication_year                \n",
       "1946                          33\n",
       "1950                          50\n",
       "1951                          37\n",
       "1952                          35\n",
       "1953                          45"
      ]
     },
     "execution_count": 27,
     "metadata": {},
     "output_type": "execute_result"
    }
   ],
   "source": [
    "count = count[count['average_rating']>=30]\n",
    "count.head()"
   ]
  },
  {
   "cell_type": "code",
   "execution_count": 28,
   "id": "9e656bd3",
   "metadata": {},
   "outputs": [
    {
     "data": {
      "text/plain": [
       "Index(['1946', '1950', '1951', '1952', '1953', '1954', '1955', '1956', '1957',\n",
       "       '1958', '1959', '1960', '1961', '1962', '1963', '1964', '1965', '1966',\n",
       "       '1967', '1968', '1969', '1970', '1971', '1972', '1973', '1974', '1975',\n",
       "       '1976', '1977', '1978', '1979', '1980', '1981', '1982', '1983', '1984',\n",
       "       '1985', '1986', '1987', '1988', '1989', '1990', '1991', '1992', '1993',\n",
       "       '1994', '1995', '1996', '1997', '1998', '1999', '2000', '2001', '2002',\n",
       "       '2003', '2004', '2005', '2006', '2007', '2008', '2009', '2010', '2011',\n",
       "       '2012', '2013', '2014', '2015', '2016', '2017', '2018'],\n",
       "      dtype='object', name='publication_year')"
      ]
     },
     "execution_count": 28,
     "metadata": {},
     "output_type": "execute_result"
    }
   ],
   "source": [
    "index = count.index\n",
    "index"
   ]
  },
  {
   "cell_type": "code",
   "execution_count": 29,
   "id": "c47b4f68",
   "metadata": {},
   "outputs": [],
   "source": [
    "books_metadata_final = books_metadata_final.loc[books_metadata_final['publication_year'].isin(index)]"
   ]
  },
  {
   "cell_type": "code",
   "execution_count": 30,
   "id": "786598a7",
   "metadata": {},
   "outputs": [
    {
     "data": {
      "text/plain": [
       "(66315, 12)"
      ]
     },
     "execution_count": 30,
     "metadata": {},
     "output_type": "execute_result"
    }
   ],
   "source": [
    "books_metadata_final.shape"
   ]
  },
  {
   "cell_type": "markdown",
   "id": "c6a7655c",
   "metadata": {},
   "source": [
    "__Export the final datasets__"
   ]
  },
  {
   "cell_type": "code",
   "execution_count": 31,
   "id": "712506ad",
   "metadata": {},
   "outputs": [],
   "source": [
    "books_metadata_final.to_json('final_dataset/books_metadata_thriller.json')"
   ]
  },
  {
   "cell_type": "markdown",
   "id": "d0ffdd0c",
   "metadata": {},
   "source": [
    "# goodreads_interactions_mystery_thriller_crime.json dataset"
   ]
  },
  {
   "cell_type": "markdown",
   "id": "32502d67",
   "metadata": {},
   "source": [
    "__Read goodreads interaction dataset__"
   ]
  },
  {
   "cell_type": "code",
   "execution_count": 31,
   "id": "1b51bf04",
   "metadata": {},
   "outputs": [],
   "source": [
    "dataframe2 = pd.read_json('goodreads_interactions_mystery_thriller_crime.json', lines=True)"
   ]
  },
  {
   "cell_type": "code",
   "execution_count": 32,
   "id": "e8ff3e45",
   "metadata": {},
   "outputs": [
    {
     "name": "stdout",
     "output_type": "stream",
     "text": [
      "<class 'pandas.core.frame.DataFrame'>\n",
      "RangeIndex: 24799896 entries, 0 to 24799895\n",
      "Data columns (total 10 columns):\n",
      " #   Column                  Dtype \n",
      "---  ------                  ----- \n",
      " 0   user_id                 object\n",
      " 1   book_id                 int64 \n",
      " 2   review_id               object\n",
      " 3   is_read                 bool  \n",
      " 4   rating                  int64 \n",
      " 5   review_text_incomplete  object\n",
      " 6   date_added              object\n",
      " 7   date_updated            object\n",
      " 8   read_at                 object\n",
      " 9   started_at              object\n",
      "dtypes: bool(1), int64(2), object(7)\n",
      "memory usage: 1.7+ GB\n"
     ]
    }
   ],
   "source": [
    "dataframe2.info()"
   ]
  },
  {
   "cell_type": "code",
   "execution_count": 33,
   "id": "68b9888c",
   "metadata": {},
   "outputs": [
    {
     "data": {
      "text/html": [
       "<div>\n",
       "<style scoped>\n",
       "    .dataframe tbody tr th:only-of-type {\n",
       "        vertical-align: middle;\n",
       "    }\n",
       "\n",
       "    .dataframe tbody tr th {\n",
       "        vertical-align: top;\n",
       "    }\n",
       "\n",
       "    .dataframe thead th {\n",
       "        text-align: right;\n",
       "    }\n",
       "</style>\n",
       "<table border=\"1\" class=\"dataframe\">\n",
       "  <thead>\n",
       "    <tr style=\"text-align: right;\">\n",
       "      <th></th>\n",
       "      <th>user_id</th>\n",
       "      <th>book_id</th>\n",
       "      <th>review_id</th>\n",
       "      <th>is_read</th>\n",
       "      <th>rating</th>\n",
       "      <th>review_text_incomplete</th>\n",
       "      <th>date_added</th>\n",
       "      <th>date_updated</th>\n",
       "      <th>read_at</th>\n",
       "      <th>started_at</th>\n",
       "    </tr>\n",
       "  </thead>\n",
       "  <tbody>\n",
       "    <tr>\n",
       "      <th>0</th>\n",
       "      <td>8842281e1d1347389f2ab93d60773d4d</td>\n",
       "      <td>6392944</td>\n",
       "      <td>5e212a62bced17b4dbe41150e5bb9037</td>\n",
       "      <td>True</td>\n",
       "      <td>3</td>\n",
       "      <td>I haven't read a fun mystery book in a while a...</td>\n",
       "      <td>Mon Jul 24 02:48:17 -0700 2017</td>\n",
       "      <td>Sun Jul 30 09:28:03 -0700 2017</td>\n",
       "      <td>Tue Jul 25 00:00:00 -0700 2017</td>\n",
       "      <td>Mon Jul 24 00:00:00 -0700 2017</td>\n",
       "    </tr>\n",
       "    <tr>\n",
       "      <th>1</th>\n",
       "      <td>8842281e1d1347389f2ab93d60773d4d</td>\n",
       "      <td>2279538</td>\n",
       "      <td>556e9e3f00fb5b7e4eaa116764b771b0</td>\n",
       "      <td>False</td>\n",
       "      <td>0</td>\n",
       "      <td></td>\n",
       "      <td>Wed Mar 29 00:27:14 -0700 2017</td>\n",
       "      <td>Wed Mar 29 00:27:14 -0700 2017</td>\n",
       "      <td></td>\n",
       "      <td></td>\n",
       "    </tr>\n",
       "    <tr>\n",
       "      <th>2</th>\n",
       "      <td>8842281e1d1347389f2ab93d60773d4d</td>\n",
       "      <td>20821043</td>\n",
       "      <td>4b15f8a08f04a17f9a47f2b76fec21e5</td>\n",
       "      <td>False</td>\n",
       "      <td>0</td>\n",
       "      <td></td>\n",
       "      <td>Mon Mar 27 22:52:11 -0700 2017</td>\n",
       "      <td>Mon Mar 27 22:52:12 -0700 2017</td>\n",
       "      <td></td>\n",
       "      <td></td>\n",
       "    </tr>\n",
       "    <tr>\n",
       "      <th>3</th>\n",
       "      <td>8842281e1d1347389f2ab93d60773d4d</td>\n",
       "      <td>31184479</td>\n",
       "      <td>0b9fc382ad38c5804ec46df84d66be6e</td>\n",
       "      <td>False</td>\n",
       "      <td>0</td>\n",
       "      <td></td>\n",
       "      <td>Fri Jan 06 16:22:46 -0800 2017</td>\n",
       "      <td>Fri Jan 06 16:22:46 -0800 2017</td>\n",
       "      <td></td>\n",
       "      <td></td>\n",
       "    </tr>\n",
       "    <tr>\n",
       "      <th>4</th>\n",
       "      <td>8842281e1d1347389f2ab93d60773d4d</td>\n",
       "      <td>28684704</td>\n",
       "      <td>2ede853b14dc4583f96cf5d120af636f</td>\n",
       "      <td>True</td>\n",
       "      <td>3</td>\n",
       "      <td>A fun, fast paced science fiction thriller. I ...</td>\n",
       "      <td>Tue Nov 15 11:29:22 -0800 2016</td>\n",
       "      <td>Mon Mar 20 23:40:27 -0700 2017</td>\n",
       "      <td>Sat Mar 18 23:22:42 -0700 2017</td>\n",
       "      <td>Fri Mar 17 23:45:40 -0700 2017</td>\n",
       "    </tr>\n",
       "  </tbody>\n",
       "</table>\n",
       "</div>"
      ],
      "text/plain": [
       "                            user_id   book_id  \\\n",
       "0  8842281e1d1347389f2ab93d60773d4d   6392944   \n",
       "1  8842281e1d1347389f2ab93d60773d4d   2279538   \n",
       "2  8842281e1d1347389f2ab93d60773d4d  20821043   \n",
       "3  8842281e1d1347389f2ab93d60773d4d  31184479   \n",
       "4  8842281e1d1347389f2ab93d60773d4d  28684704   \n",
       "\n",
       "                          review_id  is_read  rating  \\\n",
       "0  5e212a62bced17b4dbe41150e5bb9037     True       3   \n",
       "1  556e9e3f00fb5b7e4eaa116764b771b0    False       0   \n",
       "2  4b15f8a08f04a17f9a47f2b76fec21e5    False       0   \n",
       "3  0b9fc382ad38c5804ec46df84d66be6e    False       0   \n",
       "4  2ede853b14dc4583f96cf5d120af636f     True       3   \n",
       "\n",
       "                              review_text_incomplete  \\\n",
       "0  I haven't read a fun mystery book in a while a...   \n",
       "1                                                      \n",
       "2                                                      \n",
       "3                                                      \n",
       "4  A fun, fast paced science fiction thriller. I ...   \n",
       "\n",
       "                       date_added                    date_updated  \\\n",
       "0  Mon Jul 24 02:48:17 -0700 2017  Sun Jul 30 09:28:03 -0700 2017   \n",
       "1  Wed Mar 29 00:27:14 -0700 2017  Wed Mar 29 00:27:14 -0700 2017   \n",
       "2  Mon Mar 27 22:52:11 -0700 2017  Mon Mar 27 22:52:12 -0700 2017   \n",
       "3  Fri Jan 06 16:22:46 -0800 2017  Fri Jan 06 16:22:46 -0800 2017   \n",
       "4  Tue Nov 15 11:29:22 -0800 2016  Mon Mar 20 23:40:27 -0700 2017   \n",
       "\n",
       "                          read_at                      started_at  \n",
       "0  Tue Jul 25 00:00:00 -0700 2017  Mon Jul 24 00:00:00 -0700 2017  \n",
       "1                                                                  \n",
       "2                                                                  \n",
       "3                                                                  \n",
       "4  Sat Mar 18 23:22:42 -0700 2017  Fri Mar 17 23:45:40 -0700 2017  "
      ]
     },
     "execution_count": 33,
     "metadata": {},
     "output_type": "execute_result"
    }
   ],
   "source": [
    "dataframe2.head()"
   ]
  },
  {
   "cell_type": "markdown",
   "id": "b35541e8",
   "metadata": {},
   "source": [
    "__Get only the rows corresponding to the books from books_metadata_final.json file__"
   ]
  },
  {
   "cell_type": "code",
   "execution_count": 34,
   "id": "daf8ae9f",
   "metadata": {},
   "outputs": [],
   "source": [
    "books_interactions_comics = dataframe2[dataframe2['book_id'].isin(books_metadata_final['book_id'])]"
   ]
  },
  {
   "cell_type": "code",
   "execution_count": 35,
   "id": "66a551f4",
   "metadata": {},
   "outputs": [
    {
     "data": {
      "text/html": [
       "<div>\n",
       "<style scoped>\n",
       "    .dataframe tbody tr th:only-of-type {\n",
       "        vertical-align: middle;\n",
       "    }\n",
       "\n",
       "    .dataframe tbody tr th {\n",
       "        vertical-align: top;\n",
       "    }\n",
       "\n",
       "    .dataframe thead th {\n",
       "        text-align: right;\n",
       "    }\n",
       "</style>\n",
       "<table border=\"1\" class=\"dataframe\">\n",
       "  <thead>\n",
       "    <tr style=\"text-align: right;\">\n",
       "      <th></th>\n",
       "      <th>user_id</th>\n",
       "      <th>book_id</th>\n",
       "      <th>review_id</th>\n",
       "      <th>is_read</th>\n",
       "      <th>rating</th>\n",
       "      <th>review_text_incomplete</th>\n",
       "      <th>date_added</th>\n",
       "      <th>date_updated</th>\n",
       "      <th>read_at</th>\n",
       "      <th>started_at</th>\n",
       "    </tr>\n",
       "  </thead>\n",
       "  <tbody>\n",
       "    <tr>\n",
       "      <th>2</th>\n",
       "      <td>8842281e1d1347389f2ab93d60773d4d</td>\n",
       "      <td>20821043</td>\n",
       "      <td>4b15f8a08f04a17f9a47f2b76fec21e5</td>\n",
       "      <td>False</td>\n",
       "      <td>0</td>\n",
       "      <td></td>\n",
       "      <td>Mon Mar 27 22:52:11 -0700 2017</td>\n",
       "      <td>Mon Mar 27 22:52:12 -0700 2017</td>\n",
       "      <td></td>\n",
       "      <td></td>\n",
       "    </tr>\n",
       "    <tr>\n",
       "      <th>3</th>\n",
       "      <td>8842281e1d1347389f2ab93d60773d4d</td>\n",
       "      <td>31184479</td>\n",
       "      <td>0b9fc382ad38c5804ec46df84d66be6e</td>\n",
       "      <td>False</td>\n",
       "      <td>0</td>\n",
       "      <td></td>\n",
       "      <td>Fri Jan 06 16:22:46 -0800 2017</td>\n",
       "      <td>Fri Jan 06 16:22:46 -0800 2017</td>\n",
       "      <td></td>\n",
       "      <td></td>\n",
       "    </tr>\n",
       "    <tr>\n",
       "      <th>4</th>\n",
       "      <td>8842281e1d1347389f2ab93d60773d4d</td>\n",
       "      <td>28684704</td>\n",
       "      <td>2ede853b14dc4583f96cf5d120af636f</td>\n",
       "      <td>True</td>\n",
       "      <td>3</td>\n",
       "      <td>A fun, fast paced science fiction thriller. I ...</td>\n",
       "      <td>Tue Nov 15 11:29:22 -0800 2016</td>\n",
       "      <td>Mon Mar 20 23:40:27 -0700 2017</td>\n",
       "      <td>Sat Mar 18 23:22:42 -0700 2017</td>\n",
       "      <td>Fri Mar 17 23:45:40 -0700 2017</td>\n",
       "    </tr>\n",
       "    <tr>\n",
       "      <th>5</th>\n",
       "      <td>8842281e1d1347389f2ab93d60773d4d</td>\n",
       "      <td>32283133</td>\n",
       "      <td>8e4d61801907e591018bdc3442a9cf2b</td>\n",
       "      <td>False</td>\n",
       "      <td>0</td>\n",
       "      <td>&lt;a target=\"_blank\" href=\"http://www.telegraph....</td>\n",
       "      <td>Tue Nov 01 11:09:18 -0700 2016</td>\n",
       "      <td>Tue Nov 01 11:09:44 -0700 2016</td>\n",
       "      <td></td>\n",
       "      <td></td>\n",
       "    </tr>\n",
       "    <tr>\n",
       "      <th>6</th>\n",
       "      <td>8842281e1d1347389f2ab93d60773d4d</td>\n",
       "      <td>17288661</td>\n",
       "      <td>62083867d5baac6f82ebea10ae5a2843</td>\n",
       "      <td>False</td>\n",
       "      <td>0</td>\n",
       "      <td></td>\n",
       "      <td>Mon Jul 11 21:46:06 -0700 2016</td>\n",
       "      <td>Mon Jul 11 21:46:06 -0700 2016</td>\n",
       "      <td></td>\n",
       "      <td></td>\n",
       "    </tr>\n",
       "  </tbody>\n",
       "</table>\n",
       "</div>"
      ],
      "text/plain": [
       "                            user_id   book_id  \\\n",
       "2  8842281e1d1347389f2ab93d60773d4d  20821043   \n",
       "3  8842281e1d1347389f2ab93d60773d4d  31184479   \n",
       "4  8842281e1d1347389f2ab93d60773d4d  28684704   \n",
       "5  8842281e1d1347389f2ab93d60773d4d  32283133   \n",
       "6  8842281e1d1347389f2ab93d60773d4d  17288661   \n",
       "\n",
       "                          review_id  is_read  rating  \\\n",
       "2  4b15f8a08f04a17f9a47f2b76fec21e5    False       0   \n",
       "3  0b9fc382ad38c5804ec46df84d66be6e    False       0   \n",
       "4  2ede853b14dc4583f96cf5d120af636f     True       3   \n",
       "5  8e4d61801907e591018bdc3442a9cf2b    False       0   \n",
       "6  62083867d5baac6f82ebea10ae5a2843    False       0   \n",
       "\n",
       "                              review_text_incomplete  \\\n",
       "2                                                      \n",
       "3                                                      \n",
       "4  A fun, fast paced science fiction thriller. I ...   \n",
       "5  <a target=\"_blank\" href=\"http://www.telegraph....   \n",
       "6                                                      \n",
       "\n",
       "                       date_added                    date_updated  \\\n",
       "2  Mon Mar 27 22:52:11 -0700 2017  Mon Mar 27 22:52:12 -0700 2017   \n",
       "3  Fri Jan 06 16:22:46 -0800 2017  Fri Jan 06 16:22:46 -0800 2017   \n",
       "4  Tue Nov 15 11:29:22 -0800 2016  Mon Mar 20 23:40:27 -0700 2017   \n",
       "5  Tue Nov 01 11:09:18 -0700 2016  Tue Nov 01 11:09:44 -0700 2016   \n",
       "6  Mon Jul 11 21:46:06 -0700 2016  Mon Jul 11 21:46:06 -0700 2016   \n",
       "\n",
       "                          read_at                      started_at  \n",
       "2                                                                  \n",
       "3                                                                  \n",
       "4  Sat Mar 18 23:22:42 -0700 2017  Fri Mar 17 23:45:40 -0700 2017  \n",
       "5                                                                  \n",
       "6                                                                  "
      ]
     },
     "execution_count": 35,
     "metadata": {},
     "output_type": "execute_result"
    }
   ],
   "source": [
    "books_interactions_comics.head()"
   ]
  },
  {
   "cell_type": "code",
   "execution_count": 36,
   "id": "1999fc43",
   "metadata": {},
   "outputs": [
    {
     "data": {
      "text/plain": [
       "(15045017, 10)"
      ]
     },
     "execution_count": 36,
     "metadata": {},
     "output_type": "execute_result"
    }
   ],
   "source": [
    "books_interactions_comics.shape"
   ]
  },
  {
   "cell_type": "markdown",
   "id": "7c42c2ad",
   "metadata": {},
   "source": [
    "__Get only columns used for project__\n",
    "* Following columns be used for the project\n",
    "    * user_id\n",
    "    * book_id\n",
    "    * review_id\n",
    "    * is_read\n",
    "    * rating\n",
    "    * date_added\n",
    "    * date_updated"
   ]
  },
  {
   "cell_type": "code",
   "execution_count": 37,
   "id": "2bd281cf",
   "metadata": {},
   "outputs": [],
   "source": [
    "books_interactions_final = books_interactions_comics[['user_id', 'book_id', 'review_id', 'is_read', 'rating', 'date_added', 'date_updated']].reset_index()\n",
    "interaction_columns = books_interactions_final.columns"
   ]
  },
  {
   "cell_type": "code",
   "execution_count": 38,
   "id": "70504457",
   "metadata": {},
   "outputs": [
    {
     "data": {
      "text/plain": [
       "Index(['index', 'user_id', 'book_id', 'review_id', 'is_read', 'rating',\n",
       "       'date_added', 'date_updated'],\n",
       "      dtype='object')"
      ]
     },
     "execution_count": 38,
     "metadata": {},
     "output_type": "execute_result"
    }
   ],
   "source": [
    "interaction_columns"
   ]
  },
  {
   "cell_type": "code",
   "execution_count": 39,
   "id": "121bf7fd",
   "metadata": {},
   "outputs": [
    {
     "data": {
      "text/html": [
       "<div>\n",
       "<style scoped>\n",
       "    .dataframe tbody tr th:only-of-type {\n",
       "        vertical-align: middle;\n",
       "    }\n",
       "\n",
       "    .dataframe tbody tr th {\n",
       "        vertical-align: top;\n",
       "    }\n",
       "\n",
       "    .dataframe thead th {\n",
       "        text-align: right;\n",
       "    }\n",
       "</style>\n",
       "<table border=\"1\" class=\"dataframe\">\n",
       "  <thead>\n",
       "    <tr style=\"text-align: right;\">\n",
       "      <th></th>\n",
       "      <th>index</th>\n",
       "      <th>user_id</th>\n",
       "      <th>book_id</th>\n",
       "      <th>review_id</th>\n",
       "      <th>is_read</th>\n",
       "      <th>rating</th>\n",
       "      <th>date_added</th>\n",
       "      <th>date_updated</th>\n",
       "    </tr>\n",
       "  </thead>\n",
       "  <tbody>\n",
       "    <tr>\n",
       "      <th>0</th>\n",
       "      <td>2</td>\n",
       "      <td>8842281e1d1347389f2ab93d60773d4d</td>\n",
       "      <td>20821043</td>\n",
       "      <td>4b15f8a08f04a17f9a47f2b76fec21e5</td>\n",
       "      <td>False</td>\n",
       "      <td>0</td>\n",
       "      <td>Mon Mar 27 22:52:11 -0700 2017</td>\n",
       "      <td>Mon Mar 27 22:52:12 -0700 2017</td>\n",
       "    </tr>\n",
       "    <tr>\n",
       "      <th>1</th>\n",
       "      <td>3</td>\n",
       "      <td>8842281e1d1347389f2ab93d60773d4d</td>\n",
       "      <td>31184479</td>\n",
       "      <td>0b9fc382ad38c5804ec46df84d66be6e</td>\n",
       "      <td>False</td>\n",
       "      <td>0</td>\n",
       "      <td>Fri Jan 06 16:22:46 -0800 2017</td>\n",
       "      <td>Fri Jan 06 16:22:46 -0800 2017</td>\n",
       "    </tr>\n",
       "    <tr>\n",
       "      <th>2</th>\n",
       "      <td>4</td>\n",
       "      <td>8842281e1d1347389f2ab93d60773d4d</td>\n",
       "      <td>28684704</td>\n",
       "      <td>2ede853b14dc4583f96cf5d120af636f</td>\n",
       "      <td>True</td>\n",
       "      <td>3</td>\n",
       "      <td>Tue Nov 15 11:29:22 -0800 2016</td>\n",
       "      <td>Mon Mar 20 23:40:27 -0700 2017</td>\n",
       "    </tr>\n",
       "    <tr>\n",
       "      <th>3</th>\n",
       "      <td>5</td>\n",
       "      <td>8842281e1d1347389f2ab93d60773d4d</td>\n",
       "      <td>32283133</td>\n",
       "      <td>8e4d61801907e591018bdc3442a9cf2b</td>\n",
       "      <td>False</td>\n",
       "      <td>0</td>\n",
       "      <td>Tue Nov 01 11:09:18 -0700 2016</td>\n",
       "      <td>Tue Nov 01 11:09:44 -0700 2016</td>\n",
       "    </tr>\n",
       "    <tr>\n",
       "      <th>4</th>\n",
       "      <td>6</td>\n",
       "      <td>8842281e1d1347389f2ab93d60773d4d</td>\n",
       "      <td>17288661</td>\n",
       "      <td>62083867d5baac6f82ebea10ae5a2843</td>\n",
       "      <td>False</td>\n",
       "      <td>0</td>\n",
       "      <td>Mon Jul 11 21:46:06 -0700 2016</td>\n",
       "      <td>Mon Jul 11 21:46:06 -0700 2016</td>\n",
       "    </tr>\n",
       "  </tbody>\n",
       "</table>\n",
       "</div>"
      ],
      "text/plain": [
       "   index                           user_id   book_id  \\\n",
       "0      2  8842281e1d1347389f2ab93d60773d4d  20821043   \n",
       "1      3  8842281e1d1347389f2ab93d60773d4d  31184479   \n",
       "2      4  8842281e1d1347389f2ab93d60773d4d  28684704   \n",
       "3      5  8842281e1d1347389f2ab93d60773d4d  32283133   \n",
       "4      6  8842281e1d1347389f2ab93d60773d4d  17288661   \n",
       "\n",
       "                          review_id  is_read  rating  \\\n",
       "0  4b15f8a08f04a17f9a47f2b76fec21e5    False       0   \n",
       "1  0b9fc382ad38c5804ec46df84d66be6e    False       0   \n",
       "2  2ede853b14dc4583f96cf5d120af636f     True       3   \n",
       "3  8e4d61801907e591018bdc3442a9cf2b    False       0   \n",
       "4  62083867d5baac6f82ebea10ae5a2843    False       0   \n",
       "\n",
       "                       date_added                    date_updated  \n",
       "0  Mon Mar 27 22:52:11 -0700 2017  Mon Mar 27 22:52:12 -0700 2017  \n",
       "1  Fri Jan 06 16:22:46 -0800 2017  Fri Jan 06 16:22:46 -0800 2017  \n",
       "2  Tue Nov 15 11:29:22 -0800 2016  Mon Mar 20 23:40:27 -0700 2017  \n",
       "3  Tue Nov 01 11:09:18 -0700 2016  Tue Nov 01 11:09:44 -0700 2016  \n",
       "4  Mon Jul 11 21:46:06 -0700 2016  Mon Jul 11 21:46:06 -0700 2016  "
      ]
     },
     "execution_count": 39,
     "metadata": {},
     "output_type": "execute_result"
    }
   ],
   "source": [
    "books_interactions_final.head()"
   ]
  },
  {
   "cell_type": "markdown",
   "id": "5d462629",
   "metadata": {},
   "source": [
    "__Drop rows having null values__"
   ]
  },
  {
   "cell_type": "code",
   "execution_count": 40,
   "id": "da5cb50a",
   "metadata": {},
   "outputs": [],
   "source": [
    "drop_rows_interaction = []\n",
    "for rows in range(len(books_interactions_final)):\n",
    "    useful = 1\n",
    "    for cols in interaction_columns:\n",
    "        if(books_interactions_final[cols][rows] == ''):\n",
    "            useful = 0\n",
    "            break\n",
    "        else:\n",
    "            useful = 1\n",
    "    if(useful == 0):\n",
    "        drop_rows_interaction.append(rows)"
   ]
  },
  {
   "cell_type": "code",
   "execution_count": 41,
   "id": "11bf17c6",
   "metadata": {},
   "outputs": [
    {
     "data": {
      "text/plain": [
       "0"
      ]
     },
     "execution_count": 41,
     "metadata": {},
     "output_type": "execute_result"
    }
   ],
   "source": [
    "len(drop_rows_interaction)"
   ]
  },
  {
   "cell_type": "markdown",
   "id": "e53b75ed",
   "metadata": {},
   "source": [
    "__Export books_interactions_final__"
   ]
  },
  {
   "cell_type": "code",
   "execution_count": 42,
   "id": "ed9721bc",
   "metadata": {},
   "outputs": [],
   "source": [
    "books_interactions_final.to_json('final_dataset/books_interactions_thriller.json')"
   ]
  },
  {
   "cell_type": "markdown",
   "id": "45fb0fc8",
   "metadata": {},
   "source": [
    "# goodreads_reviews_mystery_thriller_crime dataset"
   ]
  },
  {
   "cell_type": "code",
   "execution_count": 43,
   "id": "54c64be5",
   "metadata": {},
   "outputs": [],
   "source": [
    "dataframe3 = pd.read_json('goodreads_reviews_mystery_thriller_crime.json', lines=True)"
   ]
  },
  {
   "cell_type": "code",
   "execution_count": 44,
   "id": "b2efdcaf",
   "metadata": {},
   "outputs": [
    {
     "data": {
      "text/html": [
       "<div>\n",
       "<style scoped>\n",
       "    .dataframe tbody tr th:only-of-type {\n",
       "        vertical-align: middle;\n",
       "    }\n",
       "\n",
       "    .dataframe tbody tr th {\n",
       "        vertical-align: top;\n",
       "    }\n",
       "\n",
       "    .dataframe thead th {\n",
       "        text-align: right;\n",
       "    }\n",
       "</style>\n",
       "<table border=\"1\" class=\"dataframe\">\n",
       "  <thead>\n",
       "    <tr style=\"text-align: right;\">\n",
       "      <th></th>\n",
       "      <th>user_id</th>\n",
       "      <th>book_id</th>\n",
       "      <th>review_id</th>\n",
       "      <th>rating</th>\n",
       "      <th>review_text</th>\n",
       "      <th>date_added</th>\n",
       "      <th>date_updated</th>\n",
       "      <th>read_at</th>\n",
       "      <th>started_at</th>\n",
       "      <th>n_votes</th>\n",
       "      <th>n_comments</th>\n",
       "    </tr>\n",
       "  </thead>\n",
       "  <tbody>\n",
       "    <tr>\n",
       "      <th>0</th>\n",
       "      <td>8842281e1d1347389f2ab93d60773d4d</td>\n",
       "      <td>6392944</td>\n",
       "      <td>5e212a62bced17b4dbe41150e5bb9037</td>\n",
       "      <td>3</td>\n",
       "      <td>I haven't read a fun mystery book in a while a...</td>\n",
       "      <td>Mon Jul 24 02:48:17 -0700 2017</td>\n",
       "      <td>Sun Jul 30 09:28:03 -0700 2017</td>\n",
       "      <td>Tue Jul 25 00:00:00 -0700 2017</td>\n",
       "      <td>Mon Jul 24 00:00:00 -0700 2017</td>\n",
       "      <td>6</td>\n",
       "      <td>0</td>\n",
       "    </tr>\n",
       "    <tr>\n",
       "      <th>1</th>\n",
       "      <td>8842281e1d1347389f2ab93d60773d4d</td>\n",
       "      <td>28684704</td>\n",
       "      <td>2ede853b14dc4583f96cf5d120af636f</td>\n",
       "      <td>3</td>\n",
       "      <td>A fun, fast paced science fiction thriller. I ...</td>\n",
       "      <td>Tue Nov 15 11:29:22 -0800 2016</td>\n",
       "      <td>Mon Mar 20 23:40:27 -0700 2017</td>\n",
       "      <td>Sat Mar 18 23:22:42 -0700 2017</td>\n",
       "      <td>Fri Mar 17 23:45:40 -0700 2017</td>\n",
       "      <td>22</td>\n",
       "      <td>0</td>\n",
       "    </tr>\n",
       "    <tr>\n",
       "      <th>2</th>\n",
       "      <td>8842281e1d1347389f2ab93d60773d4d</td>\n",
       "      <td>32283133</td>\n",
       "      <td>8e4d61801907e591018bdc3442a9cf2b</td>\n",
       "      <td>0</td>\n",
       "      <td>http://www.telegraph.co.uk/culture/10...</td>\n",
       "      <td>Tue Nov 01 11:09:18 -0700 2016</td>\n",
       "      <td>Tue Nov 01 11:09:44 -0700 2016</td>\n",
       "      <td></td>\n",
       "      <td></td>\n",
       "      <td>9</td>\n",
       "      <td>0</td>\n",
       "    </tr>\n",
       "    <tr>\n",
       "      <th>3</th>\n",
       "      <td>8842281e1d1347389f2ab93d60773d4d</td>\n",
       "      <td>17860739</td>\n",
       "      <td>022bb6daffa49adc27f6b20b6ebeb37d</td>\n",
       "      <td>4</td>\n",
       "      <td>An amazing and unique creation: JJ Abrams and ...</td>\n",
       "      <td>Wed Mar 26 13:51:30 -0700 2014</td>\n",
       "      <td>Tue Sep 23 01:44:36 -0700 2014</td>\n",
       "      <td>Sun Sep 21 00:00:00 -0700 2014</td>\n",
       "      <td>Sat Jul 26 00:00:00 -0700 2014</td>\n",
       "      <td>7</td>\n",
       "      <td>0</td>\n",
       "    </tr>\n",
       "    <tr>\n",
       "      <th>4</th>\n",
       "      <td>8842281e1d1347389f2ab93d60773d4d</td>\n",
       "      <td>8694005</td>\n",
       "      <td>0e317947e1fd341f573192111bb2921d</td>\n",
       "      <td>3</td>\n",
       "      <td>The Name of the Rose is a thrilling Dan Brown-...</td>\n",
       "      <td>Wed Sep 08 01:22:27 -0700 2010</td>\n",
       "      <td>Wed Dec 14 12:30:43 -0800 2016</td>\n",
       "      <td>Mon Aug 10 00:00:00 -0700 2015</td>\n",
       "      <td>Mon Jul 20 00:00:00 -0700 2015</td>\n",
       "      <td>17</td>\n",
       "      <td>6</td>\n",
       "    </tr>\n",
       "  </tbody>\n",
       "</table>\n",
       "</div>"
      ],
      "text/plain": [
       "                            user_id   book_id  \\\n",
       "0  8842281e1d1347389f2ab93d60773d4d   6392944   \n",
       "1  8842281e1d1347389f2ab93d60773d4d  28684704   \n",
       "2  8842281e1d1347389f2ab93d60773d4d  32283133   \n",
       "3  8842281e1d1347389f2ab93d60773d4d  17860739   \n",
       "4  8842281e1d1347389f2ab93d60773d4d   8694005   \n",
       "\n",
       "                          review_id  rating  \\\n",
       "0  5e212a62bced17b4dbe41150e5bb9037       3   \n",
       "1  2ede853b14dc4583f96cf5d120af636f       3   \n",
       "2  8e4d61801907e591018bdc3442a9cf2b       0   \n",
       "3  022bb6daffa49adc27f6b20b6ebeb37d       4   \n",
       "4  0e317947e1fd341f573192111bb2921d       3   \n",
       "\n",
       "                                         review_text  \\\n",
       "0  I haven't read a fun mystery book in a while a...   \n",
       "1  A fun, fast paced science fiction thriller. I ...   \n",
       "2           http://www.telegraph.co.uk/culture/10...   \n",
       "3  An amazing and unique creation: JJ Abrams and ...   \n",
       "4  The Name of the Rose is a thrilling Dan Brown-...   \n",
       "\n",
       "                       date_added                    date_updated  \\\n",
       "0  Mon Jul 24 02:48:17 -0700 2017  Sun Jul 30 09:28:03 -0700 2017   \n",
       "1  Tue Nov 15 11:29:22 -0800 2016  Mon Mar 20 23:40:27 -0700 2017   \n",
       "2  Tue Nov 01 11:09:18 -0700 2016  Tue Nov 01 11:09:44 -0700 2016   \n",
       "3  Wed Mar 26 13:51:30 -0700 2014  Tue Sep 23 01:44:36 -0700 2014   \n",
       "4  Wed Sep 08 01:22:27 -0700 2010  Wed Dec 14 12:30:43 -0800 2016   \n",
       "\n",
       "                          read_at                      started_at  n_votes  \\\n",
       "0  Tue Jul 25 00:00:00 -0700 2017  Mon Jul 24 00:00:00 -0700 2017        6   \n",
       "1  Sat Mar 18 23:22:42 -0700 2017  Fri Mar 17 23:45:40 -0700 2017       22   \n",
       "2                                                                        9   \n",
       "3  Sun Sep 21 00:00:00 -0700 2014  Sat Jul 26 00:00:00 -0700 2014        7   \n",
       "4  Mon Aug 10 00:00:00 -0700 2015  Mon Jul 20 00:00:00 -0700 2015       17   \n",
       "\n",
       "   n_comments  \n",
       "0           0  \n",
       "1           0  \n",
       "2           0  \n",
       "3           0  \n",
       "4           6  "
      ]
     },
     "execution_count": 44,
     "metadata": {},
     "output_type": "execute_result"
    }
   ],
   "source": [
    "dataframe3.head()"
   ]
  },
  {
   "cell_type": "code",
   "execution_count": 45,
   "id": "600b37dd",
   "metadata": {},
   "outputs": [
    {
     "name": "stdout",
     "output_type": "stream",
     "text": [
      "<class 'pandas.core.frame.DataFrame'>\n",
      "RangeIndex: 1849236 entries, 0 to 1849235\n",
      "Data columns (total 11 columns):\n",
      " #   Column        Dtype \n",
      "---  ------        ----- \n",
      " 0   user_id       object\n",
      " 1   book_id       int64 \n",
      " 2   review_id     object\n",
      " 3   rating        int64 \n",
      " 4   review_text   object\n",
      " 5   date_added    object\n",
      " 6   date_updated  object\n",
      " 7   read_at       object\n",
      " 8   started_at    object\n",
      " 9   n_votes       int64 \n",
      " 10  n_comments    int64 \n",
      "dtypes: int64(4), object(7)\n",
      "memory usage: 155.2+ MB\n"
     ]
    }
   ],
   "source": [
    "dataframe3.info()"
   ]
  },
  {
   "cell_type": "markdown",
   "id": "2431c646",
   "metadata": {},
   "source": [
    "__Get only the rows corresponding to the books from books_metadata_final.json file__"
   ]
  },
  {
   "cell_type": "code",
   "execution_count": 46,
   "id": "85798e8a",
   "metadata": {},
   "outputs": [],
   "source": [
    "books_review_comics = dataframe3[dataframe3['book_id'].isin(books_metadata_final['book_id'])]"
   ]
  },
  {
   "cell_type": "code",
   "execution_count": 47,
   "id": "650344ff",
   "metadata": {},
   "outputs": [
    {
     "data": {
      "text/html": [
       "<div>\n",
       "<style scoped>\n",
       "    .dataframe tbody tr th:only-of-type {\n",
       "        vertical-align: middle;\n",
       "    }\n",
       "\n",
       "    .dataframe tbody tr th {\n",
       "        vertical-align: top;\n",
       "    }\n",
       "\n",
       "    .dataframe thead th {\n",
       "        text-align: right;\n",
       "    }\n",
       "</style>\n",
       "<table border=\"1\" class=\"dataframe\">\n",
       "  <thead>\n",
       "    <tr style=\"text-align: right;\">\n",
       "      <th></th>\n",
       "      <th>user_id</th>\n",
       "      <th>book_id</th>\n",
       "      <th>review_id</th>\n",
       "      <th>rating</th>\n",
       "      <th>review_text</th>\n",
       "      <th>date_added</th>\n",
       "      <th>date_updated</th>\n",
       "      <th>read_at</th>\n",
       "      <th>started_at</th>\n",
       "      <th>n_votes</th>\n",
       "      <th>n_comments</th>\n",
       "    </tr>\n",
       "  </thead>\n",
       "  <tbody>\n",
       "    <tr>\n",
       "      <th>1</th>\n",
       "      <td>8842281e1d1347389f2ab93d60773d4d</td>\n",
       "      <td>28684704</td>\n",
       "      <td>2ede853b14dc4583f96cf5d120af636f</td>\n",
       "      <td>3</td>\n",
       "      <td>A fun, fast paced science fiction thriller. I ...</td>\n",
       "      <td>Tue Nov 15 11:29:22 -0800 2016</td>\n",
       "      <td>Mon Mar 20 23:40:27 -0700 2017</td>\n",
       "      <td>Sat Mar 18 23:22:42 -0700 2017</td>\n",
       "      <td>Fri Mar 17 23:45:40 -0700 2017</td>\n",
       "      <td>22</td>\n",
       "      <td>0</td>\n",
       "    </tr>\n",
       "    <tr>\n",
       "      <th>2</th>\n",
       "      <td>8842281e1d1347389f2ab93d60773d4d</td>\n",
       "      <td>32283133</td>\n",
       "      <td>8e4d61801907e591018bdc3442a9cf2b</td>\n",
       "      <td>0</td>\n",
       "      <td>http://www.telegraph.co.uk/culture/10...</td>\n",
       "      <td>Tue Nov 01 11:09:18 -0700 2016</td>\n",
       "      <td>Tue Nov 01 11:09:44 -0700 2016</td>\n",
       "      <td></td>\n",
       "      <td></td>\n",
       "      <td>9</td>\n",
       "      <td>0</td>\n",
       "    </tr>\n",
       "    <tr>\n",
       "      <th>3</th>\n",
       "      <td>8842281e1d1347389f2ab93d60773d4d</td>\n",
       "      <td>17860739</td>\n",
       "      <td>022bb6daffa49adc27f6b20b6ebeb37d</td>\n",
       "      <td>4</td>\n",
       "      <td>An amazing and unique creation: JJ Abrams and ...</td>\n",
       "      <td>Wed Mar 26 13:51:30 -0700 2014</td>\n",
       "      <td>Tue Sep 23 01:44:36 -0700 2014</td>\n",
       "      <td>Sun Sep 21 00:00:00 -0700 2014</td>\n",
       "      <td>Sat Jul 26 00:00:00 -0700 2014</td>\n",
       "      <td>7</td>\n",
       "      <td>0</td>\n",
       "    </tr>\n",
       "    <tr>\n",
       "      <th>4</th>\n",
       "      <td>8842281e1d1347389f2ab93d60773d4d</td>\n",
       "      <td>8694005</td>\n",
       "      <td>0e317947e1fd341f573192111bb2921d</td>\n",
       "      <td>3</td>\n",
       "      <td>The Name of the Rose is a thrilling Dan Brown-...</td>\n",
       "      <td>Wed Sep 08 01:22:27 -0700 2010</td>\n",
       "      <td>Wed Dec 14 12:30:43 -0800 2016</td>\n",
       "      <td>Mon Aug 10 00:00:00 -0700 2015</td>\n",
       "      <td>Mon Jul 20 00:00:00 -0700 2015</td>\n",
       "      <td>17</td>\n",
       "      <td>6</td>\n",
       "    </tr>\n",
       "    <tr>\n",
       "      <th>6</th>\n",
       "      <td>8842281e1d1347389f2ab93d60773d4d</td>\n",
       "      <td>2429135</td>\n",
       "      <td>efee7a3f620ed640366226caa7b138f0</td>\n",
       "      <td>5</td>\n",
       "      <td>I haven't stayed up until 5am to finish a book...</td>\n",
       "      <td>Mon Mar 15 14:05:04 -0700 2010</td>\n",
       "      <td>Wed Mar 22 11:46:43 -0700 2017</td>\n",
       "      <td>Sun Mar 28 00:00:00 -0700 2010</td>\n",
       "      <td>Sun Mar 21 00:00:00 -0700 2010</td>\n",
       "      <td>13</td>\n",
       "      <td>10</td>\n",
       "    </tr>\n",
       "  </tbody>\n",
       "</table>\n",
       "</div>"
      ],
      "text/plain": [
       "                            user_id   book_id  \\\n",
       "1  8842281e1d1347389f2ab93d60773d4d  28684704   \n",
       "2  8842281e1d1347389f2ab93d60773d4d  32283133   \n",
       "3  8842281e1d1347389f2ab93d60773d4d  17860739   \n",
       "4  8842281e1d1347389f2ab93d60773d4d   8694005   \n",
       "6  8842281e1d1347389f2ab93d60773d4d   2429135   \n",
       "\n",
       "                          review_id  rating  \\\n",
       "1  2ede853b14dc4583f96cf5d120af636f       3   \n",
       "2  8e4d61801907e591018bdc3442a9cf2b       0   \n",
       "3  022bb6daffa49adc27f6b20b6ebeb37d       4   \n",
       "4  0e317947e1fd341f573192111bb2921d       3   \n",
       "6  efee7a3f620ed640366226caa7b138f0       5   \n",
       "\n",
       "                                         review_text  \\\n",
       "1  A fun, fast paced science fiction thriller. I ...   \n",
       "2           http://www.telegraph.co.uk/culture/10...   \n",
       "3  An amazing and unique creation: JJ Abrams and ...   \n",
       "4  The Name of the Rose is a thrilling Dan Brown-...   \n",
       "6  I haven't stayed up until 5am to finish a book...   \n",
       "\n",
       "                       date_added                    date_updated  \\\n",
       "1  Tue Nov 15 11:29:22 -0800 2016  Mon Mar 20 23:40:27 -0700 2017   \n",
       "2  Tue Nov 01 11:09:18 -0700 2016  Tue Nov 01 11:09:44 -0700 2016   \n",
       "3  Wed Mar 26 13:51:30 -0700 2014  Tue Sep 23 01:44:36 -0700 2014   \n",
       "4  Wed Sep 08 01:22:27 -0700 2010  Wed Dec 14 12:30:43 -0800 2016   \n",
       "6  Mon Mar 15 14:05:04 -0700 2010  Wed Mar 22 11:46:43 -0700 2017   \n",
       "\n",
       "                          read_at                      started_at  n_votes  \\\n",
       "1  Sat Mar 18 23:22:42 -0700 2017  Fri Mar 17 23:45:40 -0700 2017       22   \n",
       "2                                                                        9   \n",
       "3  Sun Sep 21 00:00:00 -0700 2014  Sat Jul 26 00:00:00 -0700 2014        7   \n",
       "4  Mon Aug 10 00:00:00 -0700 2015  Mon Jul 20 00:00:00 -0700 2015       17   \n",
       "6  Sun Mar 28 00:00:00 -0700 2010  Sun Mar 21 00:00:00 -0700 2010       13   \n",
       "\n",
       "   n_comments  \n",
       "1           0  \n",
       "2           0  \n",
       "3           0  \n",
       "4           6  \n",
       "6          10  "
      ]
     },
     "execution_count": 47,
     "metadata": {},
     "output_type": "execute_result"
    }
   ],
   "source": [
    "books_review_comics.head()"
   ]
  },
  {
   "cell_type": "markdown",
   "id": "2ca64109",
   "metadata": {},
   "source": [
    "__Get only columns used for the project__\n",
    "* Following columns may be used\n",
    "    * user_id\n",
    "    * book_id\n",
    "    * review_id\n",
    "    * rating\n",
    "    * review_text\n",
    "    * date_added\n",
    "    * date_updated\n",
    "    * read_at\n",
    "    * n_votes\n",
    "    * n_comments"
   ]
  },
  {
   "cell_type": "code",
   "execution_count": 48,
   "id": "e22f8841",
   "metadata": {},
   "outputs": [],
   "source": [
    "books_review_comics =  books_review_comics[['user_id','book_id','review_id','rating','review_text','date_added','date_updated','read_at', 'n_votes', 'n_comments']].reset_index()\n",
    "review_columns = books_review_comics.columns"
   ]
  },
  {
   "cell_type": "code",
   "execution_count": 49,
   "id": "8a43eabe",
   "metadata": {},
   "outputs": [
    {
     "data": {
      "text/plain": [
       "Index(['index', 'user_id', 'book_id', 'review_id', 'rating', 'review_text',\n",
       "       'date_added', 'date_updated', 'read_at', 'n_votes', 'n_comments'],\n",
       "      dtype='object')"
      ]
     },
     "execution_count": 49,
     "metadata": {},
     "output_type": "execute_result"
    }
   ],
   "source": [
    "review_columns"
   ]
  },
  {
   "cell_type": "code",
   "execution_count": 50,
   "id": "38184506",
   "metadata": {},
   "outputs": [
    {
     "name": "stdout",
     "output_type": "stream",
     "text": [
      "<class 'pandas.core.frame.DataFrame'>\n",
      "RangeIndex: 1056240 entries, 0 to 1056239\n",
      "Data columns (total 11 columns):\n",
      " #   Column        Non-Null Count    Dtype \n",
      "---  ------        --------------    ----- \n",
      " 0   index         1056240 non-null  int64 \n",
      " 1   user_id       1056240 non-null  object\n",
      " 2   book_id       1056240 non-null  int64 \n",
      " 3   review_id     1056240 non-null  object\n",
      " 4   rating        1056240 non-null  int64 \n",
      " 5   review_text   1056240 non-null  object\n",
      " 6   date_added    1056240 non-null  object\n",
      " 7   date_updated  1056240 non-null  object\n",
      " 8   read_at       1056240 non-null  object\n",
      " 9   n_votes       1056240 non-null  int64 \n",
      " 10  n_comments    1056240 non-null  int64 \n",
      "dtypes: int64(5), object(6)\n",
      "memory usage: 88.6+ MB\n"
     ]
    }
   ],
   "source": [
    "books_review_comics.info()"
   ]
  },
  {
   "cell_type": "markdown",
   "id": "4e8750f9",
   "metadata": {},
   "source": [
    "__Drop rows having null values__"
   ]
  },
  {
   "cell_type": "code",
   "execution_count": 51,
   "id": "3471c42c",
   "metadata": {},
   "outputs": [],
   "source": [
    "drop_rows_review = []\n",
    "for rows in range(len(books_review_comics)):\n",
    "    useful = 1\n",
    "    for cols in review_columns:\n",
    "        if(books_review_comics[cols][rows] == ''):\n",
    "            useful = 0\n",
    "            break\n",
    "        else:\n",
    "            useful = 1\n",
    "    if(useful == 0):\n",
    "        drop_rows_interaction.append(rows)"
   ]
  },
  {
   "cell_type": "code",
   "execution_count": 52,
   "id": "7c2ad6ab",
   "metadata": {},
   "outputs": [
    {
     "data": {
      "text/plain": [
       "0"
      ]
     },
     "execution_count": 52,
     "metadata": {},
     "output_type": "execute_result"
    }
   ],
   "source": [
    "len(drop_rows_review)"
   ]
  },
  {
   "cell_type": "code",
   "execution_count": 53,
   "id": "f966faaa",
   "metadata": {},
   "outputs": [
    {
     "data": {
      "text/html": [
       "<div>\n",
       "<style scoped>\n",
       "    .dataframe tbody tr th:only-of-type {\n",
       "        vertical-align: middle;\n",
       "    }\n",
       "\n",
       "    .dataframe tbody tr th {\n",
       "        vertical-align: top;\n",
       "    }\n",
       "\n",
       "    .dataframe thead th {\n",
       "        text-align: right;\n",
       "    }\n",
       "</style>\n",
       "<table border=\"1\" class=\"dataframe\">\n",
       "  <thead>\n",
       "    <tr style=\"text-align: right;\">\n",
       "      <th></th>\n",
       "      <th>index</th>\n",
       "      <th>user_id</th>\n",
       "      <th>book_id</th>\n",
       "      <th>review_id</th>\n",
       "      <th>rating</th>\n",
       "      <th>review_text</th>\n",
       "      <th>date_added</th>\n",
       "      <th>date_updated</th>\n",
       "      <th>read_at</th>\n",
       "      <th>n_votes</th>\n",
       "      <th>n_comments</th>\n",
       "    </tr>\n",
       "  </thead>\n",
       "  <tbody>\n",
       "    <tr>\n",
       "      <th>0</th>\n",
       "      <td>1</td>\n",
       "      <td>8842281e1d1347389f2ab93d60773d4d</td>\n",
       "      <td>28684704</td>\n",
       "      <td>2ede853b14dc4583f96cf5d120af636f</td>\n",
       "      <td>3</td>\n",
       "      <td>A fun, fast paced science fiction thriller. I ...</td>\n",
       "      <td>Tue Nov 15 11:29:22 -0800 2016</td>\n",
       "      <td>Mon Mar 20 23:40:27 -0700 2017</td>\n",
       "      <td>Sat Mar 18 23:22:42 -0700 2017</td>\n",
       "      <td>22</td>\n",
       "      <td>0</td>\n",
       "    </tr>\n",
       "    <tr>\n",
       "      <th>1</th>\n",
       "      <td>2</td>\n",
       "      <td>8842281e1d1347389f2ab93d60773d4d</td>\n",
       "      <td>32283133</td>\n",
       "      <td>8e4d61801907e591018bdc3442a9cf2b</td>\n",
       "      <td>0</td>\n",
       "      <td>http://www.telegraph.co.uk/culture/10...</td>\n",
       "      <td>Tue Nov 01 11:09:18 -0700 2016</td>\n",
       "      <td>Tue Nov 01 11:09:44 -0700 2016</td>\n",
       "      <td></td>\n",
       "      <td>9</td>\n",
       "      <td>0</td>\n",
       "    </tr>\n",
       "    <tr>\n",
       "      <th>2</th>\n",
       "      <td>3</td>\n",
       "      <td>8842281e1d1347389f2ab93d60773d4d</td>\n",
       "      <td>17860739</td>\n",
       "      <td>022bb6daffa49adc27f6b20b6ebeb37d</td>\n",
       "      <td>4</td>\n",
       "      <td>An amazing and unique creation: JJ Abrams and ...</td>\n",
       "      <td>Wed Mar 26 13:51:30 -0700 2014</td>\n",
       "      <td>Tue Sep 23 01:44:36 -0700 2014</td>\n",
       "      <td>Sun Sep 21 00:00:00 -0700 2014</td>\n",
       "      <td>7</td>\n",
       "      <td>0</td>\n",
       "    </tr>\n",
       "    <tr>\n",
       "      <th>3</th>\n",
       "      <td>4</td>\n",
       "      <td>8842281e1d1347389f2ab93d60773d4d</td>\n",
       "      <td>8694005</td>\n",
       "      <td>0e317947e1fd341f573192111bb2921d</td>\n",
       "      <td>3</td>\n",
       "      <td>The Name of the Rose is a thrilling Dan Brown-...</td>\n",
       "      <td>Wed Sep 08 01:22:27 -0700 2010</td>\n",
       "      <td>Wed Dec 14 12:30:43 -0800 2016</td>\n",
       "      <td>Mon Aug 10 00:00:00 -0700 2015</td>\n",
       "      <td>17</td>\n",
       "      <td>6</td>\n",
       "    </tr>\n",
       "    <tr>\n",
       "      <th>4</th>\n",
       "      <td>6</td>\n",
       "      <td>8842281e1d1347389f2ab93d60773d4d</td>\n",
       "      <td>2429135</td>\n",
       "      <td>efee7a3f620ed640366226caa7b138f0</td>\n",
       "      <td>5</td>\n",
       "      <td>I haven't stayed up until 5am to finish a book...</td>\n",
       "      <td>Mon Mar 15 14:05:04 -0700 2010</td>\n",
       "      <td>Wed Mar 22 11:46:43 -0700 2017</td>\n",
       "      <td>Sun Mar 28 00:00:00 -0700 2010</td>\n",
       "      <td>13</td>\n",
       "      <td>10</td>\n",
       "    </tr>\n",
       "  </tbody>\n",
       "</table>\n",
       "</div>"
      ],
      "text/plain": [
       "   index                           user_id   book_id  \\\n",
       "0      1  8842281e1d1347389f2ab93d60773d4d  28684704   \n",
       "1      2  8842281e1d1347389f2ab93d60773d4d  32283133   \n",
       "2      3  8842281e1d1347389f2ab93d60773d4d  17860739   \n",
       "3      4  8842281e1d1347389f2ab93d60773d4d   8694005   \n",
       "4      6  8842281e1d1347389f2ab93d60773d4d   2429135   \n",
       "\n",
       "                          review_id  rating  \\\n",
       "0  2ede853b14dc4583f96cf5d120af636f       3   \n",
       "1  8e4d61801907e591018bdc3442a9cf2b       0   \n",
       "2  022bb6daffa49adc27f6b20b6ebeb37d       4   \n",
       "3  0e317947e1fd341f573192111bb2921d       3   \n",
       "4  efee7a3f620ed640366226caa7b138f0       5   \n",
       "\n",
       "                                         review_text  \\\n",
       "0  A fun, fast paced science fiction thriller. I ...   \n",
       "1           http://www.telegraph.co.uk/culture/10...   \n",
       "2  An amazing and unique creation: JJ Abrams and ...   \n",
       "3  The Name of the Rose is a thrilling Dan Brown-...   \n",
       "4  I haven't stayed up until 5am to finish a book...   \n",
       "\n",
       "                       date_added                    date_updated  \\\n",
       "0  Tue Nov 15 11:29:22 -0800 2016  Mon Mar 20 23:40:27 -0700 2017   \n",
       "1  Tue Nov 01 11:09:18 -0700 2016  Tue Nov 01 11:09:44 -0700 2016   \n",
       "2  Wed Mar 26 13:51:30 -0700 2014  Tue Sep 23 01:44:36 -0700 2014   \n",
       "3  Wed Sep 08 01:22:27 -0700 2010  Wed Dec 14 12:30:43 -0800 2016   \n",
       "4  Mon Mar 15 14:05:04 -0700 2010  Wed Mar 22 11:46:43 -0700 2017   \n",
       "\n",
       "                          read_at  n_votes  n_comments  \n",
       "0  Sat Mar 18 23:22:42 -0700 2017       22           0  \n",
       "1                                        9           0  \n",
       "2  Sun Sep 21 00:00:00 -0700 2014        7           0  \n",
       "3  Mon Aug 10 00:00:00 -0700 2015       17           6  \n",
       "4  Sun Mar 28 00:00:00 -0700 2010       13          10  "
      ]
     },
     "execution_count": 53,
     "metadata": {},
     "output_type": "execute_result"
    }
   ],
   "source": [
    "books_review_comics.head()"
   ]
  },
  {
   "cell_type": "markdown",
   "id": "52d85ab3",
   "metadata": {},
   "source": [
    "__export final data to json__"
   ]
  },
  {
   "cell_type": "code",
   "execution_count": 54,
   "id": "743f31a3",
   "metadata": {},
   "outputs": [],
   "source": [
    "books_review_comics.to_json('final_dataset/books_review_thriller.json')"
   ]
  },
  {
   "cell_type": "code",
   "execution_count": null,
   "id": "2da5e256",
   "metadata": {},
   "outputs": [],
   "source": []
  }
 ],
 "metadata": {
  "kernelspec": {
   "display_name": "Python 3",
   "language": "python",
   "name": "python3"
  },
  "language_info": {
   "codemirror_mode": {
    "name": "ipython",
    "version": 3
   },
   "file_extension": ".py",
   "mimetype": "text/x-python",
   "name": "python",
   "nbconvert_exporter": "python",
   "pygments_lexer": "ipython3",
   "version": "3.8.5"
  }
 },
 "nbformat": 4,
 "nbformat_minor": 5
}
